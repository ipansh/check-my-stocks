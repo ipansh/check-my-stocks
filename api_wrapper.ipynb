{
 "cells": [
  {
   "cell_type": "code",
   "execution_count": 1,
   "metadata": {},
   "outputs": [],
   "source": [
    "import pandas as pd\n",
    "import requests\n",
    "\n",
    "from datetime import datetime\n",
    "import time\n",
    "\n",
    "from scrapy import Selector"
   ]
  },
  {
   "cell_type": "code",
   "execution_count": 2,
   "metadata": {},
   "outputs": [
    {
     "name": "stdout",
     "output_type": "stream",
     "text": [
      "ATVI ADBE AMD ALGN GOOGL GOOG AMZN AEP AMGN ADI ANSS AAPL AMAT ASML TEAM ADSK ADP BIDU BIIB BKNG AVGO CDNS CDW CERN CHTR CHKP CTAS CSCO CTSH CMCSA CPRT COST CRWD CSX DXCM DOCU DLTR EBAY EA EXC FAST FISV FOXA FOX GILD HON IDXX ILMN INCY INTC INTU ISRG JD KDP KLAC KHC LRCX LULU MAR MRVL MTCH MELI FB MCHP MU MSFT MRNA MDLZ MNST NTES NFLX NVDA NXPI ORLY OKTA PCAR PAYX PYPL PTON PEP PDD QCOM REGN ROST SGEN SIRI SWKS SPLK SBUX SNPS TMUS TSLA TXN TCOM VRSN VRSK VRTX WBA WDAY XEL XLNX ZM "
     ]
    },
    {
     "data": {
      "text/html": [
       "<div>\n",
       "<style scoped>\n",
       "    .dataframe tbody tr th:only-of-type {\n",
       "        vertical-align: middle;\n",
       "    }\n",
       "\n",
       "    .dataframe tbody tr th {\n",
       "        vertical-align: top;\n",
       "    }\n",
       "\n",
       "    .dataframe thead th {\n",
       "        text-align: right;\n",
       "    }\n",
       "</style>\n",
       "<table border=\"1\" class=\"dataframe\">\n",
       "  <thead>\n",
       "    <tr style=\"text-align: right;\">\n",
       "      <th></th>\n",
       "      <th>company_name</th>\n",
       "      <th>industry</th>\n",
       "      <th>sub_industry</th>\n",
       "      <th>ticker</th>\n",
       "    </tr>\n",
       "  </thead>\n",
       "  <tbody>\n",
       "    <tr>\n",
       "      <th>0</th>\n",
       "      <td>Activision Blizzard</td>\n",
       "      <td>Communication Services</td>\n",
       "      <td>Communication Services</td>\n",
       "      <td>ATVI</td>\n",
       "    </tr>\n",
       "    <tr>\n",
       "      <th>1</th>\n",
       "      <td>Adobe Inc.</td>\n",
       "      <td>Information Technology</td>\n",
       "      <td>Information Technology</td>\n",
       "      <td>ADBE</td>\n",
       "    </tr>\n",
       "    <tr>\n",
       "      <th>2</th>\n",
       "      <td>Advanced Micro Devices</td>\n",
       "      <td>Information Technology</td>\n",
       "      <td>Information Technology</td>\n",
       "      <td>AMD</td>\n",
       "    </tr>\n",
       "    <tr>\n",
       "      <th>3</th>\n",
       "      <td>Align Technology</td>\n",
       "      <td>Health Care</td>\n",
       "      <td>Health Care</td>\n",
       "      <td>ALGN</td>\n",
       "    </tr>\n",
       "  </tbody>\n",
       "</table>\n",
       "</div>"
      ],
      "text/plain": [
       "             company_name                industry            sub_industry  \\\n",
       "0     Activision Blizzard  Communication Services  Communication Services   \n",
       "1              Adobe Inc.  Information Technology  Information Technology   \n",
       "2  Advanced Micro Devices  Information Technology  Information Technology   \n",
       "3        Align Technology             Health Care             Health Care   \n",
       "\n",
       "  ticker  \n",
       "0   ATVI  \n",
       "1   ADBE  \n",
       "2    AMD  \n",
       "3   ALGN  "
      ]
     },
     "execution_count": 2,
     "metadata": {},
     "output_type": "execute_result"
    }
   ],
   "source": [
    "url = 'https://en.wikipedia.org/wiki/Nasdaq-100'\n",
    "\n",
    "html = requests.get(url).text\n",
    "sel = Selector(text = html)\n",
    "\n",
    "nasdaq100_df = pd.DataFrame()\n",
    "\n",
    "for n in range(2,104):\n",
    "    ticker = sel.xpath('//table[@id = \"constituents\"]/tbody/tr[{}]/td[2]'.format(n)).extract()[0].strip('</td>')\n",
    "    company_name = sel.xpath('//table[@id = \"constituents\"]/tbody/tr[{}]/td[1]/a/@title'.format(n)).get()\n",
    "    industry = sel.xpath('//table[@id = \"constituents\"]/tbody/tr[{}]/td[3]'.format(n)).get().strip('</td>')\n",
    "    sub_industry = sel.xpath('//table[@id = \"constituents\"]/tbody/tr[{}]/td[3]'.format(n)).get().strip('</td>')\n",
    "    new_list = [ticker, company_name, industry, sub_industry]\n",
    "    pd_series_row = pd.Series(new_list, index = ['ticker', 'company_name', 'industry', 'sub_industry'])\n",
    "    nasdaq100_df = nasdaq100_df.append(pd_series_row, ignore_index=True)\n",
    "    print(ticker, end = ' ')\n",
    "\n",
    "nasdaq100_df.head(4)"
   ]
  },
  {
   "cell_type": "code",
   "execution_count": 3,
   "metadata": {},
   "outputs": [],
   "source": [
    "def unix_to_date(unix_timestamp):\n",
    "    ts = int(unix_timestamp)\n",
    "    return datetime.utcfromtimestamp(ts).strftime('%Y-%m-%d')"
   ]
  },
  {
   "cell_type": "code",
   "execution_count": 4,
   "metadata": {},
   "outputs": [],
   "source": [
    "with open('/Users/ilya/Desktop/keys/yahoo_finance.txt','r') as file:\n",
    "    key = file.readlines()\n",
    "\n",
    "KEY = key[0]"
   ]
  },
  {
   "cell_type": "code",
   "execution_count": 5,
   "metadata": {},
   "outputs": [],
   "source": [
    "def get_weekly_history_df(symbol):\n",
    "    get_history_url = \"https://yh-finance.p.rapidapi.com/stock/v3/get-historical-data\"\n",
    "\n",
    "    querystring = {\"symbol\":symbol,\"region\":\"US\"}\n",
    "\n",
    "    headers = {\n",
    "    'x-rapidapi-host': \"yh-finance.p.rapidapi.com\",\n",
    "    'x-rapidapi-key': KEY\n",
    "    }\n",
    "\n",
    "    response = requests.request(\"GET\", get_history_url, headers=headers, params=querystring)\n",
    "\n",
    "    json_response = response.json()\n",
    "\n",
    "    weekly_history_df = pd.DataFrame(json_response['prices'])[['date','close']]\n",
    "    weekly_history_df.loc[:,'date'] = weekly_history_df['date'].apply(lambda x: unix_to_date(x))\n",
    "\n",
    "    weekly_history_df.loc[:,'week'] = [pd.Timestamp(date).week for date in weekly_history_df['date']]\n",
    "    weekly_history_df.loc[:,'year'] = [pd.Timestamp(date).year for date in weekly_history_df['date']]\n",
    "\n",
    "    weekly_history_df.loc[:,'close'] = weekly_history_df['close'].round(1)\n",
    "\n",
    "    return weekly_history_df[['date','year','week','close']]"
   ]
  },
  {
   "cell_type": "code",
   "execution_count": 60,
   "metadata": {},
   "outputs": [],
   "source": [
    "balance_sheet_url = \"https://yh-finance.p.rapidapi.com/stock/v2/get-balance-sheet\"\n",
    "\n",
    "querystring = {\"symbol\":\"ATVI\",\"region\":\"US\"}\n",
    "\n",
    "headers = {\n",
    "    'x-rapidapi-host': \"yh-finance.p.rapidapi.com\",\n",
    "    'x-rapidapi-key': KEY\n",
    "    }\n",
    "\n",
    "response = requests.request(\"GET\", balance_sheet_url, headers=headers, params=querystring)\n",
    "\n",
    "json_response = response.json()"
   ]
  },
  {
   "cell_type": "code",
   "execution_count": 71,
   "metadata": {},
   "outputs": [
    {
     "name": "stdout",
     "output_type": "stream",
     "text": [
      "dict_keys(['intangibleAssets', 'capitalSurplus', 'totalLiab', 'totalStockholderEquity', 'otherCurrentLiab', 'totalAssets', 'endDate', 'otherCurrentAssets', 'retainedEarnings', 'otherLiab', 'goodWill', 'treasuryStock', 'otherAssets', 'cash', 'totalCurrentLiabilities', 'deferredLongTermAssetCharges', 'otherStockholderEquity', 'propertyPlantEquipment', 'totalCurrentAssets', 'netTangibleAssets', 'shortTermInvestments', 'netReceivables', 'maxAge', 'longTermDebt', 'accountsPayable'])\n"
     ]
    }
   ],
   "source": [
    "for x in json_response['balanceSheetHistoryQuarterly']['balanceSheetStatements']:\n",
    "    print(x.keys())\n",
    "    break"
   ]
  },
  {
   "cell_type": "code",
   "execution_count": 72,
   "metadata": {},
   "outputs": [],
   "source": [
    "url = \"https://yh-finance.p.rapidapi.com/stock/v2/get-financials\"\n",
    "\n",
    "querystring = {\"symbol\":\"AMRN\",\"region\":\"US\"}\n",
    "\n",
    "headers = {\n",
    "    'x-rapidapi-host': \"yh-finance.p.rapidapi.com\",\n",
    "    'x-rapidapi-key': KEY\n",
    "    }\n",
    "\n",
    "response = requests.request(\"GET\", url, headers=headers, params=querystring).json()"
   ]
  },
  {
   "cell_type": "code",
   "execution_count": 78,
   "metadata": {},
   "outputs": [
    {
     "data": {
      "text/html": [
       "<div>\n",
       "<style scoped>\n",
       "    .dataframe tbody tr th:only-of-type {\n",
       "        vertical-align: middle;\n",
       "    }\n",
       "\n",
       "    .dataframe tbody tr th {\n",
       "        vertical-align: top;\n",
       "    }\n",
       "\n",
       "    .dataframe thead th {\n",
       "        text-align: right;\n",
       "    }\n",
       "</style>\n",
       "<table border=\"1\" class=\"dataframe\">\n",
       "  <thead>\n",
       "    <tr style=\"text-align: right;\">\n",
       "      <th></th>\n",
       "      <th>quarter</th>\n",
       "      <th>revenue_billion</th>\n",
       "    </tr>\n",
       "  </thead>\n",
       "  <tbody>\n",
       "    <tr>\n",
       "      <th>0</th>\n",
       "      <td>2021-09-30</td>\n",
       "      <td>142.04M</td>\n",
       "    </tr>\n",
       "    <tr>\n",
       "      <th>1</th>\n",
       "      <td>2021-06-30</td>\n",
       "      <td>154.49M</td>\n",
       "    </tr>\n",
       "    <tr>\n",
       "      <th>2</th>\n",
       "      <td>2021-03-31</td>\n",
       "      <td>142.17M</td>\n",
       "    </tr>\n",
       "    <tr>\n",
       "      <th>3</th>\n",
       "      <td>2020-12-31</td>\n",
       "      <td>167.25M</td>\n",
       "    </tr>\n",
       "  </tbody>\n",
       "</table>\n",
       "</div>"
      ],
      "text/plain": [
       "      quarter revenue_billion\n",
       "0  2021-09-30         142.04M\n",
       "1  2021-06-30         154.49M\n",
       "2  2021-03-31         142.17M\n",
       "3  2020-12-31         167.25M"
      ]
     },
     "execution_count": 78,
     "metadata": {},
     "output_type": "execute_result"
    }
   ],
   "source": [
    "##these are quarterly earnings specifically\n",
    "revenue_df = pd.DataFrame()\n",
    "\n",
    "for quarter in response['incomeStatementHistoryQuarterly']['incomeStatementHistory']:\n",
    "    revenue_line = pd.Series([quarter['endDate']['fmt'], quarter['totalRevenue']['fmt']], index = ['quarter','revenue_billion'])\n",
    "    revenue_df = revenue_df.append(revenue_line, ignore_index=True)\n",
    "\n",
    "revenue_df"
   ]
  },
  {
   "cell_type": "code",
   "execution_count": 25,
   "metadata": {},
   "outputs": [
    {
     "name": "stdout",
     "output_type": "stream",
     "text": [
      "dict_keys(['intangibleAssets', 'capitalSurplus', 'totalLiab', 'totalStockholderEquity', 'otherCurrentLiab', 'totalAssets', 'endDate', 'otherCurrentAssets', 'retainedEarnings', 'otherLiab', 'goodWill', 'treasuryStock', 'otherAssets', 'cash', 'totalCurrentLiabilities', 'deferredLongTermAssetCharges', 'otherStockholderEquity', 'propertyPlantEquipment', 'totalCurrentAssets', 'netTangibleAssets', 'shortTermInvestments', 'netReceivables', 'maxAge', 'longTermDebt', 'accountsPayable'])\n"
     ]
    }
   ],
   "source": [
    "for x in json_response['balanceSheetHistoryQuarterly']['balanceSheetStatements']:\n",
    "    print(x.keys())\n",
    "    break"
   ]
  },
  {
   "cell_type": "code",
   "execution_count": 13,
   "metadata": {},
   "outputs": [],
   "source": [
    "##these are quarterly earnings specifically\n",
    "earnings_df = pd.DataFrame()\n",
    "\n",
    "for quarter in json_response['earnings']['earningsChart']['quarterly']:\n",
    "    earning_line = pd.Series([quarter['date'], quarter['actual']['raw']], index = ['quarter','raw_earnings_billion'])\n",
    "    earnings_df = earnings_df.append(earning_line, ignore_index=True)"
   ]
  },
  {
   "cell_type": "code",
   "execution_count": 14,
   "metadata": {},
   "outputs": [
    {
     "data": {
      "text/html": [
       "<div>\n",
       "<style scoped>\n",
       "    .dataframe tbody tr th:only-of-type {\n",
       "        vertical-align: middle;\n",
       "    }\n",
       "\n",
       "    .dataframe tbody tr th {\n",
       "        vertical-align: top;\n",
       "    }\n",
       "\n",
       "    .dataframe thead th {\n",
       "        text-align: right;\n",
       "    }\n",
       "</style>\n",
       "<table border=\"1\" class=\"dataframe\">\n",
       "  <thead>\n",
       "    <tr style=\"text-align: right;\">\n",
       "      <th></th>\n",
       "      <th>quarter</th>\n",
       "      <th>raw_earning</th>\n",
       "    </tr>\n",
       "  </thead>\n",
       "  <tbody>\n",
       "    <tr>\n",
       "      <th>0</th>\n",
       "      <td>4Q2020</td>\n",
       "      <td>1.21</td>\n",
       "    </tr>\n",
       "    <tr>\n",
       "      <th>1</th>\n",
       "      <td>1Q2021</td>\n",
       "      <td>0.84</td>\n",
       "    </tr>\n",
       "    <tr>\n",
       "      <th>2</th>\n",
       "      <td>2Q2021</td>\n",
       "      <td>0.91</td>\n",
       "    </tr>\n",
       "    <tr>\n",
       "      <th>3</th>\n",
       "      <td>3Q2021</td>\n",
       "      <td>0.72</td>\n",
       "    </tr>\n",
       "  </tbody>\n",
       "</table>\n",
       "</div>"
      ],
      "text/plain": [
       "  quarter  raw_earning\n",
       "0  4Q2020         1.21\n",
       "1  1Q2021         0.84\n",
       "2  2Q2021         0.91\n",
       "3  3Q2021         0.72"
      ]
     },
     "execution_count": 14,
     "metadata": {},
     "output_type": "execute_result"
    }
   ],
   "source": [
    "earnings_df"
   ]
  },
  {
   "cell_type": "code",
   "execution_count": 53,
   "metadata": {},
   "outputs": [],
   "source": [
    "##these are quarterly earnings specifically\n",
    "balance_df = pd.DataFrame()\n",
    "\n",
    "for item in json_response['balanceSheetHistoryQuarterly']['balanceSheetStatements']:\n",
    "    balance_line = pd.Series([item['endDate']['fmt'], item['totalCurrentLiabilities']['fmt'], item['totalCurrentAssets']['fmt']], index = ['quarter','liabilities','assets'])\n",
    "    balance_df = balance_df.append(balance_line, ignore_index = True)"
   ]
  },
  {
   "cell_type": "code",
   "execution_count": 59,
   "metadata": {},
   "outputs": [
    {
     "data": {
      "text/html": [
       "<div>\n",
       "<style scoped>\n",
       "    .dataframe tbody tr th:only-of-type {\n",
       "        vertical-align: middle;\n",
       "    }\n",
       "\n",
       "    .dataframe tbody tr th {\n",
       "        vertical-align: top;\n",
       "    }\n",
       "\n",
       "    .dataframe thead th {\n",
       "        text-align: right;\n",
       "    }\n",
       "</style>\n",
       "<table border=\"1\" class=\"dataframe\">\n",
       "  <thead>\n",
       "    <tr style=\"text-align: right;\">\n",
       "      <th></th>\n",
       "      <th>quarter</th>\n",
       "      <th>assets_billion</th>\n",
       "      <th>liabilties_billion</th>\n",
       "      <th>la_ratio</th>\n",
       "    </tr>\n",
       "  </thead>\n",
       "  <tbody>\n",
       "    <tr>\n",
       "      <th>0</th>\n",
       "      <td>2021-09-30</td>\n",
       "      <td>11.21</td>\n",
       "      <td>2.02</td>\n",
       "      <td>0.18</td>\n",
       "    </tr>\n",
       "    <tr>\n",
       "      <th>1</th>\n",
       "      <td>2021-06-30</td>\n",
       "      <td>10.89</td>\n",
       "      <td>2.25</td>\n",
       "      <td>0.21</td>\n",
       "    </tr>\n",
       "    <tr>\n",
       "      <th>2</th>\n",
       "      <td>2021-03-31</td>\n",
       "      <td>10.92</td>\n",
       "      <td>3.18</td>\n",
       "      <td>0.29</td>\n",
       "    </tr>\n",
       "    <tr>\n",
       "      <th>3</th>\n",
       "      <td>2020-12-31</td>\n",
       "      <td>10.56</td>\n",
       "      <td>3.10</td>\n",
       "      <td>0.29</td>\n",
       "    </tr>\n",
       "  </tbody>\n",
       "</table>\n",
       "</div>"
      ],
      "text/plain": [
       "      quarter  assets_billion  liabilties_billion  la_ratio\n",
       "0  2021-09-30           11.21                2.02      0.18\n",
       "1  2021-06-30           10.89                2.25      0.21\n",
       "2  2021-03-31           10.92                3.18      0.29\n",
       "3  2020-12-31           10.56                3.10      0.29"
      ]
     },
     "execution_count": 59,
     "metadata": {},
     "output_type": "execute_result"
    }
   ],
   "source": [
    "balance_df.loc[:,'assets_billion'] = balance_df['assets'].str.strip('B').astype('float')\n",
    "balance_df.loc[:,'liabilties_billion'] = balance_df['liabilities'].str.strip('B').astype('float')\n",
    "balance_df.loc[:,'la_ratio'] = round(balance_df['liabilties_billion']/balance_df['assets_billion'],2)\n",
    "balance_df = balance_df.drop(columns = ['assets','liabilities'])\n",
    "balance_df"
   ]
  },
  {
   "cell_type": "code",
   "execution_count": 25,
   "metadata": {},
   "outputs": [],
   "source": [
    "def list_perfomance(symbol):\n",
    "    weekly_history_df = get_weekly_history_df(symbol)\n",
    "\n",
    "    performance_list = [symbol,\\\n",
    "                        round((weekly_history_df.iloc[0]['close'] - weekly_history_df.iloc[-1]['close'])/weekly_history_df.loc[0]['close'],3),\\\n",
    "                        round(weekly_history_df['close'].std(),2),\\\n",
    "                        round(weekly_history_df['close'].var(),2),\n",
    "                        round(weekly_history_df['close'].mean(),2),\n",
    "                        round(weekly_history_df['close'].std()/weekly_history_df['close'].mean(),2),\n",
    "                        round(weekly_history_df.iloc[0]['close'],1)\n",
    "                        ]\n",
    "\n",
    "    return performance_list"
   ]
  },
  {
   "cell_type": "code",
   "execution_count": null,
   "metadata": {},
   "outputs": [],
   "source": []
  },
  {
   "cell_type": "code",
   "execution_count": 26,
   "metadata": {},
   "outputs": [],
   "source": [
    "counter = 0\n",
    "\n",
    "attributes = ['ticker','yoy_growth','std','variance','mean_price','volatility','last_close_price']\n",
    "comparison_df = pd.DataFrame(columns = attributes)\n",
    "\n",
    "for ticker_name in nasdaq100_list[64:67]:\n",
    "    series_row = pd.Series(list_perfomance(ticker_name), index = attributes)\n",
    "    comparison_df = comparison_df.append(series_row, ignore_index=True)\n",
    "    print(ticker_name, end = ' ')\n",
    "    time.sleep(1)"
   ]
  },
  {
   "cell_type": "code",
   "execution_count": 27,
   "metadata": {},
   "outputs": [
    {
     "data": {
      "text/html": [
       "<div>\n",
       "<style scoped>\n",
       "    .dataframe tbody tr th:only-of-type {\n",
       "        vertical-align: middle;\n",
       "    }\n",
       "\n",
       "    .dataframe tbody tr th {\n",
       "        vertical-align: top;\n",
       "    }\n",
       "\n",
       "    .dataframe thead th {\n",
       "        text-align: right;\n",
       "    }\n",
       "</style>\n",
       "<table border=\"1\" class=\"dataframe\">\n",
       "  <thead>\n",
       "    <tr style=\"text-align: right;\">\n",
       "      <th></th>\n",
       "      <th>ticker</th>\n",
       "      <th>yoy_growth</th>\n",
       "      <th>std</th>\n",
       "      <th>variance</th>\n",
       "      <th>mean_price</th>\n",
       "      <th>volatility</th>\n",
       "      <th>last_close_price</th>\n",
       "    </tr>\n",
       "  </thead>\n",
       "  <tbody>\n",
       "  </tbody>\n",
       "</table>\n",
       "</div>"
      ],
      "text/plain": [
       "Empty DataFrame\n",
       "Columns: [ticker, yoy_growth, std, variance, mean_price, volatility, last_close_price]\n",
       "Index: []"
      ]
     },
     "execution_count": 27,
     "metadata": {},
     "output_type": "execute_result"
    }
   ],
   "source": [
    "comparison_df.sort_values(by = 'yoy_growth', ascending=False).head(20)"
   ]
  },
  {
   "cell_type": "code",
   "execution_count": null,
   "metadata": {},
   "outputs": [],
   "source": []
  }
 ],
 "metadata": {
  "interpreter": {
   "hash": "40d3a090f54c6569ab1632332b64b2c03c39dcf918b08424e98f38b5ae0af88f"
  },
  "kernelspec": {
   "display_name": "Python 3.7.4 64-bit ('base': conda)",
   "language": "python",
   "name": "python3"
  },
  "language_info": {
   "codemirror_mode": {
    "name": "ipython",
    "version": 3
   },
   "file_extension": ".py",
   "mimetype": "text/x-python",
   "name": "python",
   "nbconvert_exporter": "python",
   "pygments_lexer": "ipython3",
   "version": "3.7.4"
  },
  "orig_nbformat": 4
 },
 "nbformat": 4,
 "nbformat_minor": 2
}
