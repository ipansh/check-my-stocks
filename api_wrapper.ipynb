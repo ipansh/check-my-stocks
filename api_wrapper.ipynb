{
 "cells": [
  {
   "cell_type": "code",
   "execution_count": 1,
   "metadata": {},
   "outputs": [],
   "source": [
    "import pandas as pd\n",
    "import requests\n",
    "\n",
    "from datetime import datetime\n",
    "import time\n",
    "\n",
    "from scrapy import Selector"
   ]
  },
  {
   "cell_type": "code",
   "execution_count": 48,
   "metadata": {},
   "outputs": [
    {
     "name": "stdout",
     "output_type": "stream",
     "text": [
      "ATVI ADBE AMD ALGN GOOGL GOOG AMZN AEP AMGN ADI ANSS AAPL AMAT ASML TEAM ADSK ADP BIDU BIIB BKNG AVGO CDNS CDW CERN CHTR CHKP CTAS CSCO CTSH CMCSA CPRT COST CRWD CSX DXCM DOCU DLTR EBAY EA EXC FAST FISV FOXA FOX GILD HON IDXX ILMN INCY INTC INTU ISRG JD KDP KLAC KHC LRCX LULU MAR MRVL MTCH MELI FB MCHP MU MSFT MRNA MDLZ MNST NTES NFLX NVDA NXPI ORLY OKTA PCAR PAYX PYPL PTON PEP PDD QCOM REGN ROST SGEN SIRI SWKS SPLK SBUX SNPS TMUS TSLA TXN TCOM VRSN VRSK VRTX WBA WDAY XEL XLNX ZM "
     ]
    },
    {
     "data": {
      "text/html": [
       "<div>\n",
       "<style scoped>\n",
       "    .dataframe tbody tr th:only-of-type {\n",
       "        vertical-align: middle;\n",
       "    }\n",
       "\n",
       "    .dataframe tbody tr th {\n",
       "        vertical-align: top;\n",
       "    }\n",
       "\n",
       "    .dataframe thead th {\n",
       "        text-align: right;\n",
       "    }\n",
       "</style>\n",
       "<table border=\"1\" class=\"dataframe\">\n",
       "  <thead>\n",
       "    <tr style=\"text-align: right;\">\n",
       "      <th></th>\n",
       "      <th>company_name</th>\n",
       "      <th>industry</th>\n",
       "      <th>sub_industry</th>\n",
       "      <th>ticker</th>\n",
       "    </tr>\n",
       "  </thead>\n",
       "  <tbody>\n",
       "    <tr>\n",
       "      <th>0</th>\n",
       "      <td>Activision Blizzard</td>\n",
       "      <td>Communication Services</td>\n",
       "      <td>Communication Services</td>\n",
       "      <td>ATVI</td>\n",
       "    </tr>\n",
       "    <tr>\n",
       "      <th>1</th>\n",
       "      <td>Adobe Inc.</td>\n",
       "      <td>Information Technology</td>\n",
       "      <td>Information Technology</td>\n",
       "      <td>ADBE</td>\n",
       "    </tr>\n",
       "    <tr>\n",
       "      <th>2</th>\n",
       "      <td>Advanced Micro Devices</td>\n",
       "      <td>Information Technology</td>\n",
       "      <td>Information Technology</td>\n",
       "      <td>AMD</td>\n",
       "    </tr>\n",
       "    <tr>\n",
       "      <th>3</th>\n",
       "      <td>Align Technology</td>\n",
       "      <td>Health Care</td>\n",
       "      <td>Health Care</td>\n",
       "      <td>ALGN</td>\n",
       "    </tr>\n",
       "  </tbody>\n",
       "</table>\n",
       "</div>"
      ],
      "text/plain": [
       "             company_name                industry            sub_industry  \\\n",
       "0     Activision Blizzard  Communication Services  Communication Services   \n",
       "1              Adobe Inc.  Information Technology  Information Technology   \n",
       "2  Advanced Micro Devices  Information Technology  Information Technology   \n",
       "3        Align Technology             Health Care             Health Care   \n",
       "\n",
       "  ticker  \n",
       "0   ATVI  \n",
       "1   ADBE  \n",
       "2    AMD  \n",
       "3   ALGN  "
      ]
     },
     "execution_count": 48,
     "metadata": {},
     "output_type": "execute_result"
    }
   ],
   "source": [
    "url = 'https://en.wikipedia.org/wiki/Nasdaq-100'\n",
    "\n",
    "html = requests.get(url).text\n",
    "sel = Selector(text = html)\n",
    "\n",
    "nasdaq100_df = pd.DataFrame()\n",
    "\n",
    "for n in range(2,104):\n",
    "    ticker = sel.xpath('//table[@id = \"constituents\"]/tbody/tr[{}]/td[2]'.format(n)).extract()[0].strip('</td>')\n",
    "    company_name = sel.xpath('//table[@id = \"constituents\"]/tbody/tr[{}]/td[1]/a/@title'.format(n)).get()\n",
    "    industry = sel.xpath('//table[@id = \"constituents\"]/tbody/tr[{}]/td[3]'.format(n)).get().strip('</td>')\n",
    "    sub_industry = sel.xpath('//table[@id = \"constituents\"]/tbody/tr[{}]/td[3]'.format(n)).get().strip('</td>')\n",
    "    new_list = [ticker, company_name, industry, sub_industry]\n",
    "    pd_series_row = pd.Series(new_list, index = ['ticker', 'company_name', 'industry', 'sub_industry'])\n",
    "    nasdaq100_df = nasdaq100_df.append(pd_series_row, ignore_index=True)\n",
    "    print(ticker, end = ' ')\n",
    "\n",
    "nasdaq100_df.head(4)"
   ]
  },
  {
   "cell_type": "code",
   "execution_count": 49,
   "metadata": {},
   "outputs": [],
   "source": [
    "def unix_to_date(unix_timestamp):\n",
    "    ts = int(unix_timestamp)\n",
    "    return datetime.utcfromtimestamp(ts).strftime('%Y-%m-%d')"
   ]
  },
  {
   "cell_type": "code",
   "execution_count": 50,
   "metadata": {},
   "outputs": [],
   "source": [
    "with open('/Users/ilya/Desktop/keys/yahoo_finance.txt','r') as file:\n",
    "    key = file.readlines()\n",
    "\n",
    "KEY = key[0]"
   ]
  },
  {
   "cell_type": "code",
   "execution_count": 51,
   "metadata": {},
   "outputs": [],
   "source": [
    "def get_weekly_history_df(symbol):\n",
    "    get_history_url = \"https://yh-finance.p.rapidapi.com/stock/v3/get-historical-data\"\n",
    "\n",
    "    querystring = {\"symbol\":symbol,\"region\":\"US\"}\n",
    "\n",
    "    headers = {\n",
    "    'x-rapidapi-host': \"yh-finance.p.rapidapi.com\",\n",
    "    'x-rapidapi-key': KEY\n",
    "    }\n",
    "\n",
    "    response = requests.request(\"GET\", get_history_url, headers=headers, params=querystring)\n",
    "\n",
    "    json_response = response.json()\n",
    "\n",
    "    weekly_history_df = pd.DataFrame(json_response['prices'])[['date','close']]\n",
    "    weekly_history_df.loc[:,'date'] = weekly_history_df['date'].apply(lambda x: unix_to_date(x))\n",
    "\n",
    "    weekly_history_df.loc[:,'week'] = [pd.Timestamp(date).week for date in weekly_history_df['date']]\n",
    "    weekly_history_df.loc[:,'year'] = [pd.Timestamp(date).year for date in weekly_history_df['date']]\n",
    "\n",
    "    weekly_history_df.loc[:,'close'] = weekly_history_df['close'].round(1)\n",
    "\n",
    "    return weekly_history_df[['date','year','week','close']]"
   ]
  },
  {
   "cell_type": "code",
   "execution_count": 160,
   "metadata": {},
   "outputs": [],
   "source": [
    "cash_flow_url = \"https://yh-finance.p.rapidapi.com/stock/v2/get-balance-sheet\"\n",
    "\n",
    "querystring = {\"symbol\":\"ATVI\",\"region\":\"US\"}\n",
    "\n",
    "headers = {\n",
    "    'x-rapidapi-host': \"yh-finance.p.rapidapi.com\",\n",
    "    'x-rapidapi-key': \"f31c8be57dmsh32b4005c3178b54p1f4272jsnb55bf64ce33e\"\n",
    "    }\n",
    "\n",
    "response = requests.request(\"GET\", cash_flow_url, headers=headers, params=querystring)\n",
    "\n",
    "json_response = response.json()"
   ]
  },
  {
   "cell_type": "code",
   "execution_count": 161,
   "metadata": {},
   "outputs": [
    {
     "name": "stdout",
     "output_type": "stream",
     "text": [
      "{'date': '4Q2020', 'actual': {'raw': 1.21, 'fmt': '1.21'}, 'estimate': {'raw': 1.18, 'fmt': '1.18'}}\n",
      "{'date': '1Q2021', 'actual': {'raw': 0.84, 'fmt': '0.84'}, 'estimate': {'raw': 0.7, 'fmt': '0.70'}}\n",
      "{'date': '2Q2021', 'actual': {'raw': 0.91, 'fmt': '0.91'}, 'estimate': {'raw': 0.76, 'fmt': '0.76'}}\n",
      "{'date': '3Q2021', 'actual': {'raw': 0.72, 'fmt': '0.72'}, 'estimate': {'raw': 0.7, 'fmt': '0.70'}}\n"
     ]
    }
   ],
   "source": [
    "##these are quarterly earnings specifically\n",
    "\n",
    "for quarter in json_response['earnings']['earningsChart']['quarterly']:\n",
    "    print(quarter)"
   ]
  },
  {
   "cell_type": "code",
   "execution_count": 157,
   "metadata": {},
   "outputs": [
    {
     "name": "stdout",
     "output_type": "stream",
     "text": [
      "{'raw': 1632960000, 'fmt': '2021-09-30'}\n",
      "{'raw': 2016000000, 'fmt': '2.02B', 'longFmt': '2,016,000,000'}\n",
      "{'raw': 11211000000, 'fmt': '11.21B', 'longFmt': '11,211,000,000'}\n",
      "{'raw': 1625011200, 'fmt': '2021-06-30'}\n",
      "{'raw': 2253000000, 'fmt': '2.25B', 'longFmt': '2,253,000,000'}\n",
      "{'raw': 10887000000, 'fmt': '10.89B', 'longFmt': '10,887,000,000'}\n",
      "{'raw': 1617148800, 'fmt': '2021-03-31'}\n",
      "{'raw': 3181000000, 'fmt': '3.18B', 'longFmt': '3,181,000,000'}\n",
      "{'raw': 10922000000, 'fmt': '10.92B', 'longFmt': '10,922,000,000'}\n",
      "{'raw': 1609372800, 'fmt': '2020-12-31'}\n",
      "{'raw': 3100000000, 'fmt': '3.1B', 'longFmt': '3,100,000,000'}\n",
      "{'raw': 10565000000, 'fmt': '10.56B', 'longFmt': '10,565,000,000'}\n"
     ]
    }
   ],
   "source": [
    "for item in json_response['balanceSheetHistoryQuarterly']['balanceSheetStatements']:\n",
    "    print(item['endDate'])\n",
    "    print(item['totalCurrentLiabilities'])\n",
    "    print(item['totalCurrentAssets'])"
   ]
  },
  {
   "cell_type": "code",
   "execution_count": 159,
   "metadata": {},
   "outputs": [
    {
     "name": "stdout",
     "output_type": "stream",
     "text": [
      "{'raw': 1609372800, 'fmt': '2020-12-31'}\n",
      "{'raw': 3100000000, 'fmt': '3.1B', 'longFmt': '3,100,000,000'}\n",
      "{'raw': 10565000000, 'fmt': '10.56B', 'longFmt': '10,565,000,000'}\n",
      "{'raw': 1577750400, 'fmt': '2019-12-31'}\n",
      "{'raw': 2915000000, 'fmt': '2.92B', 'longFmt': '2,915,000,000'}\n",
      "{'raw': 7292000000, 'fmt': '7.29B', 'longFmt': '7,292,000,000'}\n",
      "{'raw': 1546214400, 'fmt': '2018-12-31'}\n",
      "{'raw': 2642000000, 'fmt': '2.64B', 'longFmt': '2,642,000,000'}\n",
      "{'raw': 6106000000, 'fmt': '6.11B', 'longFmt': '6,106,000,000'}\n",
      "{'raw': 1514678400, 'fmt': '2017-12-31'}\n",
      "{'raw': 3663000000, 'fmt': '3.66B', 'longFmt': '3,663,000,000'}\n",
      "{'raw': 6520000000, 'fmt': '6.52B', 'longFmt': '6,520,000,000'}\n"
     ]
    }
   ],
   "source": [
    "#this is the same as above but per year\n",
    "\n",
    "for item in json_response['balanceSheetHistory']['balanceSheetStatements']:\n",
    "    print(item['endDate'])\n",
    "    print(item['totalCurrentLiabilities'])\n",
    "    print(item['totalCurrentAssets'])"
   ]
  },
  {
   "cell_type": "code",
   "execution_count": 25,
   "metadata": {},
   "outputs": [],
   "source": [
    "def list_perfomance(symbol):\n",
    "    weekly_history_df = get_weekly_history_df(symbol)\n",
    "\n",
    "    performance_list = [symbol,\\\n",
    "                        round((weekly_history_df.iloc[0]['close'] - weekly_history_df.iloc[-1]['close'])/weekly_history_df.loc[0]['close'],3),\\\n",
    "                        round(weekly_history_df['close'].std(),2),\\\n",
    "                        round(weekly_history_df['close'].var(),2),\n",
    "                        round(weekly_history_df['close'].mean(),2),\n",
    "                        round(weekly_history_df['close'].std()/weekly_history_df['close'].mean(),2),\n",
    "                        round(weekly_history_df.iloc[0]['close'],1)\n",
    "                        ]\n",
    "\n",
    "    return performance_list"
   ]
  },
  {
   "cell_type": "code",
   "execution_count": null,
   "metadata": {},
   "outputs": [],
   "source": []
  },
  {
   "cell_type": "code",
   "execution_count": 26,
   "metadata": {},
   "outputs": [],
   "source": [
    "counter = 0\n",
    "\n",
    "attributes = ['ticker','yoy_growth','std','variance','mean_price','volatility','last_close_price']\n",
    "comparison_df = pd.DataFrame(columns = attributes)\n",
    "\n",
    "for ticker_name in nasdaq100_list[64:67]:\n",
    "    series_row = pd.Series(list_perfomance(ticker_name), index = attributes)\n",
    "    comparison_df = comparison_df.append(series_row, ignore_index=True)\n",
    "    print(ticker_name, end = ' ')\n",
    "    time.sleep(1)"
   ]
  },
  {
   "cell_type": "code",
   "execution_count": 27,
   "metadata": {},
   "outputs": [
    {
     "data": {
      "text/html": [
       "<div>\n",
       "<style scoped>\n",
       "    .dataframe tbody tr th:only-of-type {\n",
       "        vertical-align: middle;\n",
       "    }\n",
       "\n",
       "    .dataframe tbody tr th {\n",
       "        vertical-align: top;\n",
       "    }\n",
       "\n",
       "    .dataframe thead th {\n",
       "        text-align: right;\n",
       "    }\n",
       "</style>\n",
       "<table border=\"1\" class=\"dataframe\">\n",
       "  <thead>\n",
       "    <tr style=\"text-align: right;\">\n",
       "      <th></th>\n",
       "      <th>ticker</th>\n",
       "      <th>yoy_growth</th>\n",
       "      <th>std</th>\n",
       "      <th>variance</th>\n",
       "      <th>mean_price</th>\n",
       "      <th>volatility</th>\n",
       "      <th>last_close_price</th>\n",
       "    </tr>\n",
       "  </thead>\n",
       "  <tbody>\n",
       "  </tbody>\n",
       "</table>\n",
       "</div>"
      ],
      "text/plain": [
       "Empty DataFrame\n",
       "Columns: [ticker, yoy_growth, std, variance, mean_price, volatility, last_close_price]\n",
       "Index: []"
      ]
     },
     "execution_count": 27,
     "metadata": {},
     "output_type": "execute_result"
    }
   ],
   "source": [
    "comparison_df.sort_values(by = 'yoy_growth', ascending=False).head(20)"
   ]
  },
  {
   "cell_type": "code",
   "execution_count": null,
   "metadata": {},
   "outputs": [],
   "source": []
  }
 ],
 "metadata": {
  "interpreter": {
   "hash": "40d3a090f54c6569ab1632332b64b2c03c39dcf918b08424e98f38b5ae0af88f"
  },
  "kernelspec": {
   "display_name": "Python 3.7.4 64-bit ('base': conda)",
   "language": "python",
   "name": "python3"
  },
  "language_info": {
   "codemirror_mode": {
    "name": "ipython",
    "version": 3
   },
   "file_extension": ".py",
   "mimetype": "text/x-python",
   "name": "python",
   "nbconvert_exporter": "python",
   "pygments_lexer": "ipython3",
   "version": "3.7.4"
  },
  "orig_nbformat": 4
 },
 "nbformat": 4,
 "nbformat_minor": 2
}
