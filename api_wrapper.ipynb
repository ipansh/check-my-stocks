{
 "cells": [
  {
   "cell_type": "code",
   "execution_count": 507,
   "metadata": {},
   "outputs": [],
   "source": [
    "import warnings\n",
    "warnings.simplefilter(action='ignore', category=FutureWarning)\n",
    "\n",
    "import pandas as pd\n",
    "import requests\n",
    "\n",
    "from datetime import datetime\n",
    "import time\n",
    "\n",
    "from scrapy import Selector\n",
    "import plotly.express as px\n",
    "\n",
    "pd.set_option('display.float_format', lambda x: '%.3f' % x)"
   ]
  },
  {
   "cell_type": "code",
   "execution_count": 200,
   "metadata": {},
   "outputs": [
    {
     "name": "stdout",
     "output_type": "stream",
     "text": [
      "ATVI ADBE AMD ALGN GOOGL GOOG AMZN AEP AMGN ADI ANSS AAPL AMAT ASML TEAM ADSK ADP BIDU BIIB BKNG AVGO CDNS CDW CERN CHTR CHKP CTAS CSCO CTSH CMCSA CPRT COST CRWD CSX DXCM DOCU DLTR EBAY EA EXC FAST FISV FOXA FOX GILD HON IDXX ILMN INCY INTC INTU ISRG JD KDP KLAC KHC LRCX LULU MAR MRVL MTCH MELI FB MCHP MU MSFT MRNA MDLZ MNST NTES NFLX NVDA NXPI ORLY OKTA PCAR PAYX PYPL PTON PEP PDD QCOM REGN ROST SGEN SIRI SWKS SPLK SBUX SNPS TMUS TSLA TXN TCOM VRSN VRSK VRTX WBA WDAY XEL XLNX ZM "
     ]
    },
    {
     "data": {
      "text/html": [
       "<div>\n",
       "<style scoped>\n",
       "    .dataframe tbody tr th:only-of-type {\n",
       "        vertical-align: middle;\n",
       "    }\n",
       "\n",
       "    .dataframe tbody tr th {\n",
       "        vertical-align: top;\n",
       "    }\n",
       "\n",
       "    .dataframe thead th {\n",
       "        text-align: right;\n",
       "    }\n",
       "</style>\n",
       "<table border=\"1\" class=\"dataframe\">\n",
       "  <thead>\n",
       "    <tr style=\"text-align: right;\">\n",
       "      <th></th>\n",
       "      <th>company_name</th>\n",
       "      <th>industry</th>\n",
       "      <th>sub_industry</th>\n",
       "      <th>ticker</th>\n",
       "    </tr>\n",
       "  </thead>\n",
       "  <tbody>\n",
       "    <tr>\n",
       "      <th>0</th>\n",
       "      <td>Activision Blizzard</td>\n",
       "      <td>Communication Services</td>\n",
       "      <td>Communication Services</td>\n",
       "      <td>ATVI</td>\n",
       "    </tr>\n",
       "    <tr>\n",
       "      <th>1</th>\n",
       "      <td>Adobe Inc.</td>\n",
       "      <td>Information Technology</td>\n",
       "      <td>Information Technology</td>\n",
       "      <td>ADBE</td>\n",
       "    </tr>\n",
       "    <tr>\n",
       "      <th>2</th>\n",
       "      <td>Advanced Micro Devices</td>\n",
       "      <td>Information Technology</td>\n",
       "      <td>Information Technology</td>\n",
       "      <td>AMD</td>\n",
       "    </tr>\n",
       "    <tr>\n",
       "      <th>3</th>\n",
       "      <td>Align Technology</td>\n",
       "      <td>Health Care</td>\n",
       "      <td>Health Care</td>\n",
       "      <td>ALGN</td>\n",
       "    </tr>\n",
       "  </tbody>\n",
       "</table>\n",
       "</div>"
      ],
      "text/plain": [
       "             company_name                industry            sub_industry  \\\n",
       "0     Activision Blizzard  Communication Services  Communication Services   \n",
       "1              Adobe Inc.  Information Technology  Information Technology   \n",
       "2  Advanced Micro Devices  Information Technology  Information Technology   \n",
       "3        Align Technology             Health Care             Health Care   \n",
       "\n",
       "  ticker  \n",
       "0   ATVI  \n",
       "1   ADBE  \n",
       "2    AMD  \n",
       "3   ALGN  "
      ]
     },
     "execution_count": 200,
     "metadata": {},
     "output_type": "execute_result"
    }
   ],
   "source": [
    "url = 'https://en.wikipedia.org/wiki/Nasdaq-100'\n",
    "\n",
    "html = requests.get(url).text\n",
    "sel = Selector(text = html)\n",
    "\n",
    "nasdaq100_df = pd.DataFrame()\n",
    "\n",
    "for n in range(2,104):\n",
    "    ticker = sel.xpath('//table[@id = \"constituents\"]/tbody/tr[{}]/td[2]'.format(n)).extract()[0].strip('</td>')\n",
    "    company_name = sel.xpath('//table[@id = \"constituents\"]/tbody/tr[{}]/td[1]/a/@title'.format(n)).get()\n",
    "    industry = sel.xpath('//table[@id = \"constituents\"]/tbody/tr[{}]/td[3]'.format(n)).get().strip('</td>')\n",
    "    sub_industry = sel.xpath('//table[@id = \"constituents\"]/tbody/tr[{}]/td[3]'.format(n)).get().strip('</td>')\n",
    "    new_list = [ticker, company_name, industry, sub_industry]\n",
    "    pd_series_row = pd.Series(new_list, index = ['ticker', 'company_name', 'industry', 'sub_industry'])\n",
    "    nasdaq100_df = nasdaq100_df.append(pd_series_row, ignore_index=True)\n",
    "    print(ticker, end = ' ')\n",
    "\n",
    "nasdaq100_df.head(4)"
   ]
  },
  {
   "cell_type": "code",
   "execution_count": 438,
   "metadata": {},
   "outputs": [],
   "source": [
    "def unix_to_date(unix_timestamp):\n",
    "    ts = int(unix_timestamp)\n",
    "    return datetime.utcfromtimestamp(ts).strftime('%Y-%m-%d')"
   ]
  },
  {
   "cell_type": "code",
   "execution_count": 439,
   "metadata": {},
   "outputs": [],
   "source": [
    "with open('/Users/ilya/Desktop/keys/yahoo_finance.txt','r') as file:\n",
    "    key = file.readlines()\n",
    "\n",
    "KEY = key[0]"
   ]
  },
  {
   "cell_type": "code",
   "execution_count": 446,
   "metadata": {},
   "outputs": [],
   "source": [
    "def get_income_statement(ticker, period):\n",
    "    financials_url = \"https://yh-finance.p.rapidapi.com/stock/v2/get-financials\"\n",
    "\n",
    "    querystring = {\"symbol\":ticker,\"region\":\"US\"}\n",
    "\n",
    "    headers = {\n",
    "        'x-rapidapi-host': \"yh-finance.p.rapidapi.com\",\n",
    "        'x-rapidapi-key': KEY\n",
    "        }\n",
    "\n",
    "    financials_response = requests.request(\"GET\", financials_url, headers=headers, params=querystring).json()\n",
    "\n",
    "    ##these are quarterly earnings specifically\n",
    "    income_statment_df = pd.DataFrame()\n",
    "\n",
    "    for quarter in financials_response['incomeStatementHistoryQuarterly']['incomeStatementHistory']:\n",
    "        revenue_line = pd.Series([quarter['endDate']['fmt'],\n",
    "                                  round(quarter['totalRevenue']['raw']/1000000000,3),\n",
    "                                  round(quarter['grossProfit']['raw']/1000000000,3),\n",
    "                                  round(quarter['netIncome']['raw']/1000000000,3),\n",
    "                                  ],\n",
    "        index = ['quarter','revenue_billion','gross_profit_billion','net_income_billion'])\n",
    "        income_statment_df = income_statment_df.append(revenue_line, ignore_index=True)\n",
    "\n",
    "    income_statment_df['quarter'] = [pd.Timestamp(quarter) for quarter in income_statment_df['quarter']]\n",
    "    income_statment_df['quarter'] = ['4Q2020' if quarter <= pd.Timestamp('2021-01-01T12') else\n",
    "                                     '1Q2021' if quarter > pd.Timestamp('2021-01-02T12') and quarter < pd.Timestamp('2021-04-01T12') else\n",
    "                                     '2Q2021' if quarter > pd.Timestamp('2021-04-02T12') and quarter < pd.Timestamp('2021-07-01T12') else\n",
    "                                     '3Q2021' if quarter > pd.Timestamp('2021-07-02T12') and quarter < pd.Timestamp('2021-10-02T12') else\n",
    "                                     '4Q2021' for quarter in income_statment_df['quarter']]\n",
    "\n",
    "    income_statment_df.loc[:,'gross_profit_margin'] = income_statment_df['gross_profit_billion']/income_statment_df['revenue_billion']\n",
    "    income_statment_df.loc[:,'net_profit_margin'] = income_statment_df['net_income_billion']/income_statment_df['revenue_billion']\n",
    "\n",
    "    income_statment_df['ticker'] = ticker\n",
    "\n",
    "    return income_statment_df.head(period)"
   ]
  },
  {
   "cell_type": "code",
   "execution_count": 447,
   "metadata": {},
   "outputs": [],
   "source": [
    "def get_la_ratio(ticker, quarters):\n",
    "  balance_sheet_url = \"https://yh-finance.p.rapidapi.com/stock/v2/get-balance-sheet\"\n",
    "\n",
    "  querystring = {\"symbol\":ticker,\"region\":\"US\"}\n",
    "\n",
    "  headers = {\n",
    "            'x-rapidapi-host': \"yh-finance.p.rapidapi.com\",\n",
    "            'x-rapidapi-key': KEY\n",
    "            }\n",
    "\n",
    "  response = requests.request(\"GET\", balance_sheet_url, headers=headers, params=querystring)\n",
    "\n",
    "  balance_sheet_response = response.json()\n",
    "\n",
    "  balance_df = pd.DataFrame()\n",
    "\n",
    "  for item in balance_sheet_response['balanceSheetHistoryQuarterly']['balanceSheetStatements']:\n",
    "    balance_line = pd.Series([item['endDate']['fmt'],\n",
    "                              item['totalCurrentLiabilities']['raw'],\n",
    "                              item['totalCurrentAssets']['raw']],\n",
    "                              index = ['quarter','liabilities','assets'])\n",
    "\n",
    "    balance_df = balance_df.append(balance_line, ignore_index = True)\n",
    "\n",
    "  balance_df.loc[:,'la_ratio'] = round(balance_df['liabilities']/balance_df['assets'],2)\n",
    "  balance_df.loc[:,'assets_billion'] = round(balance_df['assets']/1000000000,2)\n",
    "  balance_df.loc[:,'liabilities_billion'] = round(balance_df['liabilities']/1000000000,2)\n",
    "  balance_df = balance_df.drop(columns = ['assets','liabilities'])\n",
    "  balance_df['ticker'] = ticker\n",
    "\n",
    "  return balance_df.head(quarters)"
   ]
  },
  {
   "cell_type": "code",
   "execution_count": 448,
   "metadata": {},
   "outputs": [],
   "source": [
    "def get_pe_ratio(ticker, quarters):\n",
    "    stats_url = \"https://yh-finance.p.rapidapi.com/stock/v2/get-statistics\"\n",
    "\n",
    "    querystring = {\"symbol\":ticker,\"region\":\"US\"}\n",
    "\n",
    "    headers = {\n",
    "              'x-rapidapi-host': \"yh-finance.p.rapidapi.com\",\n",
    "              'x-rapidapi-key': KEY\n",
    "              }\n",
    "\n",
    "    stats_response = requests.request(\"GET\", stats_url, headers=headers, params=querystring).json()\n",
    "\n",
    "    ratio_df = pd.DataFrame()\n",
    "\n",
    "    if stats_response['timeSeries']['quarterlyPeRatio'] != []:\n",
    "        for quarter in stats_response['timeSeries']['quarterlyPeRatio']:\n",
    "            if quarter is not None:\n",
    "                pd_row = pd.Series([quarter['asOfDate'], quarter['reportedValue']['fmt']],\n",
    "                index = ['quarter','pe_ratio'])\n",
    "                ratio_df = ratio_df.append(pd_row, ignore_index=True)\n",
    "\n",
    "    if ratio_df.empty == True:\n",
    "        ratio_df['ticker'] = [ticker]\n",
    "        ratio_df['pe_ratio'] = [None]\n",
    "        ratio_df['quarter'] = [datetime.now().date()]\n",
    "\n",
    "    else:\n",
    "        pass\n",
    "\n",
    "    ratio_df['ticker'] = ticker\n",
    "\n",
    "    return ratio_df.sort_values(by = 'quarter', ascending = False).head(quarters)"
   ]
  },
  {
   "cell_type": "code",
   "execution_count": 449,
   "metadata": {},
   "outputs": [],
   "source": [
    "def list_perfomance(symbol):\n",
    "    weekly_history_df = get_weekly_history_df(symbol)\n",
    "\n",
    "    performance_list = [symbol,\\\n",
    "                        round((weekly_history_df.iloc[0]['close'] - weekly_history_df.iloc[-1]['close'])/weekly_history_df.loc[0]['close'],3),\\\n",
    "                        round(weekly_history_df['close'].std(),2),\n",
    "                        round(weekly_history_df['close'].mean(),2),\n",
    "                        round(weekly_history_df['close'].std()/weekly_history_df['close'].mean(),2),\n",
    "                        round(weekly_history_df.iloc[0]['close'],1)\n",
    "                        ]\n",
    "\n",
    "    return performance_list"
   ]
  },
  {
   "cell_type": "code",
   "execution_count": 453,
   "metadata": {},
   "outputs": [
    {
     "name": "stdout",
     "output_type": "stream",
     "text": [
      "Geting year stock prices...\n",
      "ATVI ADBE AMD ALGN GOOGL GOOG AMZN AEP AMGN ADI ANSS AAPL AMAT ASML TEAM ADSK ADP BIDU BIIB BKNG AVGO CDNS CDW CERN CHTR CHKP CTAS CSCO CTSH CMCSA CPRT COST CRWD CSX DXCM DOCU DLTR EBAY EA EXC FAST FISV FOXA FOX GILD HON IDXX ILMN INCY INTC INTU ISRG JD KDP KLAC KHC LRCX LULU MAR MRVL MTCH MELI FB MCHP MU MSFT MRNA MDLZ MNST NTES NFLX NVDA NXPI ORLY OKTA PCAR PAYX PYPL PTON PEP PDD QCOM REGN ROST SGEN SIRI SWKS SPLK SBUX SNPS TMUS TSLA TXN TCOM VRSN VRSK VRTX WBA WDAY XEL XLNX ZM Done!\n",
      "Geting liabilities to assets ratio...\n",
      "ATVI ADBE AMD ALGN GOOGL GOOG AMZN AEP AMGN ADI ANSS AAPL AMAT ASML TEAM ADSK ADP BIDU BIIB BKNG AVGO CDNS CDW CERN CHTR CHKP CTAS CSCO CTSH CMCSA CPRT COST CRWD CSX DXCM DOCU DLTR EBAY EA EXC FAST FISV FOXA FOX GILD HON IDXX ILMN INCY INTC INTU ISRG JD KDP KLAC KHC LRCX LULU MAR MRVL MTCH MELI FB MCHP MU MSFT MRNA MDLZ MNST NTES NFLX NVDA NXPI ORLY OKTA PCAR PAYX PYPL PTON PEP PDD QCOM REGN ROST SGEN SIRI SWKS SPLK SBUX SNPS TMUS TSLA TXN TCOM VRSN VRSK VRTX WBA WDAY XEL XLNX ZM Done!\n"
     ]
    }
   ],
   "source": [
    "counter = 0\n",
    "\n",
    "attributes = ['ticker','yoy_growth','std','mean_price','volatility','last_close_price']\n",
    "comparison_df = pd.DataFrame(columns = attributes)\n",
    "\n",
    "print('Geting year stock prices...')\n",
    "for ticker_name in list(nasdaq100_df['ticker']):\n",
    "    series_row = pd.Series(list_perfomance(ticker_name), index = attributes)\n",
    "    comparison_df = comparison_df.append(series_row, ignore_index=True)\n",
    "    print(ticker_name, end = ' ')\n",
    "\n",
    "print('Done!')\n",
    "\n",
    "la_ratio_main_df = pd.DataFrame()\n",
    "\n",
    "print('Geting liabilities to assets ratio...')\n",
    "for ticker_name in list(nasdaq100_df['ticker']):\n",
    "    mini_df = get_la_ratio(ticker_name,1)\n",
    "    la_ratio_main_df = la_ratio_main_df.append(mini_df)\n",
    "    print(ticker_name, end = ' ')\n",
    "\n",
    "print('Done!')"
   ]
  },
  {
   "cell_type": "code",
   "execution_count": 454,
   "metadata": {},
   "outputs": [
    {
     "name": "stdout",
     "output_type": "stream",
     "text": [
      "Geting profitability ratio...\n",
      "ATVI ADBE AMD ALGN GOOGL GOOG AMZN AEP AMGN ADI ANSS AAPL AMAT ASML TEAM ADSK ADP BIDU BIIB BKNG AVGO CDNS CDW CERN CHTR CHKP CTAS CSCO CTSH CMCSA CPRT COST CRWD CSX DXCM DOCU DLTR EBAY EA EXC FAST FISV FOXA FOX GILD HON IDXX ILMN INCY INTC INTU ISRG JD KDP KLAC KHC LRCX LULU MAR MRVL MTCH MELI FB MCHP MU MSFT MRNA MDLZ MNST NTES NFLX NVDA NXPI ORLY OKTA PCAR PAYX PYPL PTON PEP PDD QCOM REGN ROST SGEN SIRI SWKS SPLK SBUX SNPS TMUS TSLA TXN TCOM VRSN VRSK VRTX WBA WDAY XEL XLNX ZM Done!\n",
      "Geting price per earning ratio...\n",
      "ATVI ADBE AMD ALGN GOOGL GOOG AMZN AEP AMGN ADI ANSS AAPL AMAT ASML TEAM ADSK ADP BIDU BIIB BKNG AVGO CDNS CDW CERN CHTR CHKP CTAS CSCO CTSH CMCSA CPRT COST CRWD CSX DXCM DOCU DLTR EBAY EA EXC FAST FISV FOXA FOX GILD HON IDXX ILMN INCY INTC INTU ISRG JD KDP KLAC KHC LRCX LULU MAR MRVL MTCH MELI FB MCHP MU MSFT MRNA MDLZ MNST NTES NFLX NVDA NXPI ORLY OKTA PCAR PAYX PYPL PTON PEP PDD QCOM REGN ROST SGEN SIRI SWKS SPLK SBUX SNPS TMUS TSLA TXN TCOM VRSN VRSK VRTX WBA WDAY XEL XLNX ZM Done!\n"
     ]
    }
   ],
   "source": [
    "income_statement_main_df = pd.DataFrame()\n",
    "\n",
    "print('Geting profitability ratio...')\n",
    "for ticker_name in list(nasdaq100_df['ticker']):\n",
    "    mini_df = get_income_statement(ticker_name,1)\n",
    "    income_statement_main_df = income_statement_main_df.append(mini_df)\n",
    "    print(ticker_name, end = ' ')\n",
    "\n",
    "print('Done!')\n",
    "\n",
    "pe_ratio_main_df = pd.DataFrame()\n",
    "\n",
    "print('Geting price per earning ratio...')\n",
    "for ticker_name in list(nasdaq100_df['ticker']):\n",
    "    mini_df = get_pe_ratio(ticker_name,1)\n",
    "    pe_ratio_main_df = pe_ratio_main_df.append(mini_df)\n",
    "    print(ticker_name, end = ' ')\n",
    "    time.sleep(1)\n",
    "\n",
    "print('Done!')"
   ]
  },
  {
   "cell_type": "code",
   "execution_count": 456,
   "metadata": {},
   "outputs": [
    {
     "data": {
      "text/html": [
       "<div>\n",
       "<style scoped>\n",
       "    .dataframe tbody tr th:only-of-type {\n",
       "        vertical-align: middle;\n",
       "    }\n",
       "\n",
       "    .dataframe tbody tr th {\n",
       "        vertical-align: top;\n",
       "    }\n",
       "\n",
       "    .dataframe thead th {\n",
       "        text-align: right;\n",
       "    }\n",
       "</style>\n",
       "<table border=\"1\" class=\"dataframe\">\n",
       "  <thead>\n",
       "    <tr style=\"text-align: right;\">\n",
       "      <th></th>\n",
       "      <th>ticker</th>\n",
       "      <th>company_name</th>\n",
       "      <th>industry</th>\n",
       "      <th>sub_industry</th>\n",
       "      <th>last_close_price</th>\n",
       "      <th>yoy_growth</th>\n",
       "      <th>volatility</th>\n",
       "      <th>assets_billion</th>\n",
       "      <th>liabilities_billion</th>\n",
       "      <th>la_ratio</th>\n",
       "      <th>gross_profit_margin</th>\n",
       "      <th>net_profit_margin</th>\n",
       "      <th>pe_ratio</th>\n",
       "    </tr>\n",
       "  </thead>\n",
       "  <tbody>\n",
       "    <tr>\n",
       "      <th>0</th>\n",
       "      <td>ATVI</td>\n",
       "      <td>Activision Blizzard</td>\n",
       "      <td>Communication Services</td>\n",
       "      <td>Communication Services</td>\n",
       "      <td>60.600</td>\n",
       "      <td>-0.289</td>\n",
       "      <td>0.110</td>\n",
       "      <td>11.210</td>\n",
       "      <td>2.020</td>\n",
       "      <td>0.180</td>\n",
       "      <td>0.745</td>\n",
       "      <td>0.309</td>\n",
       "      <td>23.24</td>\n",
       "    </tr>\n",
       "    <tr>\n",
       "      <th>1</th>\n",
       "      <td>ADBE</td>\n",
       "      <td>Adobe Inc.</td>\n",
       "      <td>Information Technology</td>\n",
       "      <td>Information Technology</td>\n",
       "      <td>662.100</td>\n",
       "      <td>0.280</td>\n",
       "      <td>0.140</td>\n",
       "      <td>8.620</td>\n",
       "      <td>6.190</td>\n",
       "      <td>0.720</td>\n",
       "      <td>0.881</td>\n",
       "      <td>0.308</td>\n",
       "      <td>57.56</td>\n",
       "    </tr>\n",
       "    <tr>\n",
       "      <th>2</th>\n",
       "      <td>AMD</td>\n",
       "      <td>Advanced Micro Devices</td>\n",
       "      <td>Information Technology</td>\n",
       "      <td>Information Technology</td>\n",
       "      <td>154.800</td>\n",
       "      <td>0.437</td>\n",
       "      <td>0.190</td>\n",
       "      <td>7.990</td>\n",
       "      <td>3.560</td>\n",
       "      <td>0.450</td>\n",
       "      <td>0.484</td>\n",
       "      <td>0.214</td>\n",
       "      <td>36.49</td>\n",
       "    </tr>\n",
       "    <tr>\n",
       "      <th>3</th>\n",
       "      <td>ALGN</td>\n",
       "      <td>Align Technology</td>\n",
       "      <td>Health Care</td>\n",
       "      <td>Health Care</td>\n",
       "      <td>634.200</td>\n",
       "      <td>0.250</td>\n",
       "      <td>0.110</td>\n",
       "      <td>2.460</td>\n",
       "      <td>1.790</td>\n",
       "      <td>0.730</td>\n",
       "      <td>0.743</td>\n",
       "      <td>0.178</td>\n",
       "      <td>76.22</td>\n",
       "    </tr>\n",
       "    <tr>\n",
       "      <th>4</th>\n",
       "      <td>GOOGL</td>\n",
       "      <td>Alphabet Inc.</td>\n",
       "      <td>Communication Services</td>\n",
       "      <td>Communication Services</td>\n",
       "      <td>2843.700</td>\n",
       "      <td>0.372</td>\n",
       "      <td>0.170</td>\n",
       "      <td>184.110</td>\n",
       "      <td>61.780</td>\n",
       "      <td>0.340</td>\n",
       "      <td>0.576</td>\n",
       "      <td>0.291</td>\n",
       "      <td>29.01</td>\n",
       "    </tr>\n",
       "    <tr>\n",
       "      <th>...</th>\n",
       "      <td>...</td>\n",
       "      <td>...</td>\n",
       "      <td>...</td>\n",
       "      <td>...</td>\n",
       "      <td>...</td>\n",
       "      <td>...</td>\n",
       "      <td>...</td>\n",
       "      <td>...</td>\n",
       "      <td>...</td>\n",
       "      <td>...</td>\n",
       "      <td>...</td>\n",
       "      <td>...</td>\n",
       "      <td>...</td>\n",
       "    </tr>\n",
       "    <tr>\n",
       "      <th>97</th>\n",
       "      <td>WBA</td>\n",
       "      <td>Walgreens Boots Alliance</td>\n",
       "      <td>Consumer Staples</td>\n",
       "      <td>Consumer Staples</td>\n",
       "      <td>45.900</td>\n",
       "      <td>0.150</td>\n",
       "      <td>0.080</td>\n",
       "      <td>15.810</td>\n",
       "      <td>22.050</td>\n",
       "      <td>1.390</td>\n",
       "      <td>0.219</td>\n",
       "      <td>0.018</td>\n",
       "      <td>19.59</td>\n",
       "    </tr>\n",
       "    <tr>\n",
       "      <th>98</th>\n",
       "      <td>WDAY</td>\n",
       "      <td>Workday, Inc.</td>\n",
       "      <td>Information Technology</td>\n",
       "      <td>Information Technology</td>\n",
       "      <td>277.500</td>\n",
       "      <td>0.193</td>\n",
       "      <td>0.080</td>\n",
       "      <td>4.690</td>\n",
       "      <td>4.280</td>\n",
       "      <td>0.910</td>\n",
       "      <td>0.729</td>\n",
       "      <td>0.032</td>\n",
       "      <td>None</td>\n",
       "    </tr>\n",
       "    <tr>\n",
       "      <th>99</th>\n",
       "      <td>XEL</td>\n",
       "      <td>Xcel Energy</td>\n",
       "      <td>Utilities</td>\n",
       "      <td>Utilities</td>\n",
       "      <td>64.800</td>\n",
       "      <td>-0.043</td>\n",
       "      <td>0.050</td>\n",
       "      <td>4.490</td>\n",
       "      <td>5.760</td>\n",
       "      <td>1.280</td>\n",
       "      <td>0.453</td>\n",
       "      <td>0.176</td>\n",
       "      <td>21.26</td>\n",
       "    </tr>\n",
       "    <tr>\n",
       "      <th>100</th>\n",
       "      <td>XLNX</td>\n",
       "      <td>Xilinx</td>\n",
       "      <td>Information Technology</td>\n",
       "      <td>Information Technology</td>\n",
       "      <td>223.900</td>\n",
       "      <td>0.386</td>\n",
       "      <td>0.160</td>\n",
       "      <td>4.190</td>\n",
       "      <td>0.610</td>\n",
       "      <td>0.150</td>\n",
       "      <td>0.686</td>\n",
       "      <td>0.251</td>\n",
       "      <td>49.18</td>\n",
       "    </tr>\n",
       "    <tr>\n",
       "      <th>101</th>\n",
       "      <td>ZM</td>\n",
       "      <td>Zoom Video Communications</td>\n",
       "      <td>Information Technology</td>\n",
       "      <td>Information Technology</td>\n",
       "      <td>220.200</td>\n",
       "      <td>-1.142</td>\n",
       "      <td>0.150</td>\n",
       "      <td>6.110</td>\n",
       "      <td>1.690</td>\n",
       "      <td>0.280</td>\n",
       "      <td>0.742</td>\n",
       "      <td>0.324</td>\n",
       "      <td>82.98</td>\n",
       "    </tr>\n",
       "  </tbody>\n",
       "</table>\n",
       "<p>102 rows × 13 columns</p>\n",
       "</div>"
      ],
      "text/plain": [
       "    ticker               company_name                industry  \\\n",
       "0     ATVI        Activision Blizzard  Communication Services   \n",
       "1     ADBE                 Adobe Inc.  Information Technology   \n",
       "2      AMD     Advanced Micro Devices  Information Technology   \n",
       "3     ALGN           Align Technology             Health Care   \n",
       "4    GOOGL              Alphabet Inc.  Communication Services   \n",
       "..     ...                        ...                     ...   \n",
       "97     WBA   Walgreens Boots Alliance        Consumer Staples   \n",
       "98    WDAY              Workday, Inc.  Information Technology   \n",
       "99     XEL                Xcel Energy               Utilities   \n",
       "100   XLNX                     Xilinx  Information Technology   \n",
       "101     ZM  Zoom Video Communications  Information Technology   \n",
       "\n",
       "               sub_industry  last_close_price  yoy_growth  volatility  \\\n",
       "0    Communication Services            60.600      -0.289       0.110   \n",
       "1    Information Technology           662.100       0.280       0.140   \n",
       "2    Information Technology           154.800       0.437       0.190   \n",
       "3               Health Care           634.200       0.250       0.110   \n",
       "4    Communication Services          2843.700       0.372       0.170   \n",
       "..                      ...               ...         ...         ...   \n",
       "97         Consumer Staples            45.900       0.150       0.080   \n",
       "98   Information Technology           277.500       0.193       0.080   \n",
       "99                Utilities            64.800      -0.043       0.050   \n",
       "100  Information Technology           223.900       0.386       0.160   \n",
       "101  Information Technology           220.200      -1.142       0.150   \n",
       "\n",
       "     assets_billion  liabilities_billion  la_ratio  gross_profit_margin  \\\n",
       "0            11.210                2.020     0.180                0.745   \n",
       "1             8.620                6.190     0.720                0.881   \n",
       "2             7.990                3.560     0.450                0.484   \n",
       "3             2.460                1.790     0.730                0.743   \n",
       "4           184.110               61.780     0.340                0.576   \n",
       "..              ...                  ...       ...                  ...   \n",
       "97           15.810               22.050     1.390                0.219   \n",
       "98            4.690                4.280     0.910                0.729   \n",
       "99            4.490                5.760     1.280                0.453   \n",
       "100           4.190                0.610     0.150                0.686   \n",
       "101           6.110                1.690     0.280                0.742   \n",
       "\n",
       "     net_profit_margin pe_ratio  \n",
       "0                0.309    23.24  \n",
       "1                0.308    57.56  \n",
       "2                0.214    36.49  \n",
       "3                0.178    76.22  \n",
       "4                0.291    29.01  \n",
       "..                 ...      ...  \n",
       "97               0.018    19.59  \n",
       "98               0.032     None  \n",
       "99               0.176    21.26  \n",
       "100              0.251    49.18  \n",
       "101              0.324    82.98  \n",
       "\n",
       "[102 rows x 13 columns]"
      ]
     },
     "execution_count": 456,
     "metadata": {},
     "output_type": "execute_result"
    }
   ],
   "source": [
    "final_df = comparison_df.merge(la_ratio_main_df, left_on = ['ticker'], right_on = ['ticker'])\\\n",
    "                        .merge(income_statement_main_df, left_on = ['ticker'], right_on = ['ticker'])\\\n",
    "                        .merge(pe_ratio_main_df, left_on = ['ticker'], right_on = ['ticker'])\n",
    "\n",
    "final_df = final_df.merge(nasdaq100_df, left_on = ['ticker'], right_on = ['ticker'])\n",
    "\n",
    "final_df = final_df[['ticker','company_name','industry','sub_industry','last_close_price','yoy_growth','volatility',\n",
    "                    'assets_billion','liabilities_billion','la_ratio','gross_profit_margin','net_profit_margin',\n",
    "                    'pe_ratio']]\n",
    "\n",
    "final_df"
   ]
  },
  {
   "cell_type": "code",
   "execution_count": 457,
   "metadata": {},
   "outputs": [],
   "source": [
    "final_df.to_csv('/Users/ilya/Desktop/Computer-Science/Github/check-stock-portfolio/saved_df.csv')"
   ]
  },
  {
   "cell_type": "code",
   "execution_count": null,
   "metadata": {},
   "outputs": [],
   "source": [
    "#considerations\n",
    "#0. yoy_growth\n",
    "#1. volatility\n",
    "#2. la_ratio\n",
    "#3. gross_profit_margin\n",
    "#4. net_profit_margin\n",
    "#5. pe_ratio"
   ]
  },
  {
   "cell_type": "code",
   "execution_count": 466,
   "metadata": {},
   "outputs": [],
   "source": [
    "final_df = final_df.drop(columns = ['volatility_bin'])"
   ]
  },
  {
   "cell_type": "code",
   "execution_count": 492,
   "metadata": {},
   "outputs": [
    {
     "data": {
      "text/html": [
       "<div>\n",
       "<style scoped>\n",
       "    .dataframe tbody tr th:only-of-type {\n",
       "        vertical-align: middle;\n",
       "    }\n",
       "\n",
       "    .dataframe tbody tr th {\n",
       "        vertical-align: top;\n",
       "    }\n",
       "\n",
       "    .dataframe thead th {\n",
       "        text-align: right;\n",
       "    }\n",
       "</style>\n",
       "<table border=\"1\" class=\"dataframe\">\n",
       "  <thead>\n",
       "    <tr style=\"text-align: right;\">\n",
       "      <th></th>\n",
       "      <th>ticker</th>\n",
       "      <th>yoy_growth</th>\n",
       "      <th>volatility</th>\n",
       "      <th>la_ratio</th>\n",
       "      <th>gross_profit_margin</th>\n",
       "      <th>net_profit_margin</th>\n",
       "    </tr>\n",
       "  </thead>\n",
       "  <tbody>\n",
       "    <tr>\n",
       "      <th>0</th>\n",
       "      <td>ATVI</td>\n",
       "      <td>-0.289</td>\n",
       "      <td>0.110</td>\n",
       "      <td>0.180</td>\n",
       "      <td>0.745</td>\n",
       "      <td>0.309</td>\n",
       "    </tr>\n",
       "    <tr>\n",
       "      <th>1</th>\n",
       "      <td>ADBE</td>\n",
       "      <td>0.280</td>\n",
       "      <td>0.140</td>\n",
       "      <td>0.720</td>\n",
       "      <td>0.881</td>\n",
       "      <td>0.308</td>\n",
       "    </tr>\n",
       "    <tr>\n",
       "      <th>2</th>\n",
       "      <td>AMD</td>\n",
       "      <td>0.437</td>\n",
       "      <td>0.190</td>\n",
       "      <td>0.450</td>\n",
       "      <td>0.484</td>\n",
       "      <td>0.214</td>\n",
       "    </tr>\n",
       "    <tr>\n",
       "      <th>3</th>\n",
       "      <td>ALGN</td>\n",
       "      <td>0.250</td>\n",
       "      <td>0.110</td>\n",
       "      <td>0.730</td>\n",
       "      <td>0.743</td>\n",
       "      <td>0.178</td>\n",
       "    </tr>\n",
       "    <tr>\n",
       "      <th>4</th>\n",
       "      <td>GOOGL</td>\n",
       "      <td>0.372</td>\n",
       "      <td>0.170</td>\n",
       "      <td>0.340</td>\n",
       "      <td>0.576</td>\n",
       "      <td>0.291</td>\n",
       "    </tr>\n",
       "    <tr>\n",
       "      <th>...</th>\n",
       "      <td>...</td>\n",
       "      <td>...</td>\n",
       "      <td>...</td>\n",
       "      <td>...</td>\n",
       "      <td>...</td>\n",
       "      <td>...</td>\n",
       "    </tr>\n",
       "    <tr>\n",
       "      <th>97</th>\n",
       "      <td>WBA</td>\n",
       "      <td>0.150</td>\n",
       "      <td>0.080</td>\n",
       "      <td>1.390</td>\n",
       "      <td>0.219</td>\n",
       "      <td>0.018</td>\n",
       "    </tr>\n",
       "    <tr>\n",
       "      <th>98</th>\n",
       "      <td>WDAY</td>\n",
       "      <td>0.193</td>\n",
       "      <td>0.080</td>\n",
       "      <td>0.910</td>\n",
       "      <td>0.729</td>\n",
       "      <td>0.032</td>\n",
       "    </tr>\n",
       "    <tr>\n",
       "      <th>99</th>\n",
       "      <td>XEL</td>\n",
       "      <td>-0.043</td>\n",
       "      <td>0.050</td>\n",
       "      <td>1.280</td>\n",
       "      <td>0.453</td>\n",
       "      <td>0.176</td>\n",
       "    </tr>\n",
       "    <tr>\n",
       "      <th>100</th>\n",
       "      <td>XLNX</td>\n",
       "      <td>0.386</td>\n",
       "      <td>0.160</td>\n",
       "      <td>0.150</td>\n",
       "      <td>0.686</td>\n",
       "      <td>0.251</td>\n",
       "    </tr>\n",
       "    <tr>\n",
       "      <th>101</th>\n",
       "      <td>ZM</td>\n",
       "      <td>-1.142</td>\n",
       "      <td>0.150</td>\n",
       "      <td>0.280</td>\n",
       "      <td>0.742</td>\n",
       "      <td>0.324</td>\n",
       "    </tr>\n",
       "  </tbody>\n",
       "</table>\n",
       "<p>102 rows × 6 columns</p>\n",
       "</div>"
      ],
      "text/plain": [
       "    ticker  yoy_growth  volatility  la_ratio  gross_profit_margin  \\\n",
       "0     ATVI      -0.289       0.110     0.180                0.745   \n",
       "1     ADBE       0.280       0.140     0.720                0.881   \n",
       "2      AMD       0.437       0.190     0.450                0.484   \n",
       "3     ALGN       0.250       0.110     0.730                0.743   \n",
       "4    GOOGL       0.372       0.170     0.340                0.576   \n",
       "..     ...         ...         ...       ...                  ...   \n",
       "97     WBA       0.150       0.080     1.390                0.219   \n",
       "98    WDAY       0.193       0.080     0.910                0.729   \n",
       "99     XEL      -0.043       0.050     1.280                0.453   \n",
       "100   XLNX       0.386       0.160     0.150                0.686   \n",
       "101     ZM      -1.142       0.150     0.280                0.742   \n",
       "\n",
       "     net_profit_margin  \n",
       "0                0.309  \n",
       "1                0.308  \n",
       "2                0.214  \n",
       "3                0.178  \n",
       "4                0.291  \n",
       "..                 ...  \n",
       "97               0.018  \n",
       "98               0.032  \n",
       "99               0.176  \n",
       "100              0.251  \n",
       "101              0.324  \n",
       "\n",
       "[102 rows x 6 columns]"
      ]
     },
     "execution_count": 492,
     "metadata": {},
     "output_type": "execute_result"
    }
   ],
   "source": [
    "analysis_df = final_df[['ticker','yoy_growth','volatility','la_ratio','gross_profit_margin','net_profit_margin']]\n",
    "\n",
    "analysis_df"
   ]
  },
  {
   "cell_type": "code",
   "execution_count": 520,
   "metadata": {},
   "outputs": [
    {
     "data": {
      "text/html": [
       "<div>\n",
       "<style scoped>\n",
       "    .dataframe tbody tr th:only-of-type {\n",
       "        vertical-align: middle;\n",
       "    }\n",
       "\n",
       "    .dataframe tbody tr th {\n",
       "        vertical-align: top;\n",
       "    }\n",
       "\n",
       "    .dataframe thead th {\n",
       "        text-align: right;\n",
       "    }\n",
       "</style>\n",
       "<table border=\"1\" class=\"dataframe\">\n",
       "  <thead>\n",
       "    <tr style=\"text-align: right;\">\n",
       "      <th></th>\n",
       "      <th>yoy_growth</th>\n",
       "      <th>volatility</th>\n",
       "      <th>la_ratio</th>\n",
       "      <th>gross_profit_margin</th>\n",
       "      <th>net_profit_margin</th>\n",
       "    </tr>\n",
       "  </thead>\n",
       "  <tbody>\n",
       "    <tr>\n",
       "      <th>count</th>\n",
       "      <td>101.000</td>\n",
       "      <td>102.000</td>\n",
       "      <td>102.000</td>\n",
       "      <td>102.000</td>\n",
       "      <td>102.000</td>\n",
       "    </tr>\n",
       "    <tr>\n",
       "      <th>mean</th>\n",
       "      <td>0.106</td>\n",
       "      <td>0.108</td>\n",
       "      <td>0.713</td>\n",
       "      <td>0.571</td>\n",
       "      <td>0.146</td>\n",
       "    </tr>\n",
       "    <tr>\n",
       "      <th>std</th>\n",
       "      <td>0.305</td>\n",
       "      <td>0.062</td>\n",
       "      <td>0.539</td>\n",
       "      <td>0.207</td>\n",
       "      <td>0.242</td>\n",
       "    </tr>\n",
       "    <tr>\n",
       "      <th>min</th>\n",
       "      <td>-1.349</td>\n",
       "      <td>0.040</td>\n",
       "      <td>0.140</td>\n",
       "      <td>-0.278</td>\n",
       "      <td>-0.877</td>\n",
       "    </tr>\n",
       "    <tr>\n",
       "      <th>25%</th>\n",
       "      <td>-0.004</td>\n",
       "      <td>0.060</td>\n",
       "      <td>0.340</td>\n",
       "      <td>0.463</td>\n",
       "      <td>0.106</td>\n",
       "    </tr>\n",
       "    <tr>\n",
       "      <th>50%</th>\n",
       "      <td>0.157</td>\n",
       "      <td>0.090</td>\n",
       "      <td>0.595</td>\n",
       "      <td>0.576</td>\n",
       "      <td>0.175</td>\n",
       "    </tr>\n",
       "    <tr>\n",
       "      <th>75%</th>\n",
       "      <td>0.262</td>\n",
       "      <td>0.130</td>\n",
       "      <td>0.865</td>\n",
       "      <td>0.729</td>\n",
       "      <td>0.279</td>\n",
       "    </tr>\n",
       "    <tr>\n",
       "      <th>max</th>\n",
       "      <td>0.615</td>\n",
       "      <td>0.440</td>\n",
       "      <td>3.500</td>\n",
       "      <td>0.917</td>\n",
       "      <td>0.671</td>\n",
       "    </tr>\n",
       "  </tbody>\n",
       "</table>\n",
       "</div>"
      ],
      "text/plain": [
       "       yoy_growth  volatility  la_ratio  gross_profit_margin  \\\n",
       "count     101.000     102.000   102.000              102.000   \n",
       "mean        0.106       0.108     0.713                0.571   \n",
       "std         0.305       0.062     0.539                0.207   \n",
       "min        -1.349       0.040     0.140               -0.278   \n",
       "25%        -0.004       0.060     0.340                0.463   \n",
       "50%         0.157       0.090     0.595                0.576   \n",
       "75%         0.262       0.130     0.865                0.729   \n",
       "max         0.615       0.440     3.500                0.917   \n",
       "\n",
       "       net_profit_margin  \n",
       "count            102.000  \n",
       "mean               0.146  \n",
       "std                0.242  \n",
       "min               -0.877  \n",
       "25%                0.106  \n",
       "50%                0.175  \n",
       "75%                0.279  \n",
       "max                0.671  "
      ]
     },
     "execution_count": 520,
     "metadata": {},
     "output_type": "execute_result"
    }
   ],
   "source": [
    "analysis_df.describe()"
   ]
  },
  {
   "cell_type": "code",
   "execution_count": 494,
   "metadata": {},
   "outputs": [],
   "source": [
    "la_ratio_top = analysis_df['la_ratio'].mean() + analysis_df['la_ratio'].std()\n",
    "volatility_top = analysis_df['volatility'].mean() + analysis_df['volatility'].std()\n",
    "yoy_growth_bottom = analysis_df['yoy_growth'].mean() - analysis_df['yoy_growth'].std()"
   ]
  },
  {
   "cell_type": "code",
   "execution_count": 521,
   "metadata": {},
   "outputs": [
    {
     "name": "stderr",
     "output_type": "stream",
     "text": [
      "/opt/anaconda3/lib/python3.7/site-packages/pandas/core/indexing.py:1597: SettingWithCopyWarning:\n",
      "\n",
      "\n",
      "A value is trying to be set on a copy of a slice from a DataFrame.\n",
      "Try using .loc[row_indexer,col_indexer] = value instead\n",
      "\n",
      "See the caveats in the documentation: https://pandas.pydata.org/pandas-docs/stable/user_guide/indexing.html#returning-a-view-versus-a-copy\n",
      "\n",
      "/opt/anaconda3/lib/python3.7/site-packages/pandas/core/indexing.py:1676: SettingWithCopyWarning:\n",
      "\n",
      "\n",
      "A value is trying to be set on a copy of a slice from a DataFrame.\n",
      "Try using .loc[row_indexer,col_indexer] = value instead\n",
      "\n",
      "See the caveats in the documentation: https://pandas.pydata.org/pandas-docs/stable/user_guide/indexing.html#returning-a-view-versus-a-copy\n",
      "\n"
     ]
    },
    {
     "data": {
      "application/vnd.plotly.v1+json": {
       "config": {
        "plotlyServerURL": "https://plot.ly"
       },
       "data": [
        {
         "alignmentgroup": "True",
         "hoverlabel": {
          "namelength": 0
         },
         "hovertemplate": "la_ratio_bin=%{x}<br>ticker=%{text}",
         "legendgroup": "",
         "marker": {
          "color": "#106e45"
         },
         "name": "",
         "offsetgroup": "",
         "orientation": "v",
         "showlegend": false,
         "text": [
          16,
          15,
          14,
          11,
          16,
          12,
          5,
          3
         ],
         "textfont": {
          "size": 14
         },
         "textposition": "outside",
         "texttemplate": "%{text}",
         "type": "bar",
         "x": [
          "(0.1, 0.3]",
          "(0.3, 0.4]",
          "(0.4, 0.6]",
          "(0.6, 0.7]",
          "(0.7, 0.8]",
          "(0.8, 1.0]",
          "(1.0, 1.1]",
          "(1.1, 1.2]"
         ],
         "xaxis": "x",
         "y": [
          16,
          15,
          14,
          11,
          16,
          12,
          5,
          3
         ],
         "yaxis": "y"
        }
       ],
       "layout": {
        "barmode": "relative",
        "height": 500,
        "legend": {
         "tracegroupgap": 0
        },
        "margin": {
         "t": 60
        },
        "template": {
         "data": {
          "bar": [
           {
            "error_x": {
             "color": "#2a3f5f"
            },
            "error_y": {
             "color": "#2a3f5f"
            },
            "marker": {
             "line": {
              "color": "#E5ECF6",
              "width": 0.5
             }
            },
            "type": "bar"
           }
          ],
          "barpolar": [
           {
            "marker": {
             "line": {
              "color": "#E5ECF6",
              "width": 0.5
             }
            },
            "type": "barpolar"
           }
          ],
          "carpet": [
           {
            "aaxis": {
             "endlinecolor": "#2a3f5f",
             "gridcolor": "white",
             "linecolor": "white",
             "minorgridcolor": "white",
             "startlinecolor": "#2a3f5f"
            },
            "baxis": {
             "endlinecolor": "#2a3f5f",
             "gridcolor": "white",
             "linecolor": "white",
             "minorgridcolor": "white",
             "startlinecolor": "#2a3f5f"
            },
            "type": "carpet"
           }
          ],
          "choropleth": [
           {
            "colorbar": {
             "outlinewidth": 0,
             "ticks": ""
            },
            "type": "choropleth"
           }
          ],
          "contour": [
           {
            "colorbar": {
             "outlinewidth": 0,
             "ticks": ""
            },
            "colorscale": [
             [
              0,
              "#0d0887"
             ],
             [
              0.1111111111111111,
              "#46039f"
             ],
             [
              0.2222222222222222,
              "#7201a8"
             ],
             [
              0.3333333333333333,
              "#9c179e"
             ],
             [
              0.4444444444444444,
              "#bd3786"
             ],
             [
              0.5555555555555556,
              "#d8576b"
             ],
             [
              0.6666666666666666,
              "#ed7953"
             ],
             [
              0.7777777777777778,
              "#fb9f3a"
             ],
             [
              0.8888888888888888,
              "#fdca26"
             ],
             [
              1,
              "#f0f921"
             ]
            ],
            "type": "contour"
           }
          ],
          "contourcarpet": [
           {
            "colorbar": {
             "outlinewidth": 0,
             "ticks": ""
            },
            "type": "contourcarpet"
           }
          ],
          "heatmap": [
           {
            "colorbar": {
             "outlinewidth": 0,
             "ticks": ""
            },
            "colorscale": [
             [
              0,
              "#0d0887"
             ],
             [
              0.1111111111111111,
              "#46039f"
             ],
             [
              0.2222222222222222,
              "#7201a8"
             ],
             [
              0.3333333333333333,
              "#9c179e"
             ],
             [
              0.4444444444444444,
              "#bd3786"
             ],
             [
              0.5555555555555556,
              "#d8576b"
             ],
             [
              0.6666666666666666,
              "#ed7953"
             ],
             [
              0.7777777777777778,
              "#fb9f3a"
             ],
             [
              0.8888888888888888,
              "#fdca26"
             ],
             [
              1,
              "#f0f921"
             ]
            ],
            "type": "heatmap"
           }
          ],
          "heatmapgl": [
           {
            "colorbar": {
             "outlinewidth": 0,
             "ticks": ""
            },
            "colorscale": [
             [
              0,
              "#0d0887"
             ],
             [
              0.1111111111111111,
              "#46039f"
             ],
             [
              0.2222222222222222,
              "#7201a8"
             ],
             [
              0.3333333333333333,
              "#9c179e"
             ],
             [
              0.4444444444444444,
              "#bd3786"
             ],
             [
              0.5555555555555556,
              "#d8576b"
             ],
             [
              0.6666666666666666,
              "#ed7953"
             ],
             [
              0.7777777777777778,
              "#fb9f3a"
             ],
             [
              0.8888888888888888,
              "#fdca26"
             ],
             [
              1,
              "#f0f921"
             ]
            ],
            "type": "heatmapgl"
           }
          ],
          "histogram": [
           {
            "marker": {
             "colorbar": {
              "outlinewidth": 0,
              "ticks": ""
             }
            },
            "type": "histogram"
           }
          ],
          "histogram2d": [
           {
            "colorbar": {
             "outlinewidth": 0,
             "ticks": ""
            },
            "colorscale": [
             [
              0,
              "#0d0887"
             ],
             [
              0.1111111111111111,
              "#46039f"
             ],
             [
              0.2222222222222222,
              "#7201a8"
             ],
             [
              0.3333333333333333,
              "#9c179e"
             ],
             [
              0.4444444444444444,
              "#bd3786"
             ],
             [
              0.5555555555555556,
              "#d8576b"
             ],
             [
              0.6666666666666666,
              "#ed7953"
             ],
             [
              0.7777777777777778,
              "#fb9f3a"
             ],
             [
              0.8888888888888888,
              "#fdca26"
             ],
             [
              1,
              "#f0f921"
             ]
            ],
            "type": "histogram2d"
           }
          ],
          "histogram2dcontour": [
           {
            "colorbar": {
             "outlinewidth": 0,
             "ticks": ""
            },
            "colorscale": [
             [
              0,
              "#0d0887"
             ],
             [
              0.1111111111111111,
              "#46039f"
             ],
             [
              0.2222222222222222,
              "#7201a8"
             ],
             [
              0.3333333333333333,
              "#9c179e"
             ],
             [
              0.4444444444444444,
              "#bd3786"
             ],
             [
              0.5555555555555556,
              "#d8576b"
             ],
             [
              0.6666666666666666,
              "#ed7953"
             ],
             [
              0.7777777777777778,
              "#fb9f3a"
             ],
             [
              0.8888888888888888,
              "#fdca26"
             ],
             [
              1,
              "#f0f921"
             ]
            ],
            "type": "histogram2dcontour"
           }
          ],
          "mesh3d": [
           {
            "colorbar": {
             "outlinewidth": 0,
             "ticks": ""
            },
            "type": "mesh3d"
           }
          ],
          "parcoords": [
           {
            "line": {
             "colorbar": {
              "outlinewidth": 0,
              "ticks": ""
             }
            },
            "type": "parcoords"
           }
          ],
          "pie": [
           {
            "automargin": true,
            "type": "pie"
           }
          ],
          "scatter": [
           {
            "marker": {
             "colorbar": {
              "outlinewidth": 0,
              "ticks": ""
             }
            },
            "type": "scatter"
           }
          ],
          "scatter3d": [
           {
            "line": {
             "colorbar": {
              "outlinewidth": 0,
              "ticks": ""
             }
            },
            "marker": {
             "colorbar": {
              "outlinewidth": 0,
              "ticks": ""
             }
            },
            "type": "scatter3d"
           }
          ],
          "scattercarpet": [
           {
            "marker": {
             "colorbar": {
              "outlinewidth": 0,
              "ticks": ""
             }
            },
            "type": "scattercarpet"
           }
          ],
          "scattergeo": [
           {
            "marker": {
             "colorbar": {
              "outlinewidth": 0,
              "ticks": ""
             }
            },
            "type": "scattergeo"
           }
          ],
          "scattergl": [
           {
            "marker": {
             "colorbar": {
              "outlinewidth": 0,
              "ticks": ""
             }
            },
            "type": "scattergl"
           }
          ],
          "scattermapbox": [
           {
            "marker": {
             "colorbar": {
              "outlinewidth": 0,
              "ticks": ""
             }
            },
            "type": "scattermapbox"
           }
          ],
          "scatterpolar": [
           {
            "marker": {
             "colorbar": {
              "outlinewidth": 0,
              "ticks": ""
             }
            },
            "type": "scatterpolar"
           }
          ],
          "scatterpolargl": [
           {
            "marker": {
             "colorbar": {
              "outlinewidth": 0,
              "ticks": ""
             }
            },
            "type": "scatterpolargl"
           }
          ],
          "scatterternary": [
           {
            "marker": {
             "colorbar": {
              "outlinewidth": 0,
              "ticks": ""
             }
            },
            "type": "scatterternary"
           }
          ],
          "surface": [
           {
            "colorbar": {
             "outlinewidth": 0,
             "ticks": ""
            },
            "colorscale": [
             [
              0,
              "#0d0887"
             ],
             [
              0.1111111111111111,
              "#46039f"
             ],
             [
              0.2222222222222222,
              "#7201a8"
             ],
             [
              0.3333333333333333,
              "#9c179e"
             ],
             [
              0.4444444444444444,
              "#bd3786"
             ],
             [
              0.5555555555555556,
              "#d8576b"
             ],
             [
              0.6666666666666666,
              "#ed7953"
             ],
             [
              0.7777777777777778,
              "#fb9f3a"
             ],
             [
              0.8888888888888888,
              "#fdca26"
             ],
             [
              1,
              "#f0f921"
             ]
            ],
            "type": "surface"
           }
          ],
          "table": [
           {
            "cells": {
             "fill": {
              "color": "#EBF0F8"
             },
             "line": {
              "color": "white"
             }
            },
            "header": {
             "fill": {
              "color": "#C8D4E3"
             },
             "line": {
              "color": "white"
             }
            },
            "type": "table"
           }
          ]
         },
         "layout": {
          "annotationdefaults": {
           "arrowcolor": "#2a3f5f",
           "arrowhead": 0,
           "arrowwidth": 1
          },
          "coloraxis": {
           "colorbar": {
            "outlinewidth": 0,
            "ticks": ""
           }
          },
          "colorscale": {
           "diverging": [
            [
             0,
             "#8e0152"
            ],
            [
             0.1,
             "#c51b7d"
            ],
            [
             0.2,
             "#de77ae"
            ],
            [
             0.3,
             "#f1b6da"
            ],
            [
             0.4,
             "#fde0ef"
            ],
            [
             0.5,
             "#f7f7f7"
            ],
            [
             0.6,
             "#e6f5d0"
            ],
            [
             0.7,
             "#b8e186"
            ],
            [
             0.8,
             "#7fbc41"
            ],
            [
             0.9,
             "#4d9221"
            ],
            [
             1,
             "#276419"
            ]
           ],
           "sequential": [
            [
             0,
             "#0d0887"
            ],
            [
             0.1111111111111111,
             "#46039f"
            ],
            [
             0.2222222222222222,
             "#7201a8"
            ],
            [
             0.3333333333333333,
             "#9c179e"
            ],
            [
             0.4444444444444444,
             "#bd3786"
            ],
            [
             0.5555555555555556,
             "#d8576b"
            ],
            [
             0.6666666666666666,
             "#ed7953"
            ],
            [
             0.7777777777777778,
             "#fb9f3a"
            ],
            [
             0.8888888888888888,
             "#fdca26"
            ],
            [
             1,
             "#f0f921"
            ]
           ],
           "sequentialminus": [
            [
             0,
             "#0d0887"
            ],
            [
             0.1111111111111111,
             "#46039f"
            ],
            [
             0.2222222222222222,
             "#7201a8"
            ],
            [
             0.3333333333333333,
             "#9c179e"
            ],
            [
             0.4444444444444444,
             "#bd3786"
            ],
            [
             0.5555555555555556,
             "#d8576b"
            ],
            [
             0.6666666666666666,
             "#ed7953"
            ],
            [
             0.7777777777777778,
             "#fb9f3a"
            ],
            [
             0.8888888888888888,
             "#fdca26"
            ],
            [
             1,
             "#f0f921"
            ]
           ]
          },
          "colorway": [
           "#636efa",
           "#EF553B",
           "#00cc96",
           "#ab63fa",
           "#FFA15A",
           "#19d3f3",
           "#FF6692",
           "#B6E880",
           "#FF97FF",
           "#FECB52"
          ],
          "font": {
           "color": "#2a3f5f"
          },
          "geo": {
           "bgcolor": "white",
           "lakecolor": "white",
           "landcolor": "#E5ECF6",
           "showlakes": true,
           "showland": true,
           "subunitcolor": "white"
          },
          "hoverlabel": {
           "align": "left"
          },
          "hovermode": "closest",
          "mapbox": {
           "style": "light"
          },
          "paper_bgcolor": "white",
          "plot_bgcolor": "#E5ECF6",
          "polar": {
           "angularaxis": {
            "gridcolor": "white",
            "linecolor": "white",
            "ticks": ""
           },
           "bgcolor": "#E5ECF6",
           "radialaxis": {
            "gridcolor": "white",
            "linecolor": "white",
            "ticks": ""
           }
          },
          "scene": {
           "xaxis": {
            "backgroundcolor": "#E5ECF6",
            "gridcolor": "white",
            "gridwidth": 2,
            "linecolor": "white",
            "showbackground": true,
            "ticks": "",
            "zerolinecolor": "white"
           },
           "yaxis": {
            "backgroundcolor": "#E5ECF6",
            "gridcolor": "white",
            "gridwidth": 2,
            "linecolor": "white",
            "showbackground": true,
            "ticks": "",
            "zerolinecolor": "white"
           },
           "zaxis": {
            "backgroundcolor": "#E5ECF6",
            "gridcolor": "white",
            "gridwidth": 2,
            "linecolor": "white",
            "showbackground": true,
            "ticks": "",
            "zerolinecolor": "white"
           }
          },
          "shapedefaults": {
           "line": {
            "color": "#2a3f5f"
           }
          },
          "ternary": {
           "aaxis": {
            "gridcolor": "white",
            "linecolor": "white",
            "ticks": ""
           },
           "baxis": {
            "gridcolor": "white",
            "linecolor": "white",
            "ticks": ""
           },
           "bgcolor": "#E5ECF6",
           "caxis": {
            "gridcolor": "white",
            "linecolor": "white",
            "ticks": ""
           }
          },
          "title": {
           "x": 0.05
          },
          "xaxis": {
           "automargin": true,
           "gridcolor": "white",
           "linecolor": "white",
           "ticks": "",
           "title": {
            "standoff": 15
           },
           "zerolinecolor": "white",
           "zerolinewidth": 2
          },
          "yaxis": {
           "automargin": true,
           "gridcolor": "white",
           "linecolor": "white",
           "ticks": "",
           "title": {
            "standoff": 15
           },
           "zerolinecolor": "white",
           "zerolinewidth": 2
          }
         }
        },
        "title": {
         "text": "Liabilities to Assets Distribution"
        },
        "width": 1000,
        "xaxis": {
         "anchor": "y",
         "domain": [
          0,
          1
         ],
         "title": {
          "text": "LA Ratio Bin"
         }
        },
        "yaxis": {
         "anchor": "x",
         "domain": [
          0,
          1
         ],
         "title": {
          "text": "Number of Companies"
         }
        }
       }
      }
     },
     "metadata": {},
     "output_type": "display_data"
    }
   ],
   "source": [
    "la_analysis_df = analysis_df[analysis_df['la_ratio'] < la_ratio_top]\n",
    "la_analysis_df.loc[:,'la_ratio_bin'] = pd.cut(la_analysis_df['la_ratio'], 8, precision = 1)\n",
    "la_analysis_df2 = la_analysis_df[['ticker','la_ratio_bin']].groupby('la_ratio_bin').count().reset_index()\n",
    "la_analysis_df2.loc[:,'la_ratio_bin'] = la_analysis_df2['la_ratio_bin'].astype('str')\n",
    "\n",
    "\n",
    "fig = px.bar(la_analysis_df2, x='la_ratio_bin', y='ticker', text = 'ticker')\n",
    "\n",
    "fig.update_traces(textposition='outside',\n",
    "                  texttemplate='%{text}',\n",
    "                  marker_color='#106e45',\n",
    "                  textfont_size=14)\n",
    "\n",
    "fig.update_layout(title_text = 'Liabilities to Assets Distribution',\n",
    "                  yaxis_title = 'Number of Companies',\n",
    "                  xaxis_title = 'LA Ratio Bin',\n",
    "                  height = 500, width = 1000)\n",
    "\n",
    "fig.show()"
   ]
  },
  {
   "cell_type": "code",
   "execution_count": 522,
   "metadata": {},
   "outputs": [
    {
     "name": "stderr",
     "output_type": "stream",
     "text": [
      "/opt/anaconda3/lib/python3.7/site-packages/pandas/core/indexing.py:1597: SettingWithCopyWarning:\n",
      "\n",
      "\n",
      "A value is trying to be set on a copy of a slice from a DataFrame.\n",
      "Try using .loc[row_indexer,col_indexer] = value instead\n",
      "\n",
      "See the caveats in the documentation: https://pandas.pydata.org/pandas-docs/stable/user_guide/indexing.html#returning-a-view-versus-a-copy\n",
      "\n",
      "/opt/anaconda3/lib/python3.7/site-packages/pandas/core/indexing.py:1676: SettingWithCopyWarning:\n",
      "\n",
      "\n",
      "A value is trying to be set on a copy of a slice from a DataFrame.\n",
      "Try using .loc[row_indexer,col_indexer] = value instead\n",
      "\n",
      "See the caveats in the documentation: https://pandas.pydata.org/pandas-docs/stable/user_guide/indexing.html#returning-a-view-versus-a-copy\n",
      "\n"
     ]
    },
    {
     "data": {
      "application/vnd.plotly.v1+json": {
       "config": {
        "plotlyServerURL": "https://plot.ly"
       },
       "data": [
        {
         "alignmentgroup": "True",
         "hoverlabel": {
          "namelength": 0
         },
         "hovertemplate": "volatility_bin=%{x}<br>ticker=%{text}",
         "legendgroup": "",
         "marker": {
          "color": "#9467bd"
         },
         "name": "",
         "offsetgroup": "",
         "orientation": "v",
         "showlegend": false,
         "text": [
          16,
          16,
          11,
          14,
          9,
          14,
          5,
          4
         ],
         "textfont": {
          "size": 14
         },
         "textposition": "outside",
         "texttemplate": "%{text}",
         "type": "bar",
         "x": [
          "(0.04, 0.055]",
          "(0.055, 0.07]",
          "(0.07, 0.085]",
          "(0.085, 0.1]",
          "(0.1, 0.12]",
          "(0.12, 0.13]",
          "(0.13, 0.14]",
          "(0.14, 0.16]"
         ],
         "xaxis": "x",
         "y": [
          16,
          16,
          11,
          14,
          9,
          14,
          5,
          4
         ],
         "yaxis": "y"
        }
       ],
       "layout": {
        "barmode": "relative",
        "height": 500,
        "legend": {
         "tracegroupgap": 0
        },
        "margin": {
         "t": 60
        },
        "template": {
         "data": {
          "bar": [
           {
            "error_x": {
             "color": "#2a3f5f"
            },
            "error_y": {
             "color": "#2a3f5f"
            },
            "marker": {
             "line": {
              "color": "#E5ECF6",
              "width": 0.5
             }
            },
            "type": "bar"
           }
          ],
          "barpolar": [
           {
            "marker": {
             "line": {
              "color": "#E5ECF6",
              "width": 0.5
             }
            },
            "type": "barpolar"
           }
          ],
          "carpet": [
           {
            "aaxis": {
             "endlinecolor": "#2a3f5f",
             "gridcolor": "white",
             "linecolor": "white",
             "minorgridcolor": "white",
             "startlinecolor": "#2a3f5f"
            },
            "baxis": {
             "endlinecolor": "#2a3f5f",
             "gridcolor": "white",
             "linecolor": "white",
             "minorgridcolor": "white",
             "startlinecolor": "#2a3f5f"
            },
            "type": "carpet"
           }
          ],
          "choropleth": [
           {
            "colorbar": {
             "outlinewidth": 0,
             "ticks": ""
            },
            "type": "choropleth"
           }
          ],
          "contour": [
           {
            "colorbar": {
             "outlinewidth": 0,
             "ticks": ""
            },
            "colorscale": [
             [
              0,
              "#0d0887"
             ],
             [
              0.1111111111111111,
              "#46039f"
             ],
             [
              0.2222222222222222,
              "#7201a8"
             ],
             [
              0.3333333333333333,
              "#9c179e"
             ],
             [
              0.4444444444444444,
              "#bd3786"
             ],
             [
              0.5555555555555556,
              "#d8576b"
             ],
             [
              0.6666666666666666,
              "#ed7953"
             ],
             [
              0.7777777777777778,
              "#fb9f3a"
             ],
             [
              0.8888888888888888,
              "#fdca26"
             ],
             [
              1,
              "#f0f921"
             ]
            ],
            "type": "contour"
           }
          ],
          "contourcarpet": [
           {
            "colorbar": {
             "outlinewidth": 0,
             "ticks": ""
            },
            "type": "contourcarpet"
           }
          ],
          "heatmap": [
           {
            "colorbar": {
             "outlinewidth": 0,
             "ticks": ""
            },
            "colorscale": [
             [
              0,
              "#0d0887"
             ],
             [
              0.1111111111111111,
              "#46039f"
             ],
             [
              0.2222222222222222,
              "#7201a8"
             ],
             [
              0.3333333333333333,
              "#9c179e"
             ],
             [
              0.4444444444444444,
              "#bd3786"
             ],
             [
              0.5555555555555556,
              "#d8576b"
             ],
             [
              0.6666666666666666,
              "#ed7953"
             ],
             [
              0.7777777777777778,
              "#fb9f3a"
             ],
             [
              0.8888888888888888,
              "#fdca26"
             ],
             [
              1,
              "#f0f921"
             ]
            ],
            "type": "heatmap"
           }
          ],
          "heatmapgl": [
           {
            "colorbar": {
             "outlinewidth": 0,
             "ticks": ""
            },
            "colorscale": [
             [
              0,
              "#0d0887"
             ],
             [
              0.1111111111111111,
              "#46039f"
             ],
             [
              0.2222222222222222,
              "#7201a8"
             ],
             [
              0.3333333333333333,
              "#9c179e"
             ],
             [
              0.4444444444444444,
              "#bd3786"
             ],
             [
              0.5555555555555556,
              "#d8576b"
             ],
             [
              0.6666666666666666,
              "#ed7953"
             ],
             [
              0.7777777777777778,
              "#fb9f3a"
             ],
             [
              0.8888888888888888,
              "#fdca26"
             ],
             [
              1,
              "#f0f921"
             ]
            ],
            "type": "heatmapgl"
           }
          ],
          "histogram": [
           {
            "marker": {
             "colorbar": {
              "outlinewidth": 0,
              "ticks": ""
             }
            },
            "type": "histogram"
           }
          ],
          "histogram2d": [
           {
            "colorbar": {
             "outlinewidth": 0,
             "ticks": ""
            },
            "colorscale": [
             [
              0,
              "#0d0887"
             ],
             [
              0.1111111111111111,
              "#46039f"
             ],
             [
              0.2222222222222222,
              "#7201a8"
             ],
             [
              0.3333333333333333,
              "#9c179e"
             ],
             [
              0.4444444444444444,
              "#bd3786"
             ],
             [
              0.5555555555555556,
              "#d8576b"
             ],
             [
              0.6666666666666666,
              "#ed7953"
             ],
             [
              0.7777777777777778,
              "#fb9f3a"
             ],
             [
              0.8888888888888888,
              "#fdca26"
             ],
             [
              1,
              "#f0f921"
             ]
            ],
            "type": "histogram2d"
           }
          ],
          "histogram2dcontour": [
           {
            "colorbar": {
             "outlinewidth": 0,
             "ticks": ""
            },
            "colorscale": [
             [
              0,
              "#0d0887"
             ],
             [
              0.1111111111111111,
              "#46039f"
             ],
             [
              0.2222222222222222,
              "#7201a8"
             ],
             [
              0.3333333333333333,
              "#9c179e"
             ],
             [
              0.4444444444444444,
              "#bd3786"
             ],
             [
              0.5555555555555556,
              "#d8576b"
             ],
             [
              0.6666666666666666,
              "#ed7953"
             ],
             [
              0.7777777777777778,
              "#fb9f3a"
             ],
             [
              0.8888888888888888,
              "#fdca26"
             ],
             [
              1,
              "#f0f921"
             ]
            ],
            "type": "histogram2dcontour"
           }
          ],
          "mesh3d": [
           {
            "colorbar": {
             "outlinewidth": 0,
             "ticks": ""
            },
            "type": "mesh3d"
           }
          ],
          "parcoords": [
           {
            "line": {
             "colorbar": {
              "outlinewidth": 0,
              "ticks": ""
             }
            },
            "type": "parcoords"
           }
          ],
          "pie": [
           {
            "automargin": true,
            "type": "pie"
           }
          ],
          "scatter": [
           {
            "marker": {
             "colorbar": {
              "outlinewidth": 0,
              "ticks": ""
             }
            },
            "type": "scatter"
           }
          ],
          "scatter3d": [
           {
            "line": {
             "colorbar": {
              "outlinewidth": 0,
              "ticks": ""
             }
            },
            "marker": {
             "colorbar": {
              "outlinewidth": 0,
              "ticks": ""
             }
            },
            "type": "scatter3d"
           }
          ],
          "scattercarpet": [
           {
            "marker": {
             "colorbar": {
              "outlinewidth": 0,
              "ticks": ""
             }
            },
            "type": "scattercarpet"
           }
          ],
          "scattergeo": [
           {
            "marker": {
             "colorbar": {
              "outlinewidth": 0,
              "ticks": ""
             }
            },
            "type": "scattergeo"
           }
          ],
          "scattergl": [
           {
            "marker": {
             "colorbar": {
              "outlinewidth": 0,
              "ticks": ""
             }
            },
            "type": "scattergl"
           }
          ],
          "scattermapbox": [
           {
            "marker": {
             "colorbar": {
              "outlinewidth": 0,
              "ticks": ""
             }
            },
            "type": "scattermapbox"
           }
          ],
          "scatterpolar": [
           {
            "marker": {
             "colorbar": {
              "outlinewidth": 0,
              "ticks": ""
             }
            },
            "type": "scatterpolar"
           }
          ],
          "scatterpolargl": [
           {
            "marker": {
             "colorbar": {
              "outlinewidth": 0,
              "ticks": ""
             }
            },
            "type": "scatterpolargl"
           }
          ],
          "scatterternary": [
           {
            "marker": {
             "colorbar": {
              "outlinewidth": 0,
              "ticks": ""
             }
            },
            "type": "scatterternary"
           }
          ],
          "surface": [
           {
            "colorbar": {
             "outlinewidth": 0,
             "ticks": ""
            },
            "colorscale": [
             [
              0,
              "#0d0887"
             ],
             [
              0.1111111111111111,
              "#46039f"
             ],
             [
              0.2222222222222222,
              "#7201a8"
             ],
             [
              0.3333333333333333,
              "#9c179e"
             ],
             [
              0.4444444444444444,
              "#bd3786"
             ],
             [
              0.5555555555555556,
              "#d8576b"
             ],
             [
              0.6666666666666666,
              "#ed7953"
             ],
             [
              0.7777777777777778,
              "#fb9f3a"
             ],
             [
              0.8888888888888888,
              "#fdca26"
             ],
             [
              1,
              "#f0f921"
             ]
            ],
            "type": "surface"
           }
          ],
          "table": [
           {
            "cells": {
             "fill": {
              "color": "#EBF0F8"
             },
             "line": {
              "color": "white"
             }
            },
            "header": {
             "fill": {
              "color": "#C8D4E3"
             },
             "line": {
              "color": "white"
             }
            },
            "type": "table"
           }
          ]
         },
         "layout": {
          "annotationdefaults": {
           "arrowcolor": "#2a3f5f",
           "arrowhead": 0,
           "arrowwidth": 1
          },
          "coloraxis": {
           "colorbar": {
            "outlinewidth": 0,
            "ticks": ""
           }
          },
          "colorscale": {
           "diverging": [
            [
             0,
             "#8e0152"
            ],
            [
             0.1,
             "#c51b7d"
            ],
            [
             0.2,
             "#de77ae"
            ],
            [
             0.3,
             "#f1b6da"
            ],
            [
             0.4,
             "#fde0ef"
            ],
            [
             0.5,
             "#f7f7f7"
            ],
            [
             0.6,
             "#e6f5d0"
            ],
            [
             0.7,
             "#b8e186"
            ],
            [
             0.8,
             "#7fbc41"
            ],
            [
             0.9,
             "#4d9221"
            ],
            [
             1,
             "#276419"
            ]
           ],
           "sequential": [
            [
             0,
             "#0d0887"
            ],
            [
             0.1111111111111111,
             "#46039f"
            ],
            [
             0.2222222222222222,
             "#7201a8"
            ],
            [
             0.3333333333333333,
             "#9c179e"
            ],
            [
             0.4444444444444444,
             "#bd3786"
            ],
            [
             0.5555555555555556,
             "#d8576b"
            ],
            [
             0.6666666666666666,
             "#ed7953"
            ],
            [
             0.7777777777777778,
             "#fb9f3a"
            ],
            [
             0.8888888888888888,
             "#fdca26"
            ],
            [
             1,
             "#f0f921"
            ]
           ],
           "sequentialminus": [
            [
             0,
             "#0d0887"
            ],
            [
             0.1111111111111111,
             "#46039f"
            ],
            [
             0.2222222222222222,
             "#7201a8"
            ],
            [
             0.3333333333333333,
             "#9c179e"
            ],
            [
             0.4444444444444444,
             "#bd3786"
            ],
            [
             0.5555555555555556,
             "#d8576b"
            ],
            [
             0.6666666666666666,
             "#ed7953"
            ],
            [
             0.7777777777777778,
             "#fb9f3a"
            ],
            [
             0.8888888888888888,
             "#fdca26"
            ],
            [
             1,
             "#f0f921"
            ]
           ]
          },
          "colorway": [
           "#636efa",
           "#EF553B",
           "#00cc96",
           "#ab63fa",
           "#FFA15A",
           "#19d3f3",
           "#FF6692",
           "#B6E880",
           "#FF97FF",
           "#FECB52"
          ],
          "font": {
           "color": "#2a3f5f"
          },
          "geo": {
           "bgcolor": "white",
           "lakecolor": "white",
           "landcolor": "#E5ECF6",
           "showlakes": true,
           "showland": true,
           "subunitcolor": "white"
          },
          "hoverlabel": {
           "align": "left"
          },
          "hovermode": "closest",
          "mapbox": {
           "style": "light"
          },
          "paper_bgcolor": "white",
          "plot_bgcolor": "#E5ECF6",
          "polar": {
           "angularaxis": {
            "gridcolor": "white",
            "linecolor": "white",
            "ticks": ""
           },
           "bgcolor": "#E5ECF6",
           "radialaxis": {
            "gridcolor": "white",
            "linecolor": "white",
            "ticks": ""
           }
          },
          "scene": {
           "xaxis": {
            "backgroundcolor": "#E5ECF6",
            "gridcolor": "white",
            "gridwidth": 2,
            "linecolor": "white",
            "showbackground": true,
            "ticks": "",
            "zerolinecolor": "white"
           },
           "yaxis": {
            "backgroundcolor": "#E5ECF6",
            "gridcolor": "white",
            "gridwidth": 2,
            "linecolor": "white",
            "showbackground": true,
            "ticks": "",
            "zerolinecolor": "white"
           },
           "zaxis": {
            "backgroundcolor": "#E5ECF6",
            "gridcolor": "white",
            "gridwidth": 2,
            "linecolor": "white",
            "showbackground": true,
            "ticks": "",
            "zerolinecolor": "white"
           }
          },
          "shapedefaults": {
           "line": {
            "color": "#2a3f5f"
           }
          },
          "ternary": {
           "aaxis": {
            "gridcolor": "white",
            "linecolor": "white",
            "ticks": ""
           },
           "baxis": {
            "gridcolor": "white",
            "linecolor": "white",
            "ticks": ""
           },
           "bgcolor": "#E5ECF6",
           "caxis": {
            "gridcolor": "white",
            "linecolor": "white",
            "ticks": ""
           }
          },
          "title": {
           "x": 0.05
          },
          "xaxis": {
           "automargin": true,
           "gridcolor": "white",
           "linecolor": "white",
           "ticks": "",
           "title": {
            "standoff": 15
           },
           "zerolinecolor": "white",
           "zerolinewidth": 2
          },
          "yaxis": {
           "automargin": true,
           "gridcolor": "white",
           "linecolor": "white",
           "ticks": "",
           "title": {
            "standoff": 15
           },
           "zerolinecolor": "white",
           "zerolinewidth": 2
          }
         }
        },
        "title": {
         "text": "Volatility Ratio Distribution"
        },
        "width": 1000,
        "xaxis": {
         "anchor": "y",
         "domain": [
          0,
          1
         ],
         "title": {
          "text": "Volatility Bin"
         }
        },
        "yaxis": {
         "anchor": "x",
         "domain": [
          0,
          1
         ],
         "title": {
          "text": "Number of Companies"
         }
        }
       }
      }
     },
     "metadata": {},
     "output_type": "display_data"
    }
   ],
   "source": [
    "volatility_analysis_df = analysis_df[analysis_df['volatility'] < volatility_top]\n",
    "volatility_analysis_df.loc[:,'volatility_bin'] = pd.cut(volatility_analysis_df['volatility'], 8, precision = 1)\n",
    "volatility_analysis_df2 = volatility_analysis_df[['ticker','volatility_bin']].groupby('volatility_bin').count().reset_index()\n",
    "volatility_analysis_df2.loc[:,'volatility_bin'] = volatility_analysis_df2['volatility_bin'].astype('str')\n",
    "\n",
    "fig = px.bar(volatility_analysis_df2, x='volatility_bin', y='ticker', text = 'ticker')\n",
    "\n",
    "fig.update_traces(textposition='outside',\n",
    "                  texttemplate='%{text}',\n",
    "                  marker_color='#9467bd',\n",
    "                  textfont_size=14)\n",
    "\n",
    "fig.update_layout(title_text = 'Volatility Ratio Distribution',\n",
    "                  yaxis_title = 'Number of Companies',\n",
    "                  xaxis_title = 'Volatility Bin',\n",
    "                  height = 500, width = 1000)\n",
    "\n",
    "fig.show()"
   ]
  },
  {
   "cell_type": "code",
   "execution_count": 538,
   "metadata": {},
   "outputs": [
    {
     "data": {
      "application/vnd.plotly.v1+json": {
       "config": {
        "plotlyServerURL": "https://plot.ly"
       },
       "data": [
        {
         "alignmentgroup": "True",
         "hoverlabel": {
          "namelength": 0
         },
         "hovertemplate": "gross_profit_margin_bin=%{x}<br>ticker=%{text}",
         "legendgroup": "",
         "marker": {
          "color": "#000080"
         },
         "name": "",
         "offsetgroup": "",
         "orientation": "v",
         "showlegend": false,
         "text": [
          1,
          0,
          3,
          6,
          19,
          28,
          28,
          17
         ],
         "textfont": {
          "size": 14
         },
         "textposition": "outside",
         "texttemplate": "%{text}",
         "type": "bar",
         "x": [
          "(-0.3, -0.1]",
          "(-0.1, 0.02]",
          "(0.02, 0.2]",
          "(0.2, 0.3]",
          "(0.3, 0.5]",
          "(0.5, 0.6]",
          "(0.6, 0.8]",
          "(0.8, 0.9]"
         ],
         "xaxis": "x",
         "y": [
          1,
          0,
          3,
          6,
          19,
          28,
          28,
          17
         ],
         "yaxis": "y"
        }
       ],
       "layout": {
        "barmode": "relative",
        "height": 500,
        "legend": {
         "tracegroupgap": 0
        },
        "margin": {
         "t": 60
        },
        "paper_bgcolor": "rgba(192, 218, 218, 0)",
        "plot_bgcolor": "rgba(192, 218, 218, 0)",
        "template": {
         "data": {
          "bar": [
           {
            "error_x": {
             "color": "#2a3f5f"
            },
            "error_y": {
             "color": "#2a3f5f"
            },
            "marker": {
             "line": {
              "color": "#E5ECF6",
              "width": 0.5
             }
            },
            "type": "bar"
           }
          ],
          "barpolar": [
           {
            "marker": {
             "line": {
              "color": "#E5ECF6",
              "width": 0.5
             }
            },
            "type": "barpolar"
           }
          ],
          "carpet": [
           {
            "aaxis": {
             "endlinecolor": "#2a3f5f",
             "gridcolor": "white",
             "linecolor": "white",
             "minorgridcolor": "white",
             "startlinecolor": "#2a3f5f"
            },
            "baxis": {
             "endlinecolor": "#2a3f5f",
             "gridcolor": "white",
             "linecolor": "white",
             "minorgridcolor": "white",
             "startlinecolor": "#2a3f5f"
            },
            "type": "carpet"
           }
          ],
          "choropleth": [
           {
            "colorbar": {
             "outlinewidth": 0,
             "ticks": ""
            },
            "type": "choropleth"
           }
          ],
          "contour": [
           {
            "colorbar": {
             "outlinewidth": 0,
             "ticks": ""
            },
            "colorscale": [
             [
              0,
              "#0d0887"
             ],
             [
              0.1111111111111111,
              "#46039f"
             ],
             [
              0.2222222222222222,
              "#7201a8"
             ],
             [
              0.3333333333333333,
              "#9c179e"
             ],
             [
              0.4444444444444444,
              "#bd3786"
             ],
             [
              0.5555555555555556,
              "#d8576b"
             ],
             [
              0.6666666666666666,
              "#ed7953"
             ],
             [
              0.7777777777777778,
              "#fb9f3a"
             ],
             [
              0.8888888888888888,
              "#fdca26"
             ],
             [
              1,
              "#f0f921"
             ]
            ],
            "type": "contour"
           }
          ],
          "contourcarpet": [
           {
            "colorbar": {
             "outlinewidth": 0,
             "ticks": ""
            },
            "type": "contourcarpet"
           }
          ],
          "heatmap": [
           {
            "colorbar": {
             "outlinewidth": 0,
             "ticks": ""
            },
            "colorscale": [
             [
              0,
              "#0d0887"
             ],
             [
              0.1111111111111111,
              "#46039f"
             ],
             [
              0.2222222222222222,
              "#7201a8"
             ],
             [
              0.3333333333333333,
              "#9c179e"
             ],
             [
              0.4444444444444444,
              "#bd3786"
             ],
             [
              0.5555555555555556,
              "#d8576b"
             ],
             [
              0.6666666666666666,
              "#ed7953"
             ],
             [
              0.7777777777777778,
              "#fb9f3a"
             ],
             [
              0.8888888888888888,
              "#fdca26"
             ],
             [
              1,
              "#f0f921"
             ]
            ],
            "type": "heatmap"
           }
          ],
          "heatmapgl": [
           {
            "colorbar": {
             "outlinewidth": 0,
             "ticks": ""
            },
            "colorscale": [
             [
              0,
              "#0d0887"
             ],
             [
              0.1111111111111111,
              "#46039f"
             ],
             [
              0.2222222222222222,
              "#7201a8"
             ],
             [
              0.3333333333333333,
              "#9c179e"
             ],
             [
              0.4444444444444444,
              "#bd3786"
             ],
             [
              0.5555555555555556,
              "#d8576b"
             ],
             [
              0.6666666666666666,
              "#ed7953"
             ],
             [
              0.7777777777777778,
              "#fb9f3a"
             ],
             [
              0.8888888888888888,
              "#fdca26"
             ],
             [
              1,
              "#f0f921"
             ]
            ],
            "type": "heatmapgl"
           }
          ],
          "histogram": [
           {
            "marker": {
             "colorbar": {
              "outlinewidth": 0,
              "ticks": ""
             }
            },
            "type": "histogram"
           }
          ],
          "histogram2d": [
           {
            "colorbar": {
             "outlinewidth": 0,
             "ticks": ""
            },
            "colorscale": [
             [
              0,
              "#0d0887"
             ],
             [
              0.1111111111111111,
              "#46039f"
             ],
             [
              0.2222222222222222,
              "#7201a8"
             ],
             [
              0.3333333333333333,
              "#9c179e"
             ],
             [
              0.4444444444444444,
              "#bd3786"
             ],
             [
              0.5555555555555556,
              "#d8576b"
             ],
             [
              0.6666666666666666,
              "#ed7953"
             ],
             [
              0.7777777777777778,
              "#fb9f3a"
             ],
             [
              0.8888888888888888,
              "#fdca26"
             ],
             [
              1,
              "#f0f921"
             ]
            ],
            "type": "histogram2d"
           }
          ],
          "histogram2dcontour": [
           {
            "colorbar": {
             "outlinewidth": 0,
             "ticks": ""
            },
            "colorscale": [
             [
              0,
              "#0d0887"
             ],
             [
              0.1111111111111111,
              "#46039f"
             ],
             [
              0.2222222222222222,
              "#7201a8"
             ],
             [
              0.3333333333333333,
              "#9c179e"
             ],
             [
              0.4444444444444444,
              "#bd3786"
             ],
             [
              0.5555555555555556,
              "#d8576b"
             ],
             [
              0.6666666666666666,
              "#ed7953"
             ],
             [
              0.7777777777777778,
              "#fb9f3a"
             ],
             [
              0.8888888888888888,
              "#fdca26"
             ],
             [
              1,
              "#f0f921"
             ]
            ],
            "type": "histogram2dcontour"
           }
          ],
          "mesh3d": [
           {
            "colorbar": {
             "outlinewidth": 0,
             "ticks": ""
            },
            "type": "mesh3d"
           }
          ],
          "parcoords": [
           {
            "line": {
             "colorbar": {
              "outlinewidth": 0,
              "ticks": ""
             }
            },
            "type": "parcoords"
           }
          ],
          "pie": [
           {
            "automargin": true,
            "type": "pie"
           }
          ],
          "scatter": [
           {
            "marker": {
             "colorbar": {
              "outlinewidth": 0,
              "ticks": ""
             }
            },
            "type": "scatter"
           }
          ],
          "scatter3d": [
           {
            "line": {
             "colorbar": {
              "outlinewidth": 0,
              "ticks": ""
             }
            },
            "marker": {
             "colorbar": {
              "outlinewidth": 0,
              "ticks": ""
             }
            },
            "type": "scatter3d"
           }
          ],
          "scattercarpet": [
           {
            "marker": {
             "colorbar": {
              "outlinewidth": 0,
              "ticks": ""
             }
            },
            "type": "scattercarpet"
           }
          ],
          "scattergeo": [
           {
            "marker": {
             "colorbar": {
              "outlinewidth": 0,
              "ticks": ""
             }
            },
            "type": "scattergeo"
           }
          ],
          "scattergl": [
           {
            "marker": {
             "colorbar": {
              "outlinewidth": 0,
              "ticks": ""
             }
            },
            "type": "scattergl"
           }
          ],
          "scattermapbox": [
           {
            "marker": {
             "colorbar": {
              "outlinewidth": 0,
              "ticks": ""
             }
            },
            "type": "scattermapbox"
           }
          ],
          "scatterpolar": [
           {
            "marker": {
             "colorbar": {
              "outlinewidth": 0,
              "ticks": ""
             }
            },
            "type": "scatterpolar"
           }
          ],
          "scatterpolargl": [
           {
            "marker": {
             "colorbar": {
              "outlinewidth": 0,
              "ticks": ""
             }
            },
            "type": "scatterpolargl"
           }
          ],
          "scatterternary": [
           {
            "marker": {
             "colorbar": {
              "outlinewidth": 0,
              "ticks": ""
             }
            },
            "type": "scatterternary"
           }
          ],
          "surface": [
           {
            "colorbar": {
             "outlinewidth": 0,
             "ticks": ""
            },
            "colorscale": [
             [
              0,
              "#0d0887"
             ],
             [
              0.1111111111111111,
              "#46039f"
             ],
             [
              0.2222222222222222,
              "#7201a8"
             ],
             [
              0.3333333333333333,
              "#9c179e"
             ],
             [
              0.4444444444444444,
              "#bd3786"
             ],
             [
              0.5555555555555556,
              "#d8576b"
             ],
             [
              0.6666666666666666,
              "#ed7953"
             ],
             [
              0.7777777777777778,
              "#fb9f3a"
             ],
             [
              0.8888888888888888,
              "#fdca26"
             ],
             [
              1,
              "#f0f921"
             ]
            ],
            "type": "surface"
           }
          ],
          "table": [
           {
            "cells": {
             "fill": {
              "color": "#EBF0F8"
             },
             "line": {
              "color": "white"
             }
            },
            "header": {
             "fill": {
              "color": "#C8D4E3"
             },
             "line": {
              "color": "white"
             }
            },
            "type": "table"
           }
          ]
         },
         "layout": {
          "annotationdefaults": {
           "arrowcolor": "#2a3f5f",
           "arrowhead": 0,
           "arrowwidth": 1
          },
          "coloraxis": {
           "colorbar": {
            "outlinewidth": 0,
            "ticks": ""
           }
          },
          "colorscale": {
           "diverging": [
            [
             0,
             "#8e0152"
            ],
            [
             0.1,
             "#c51b7d"
            ],
            [
             0.2,
             "#de77ae"
            ],
            [
             0.3,
             "#f1b6da"
            ],
            [
             0.4,
             "#fde0ef"
            ],
            [
             0.5,
             "#f7f7f7"
            ],
            [
             0.6,
             "#e6f5d0"
            ],
            [
             0.7,
             "#b8e186"
            ],
            [
             0.8,
             "#7fbc41"
            ],
            [
             0.9,
             "#4d9221"
            ],
            [
             1,
             "#276419"
            ]
           ],
           "sequential": [
            [
             0,
             "#0d0887"
            ],
            [
             0.1111111111111111,
             "#46039f"
            ],
            [
             0.2222222222222222,
             "#7201a8"
            ],
            [
             0.3333333333333333,
             "#9c179e"
            ],
            [
             0.4444444444444444,
             "#bd3786"
            ],
            [
             0.5555555555555556,
             "#d8576b"
            ],
            [
             0.6666666666666666,
             "#ed7953"
            ],
            [
             0.7777777777777778,
             "#fb9f3a"
            ],
            [
             0.8888888888888888,
             "#fdca26"
            ],
            [
             1,
             "#f0f921"
            ]
           ],
           "sequentialminus": [
            [
             0,
             "#0d0887"
            ],
            [
             0.1111111111111111,
             "#46039f"
            ],
            [
             0.2222222222222222,
             "#7201a8"
            ],
            [
             0.3333333333333333,
             "#9c179e"
            ],
            [
             0.4444444444444444,
             "#bd3786"
            ],
            [
             0.5555555555555556,
             "#d8576b"
            ],
            [
             0.6666666666666666,
             "#ed7953"
            ],
            [
             0.7777777777777778,
             "#fb9f3a"
            ],
            [
             0.8888888888888888,
             "#fdca26"
            ],
            [
             1,
             "#f0f921"
            ]
           ]
          },
          "colorway": [
           "#636efa",
           "#EF553B",
           "#00cc96",
           "#ab63fa",
           "#FFA15A",
           "#19d3f3",
           "#FF6692",
           "#B6E880",
           "#FF97FF",
           "#FECB52"
          ],
          "font": {
           "color": "#2a3f5f"
          },
          "geo": {
           "bgcolor": "white",
           "lakecolor": "white",
           "landcolor": "#E5ECF6",
           "showlakes": true,
           "showland": true,
           "subunitcolor": "white"
          },
          "hoverlabel": {
           "align": "left"
          },
          "hovermode": "closest",
          "mapbox": {
           "style": "light"
          },
          "paper_bgcolor": "white",
          "plot_bgcolor": "#E5ECF6",
          "polar": {
           "angularaxis": {
            "gridcolor": "white",
            "linecolor": "white",
            "ticks": ""
           },
           "bgcolor": "#E5ECF6",
           "radialaxis": {
            "gridcolor": "white",
            "linecolor": "white",
            "ticks": ""
           }
          },
          "scene": {
           "xaxis": {
            "backgroundcolor": "#E5ECF6",
            "gridcolor": "white",
            "gridwidth": 2,
            "linecolor": "white",
            "showbackground": true,
            "ticks": "",
            "zerolinecolor": "white"
           },
           "yaxis": {
            "backgroundcolor": "#E5ECF6",
            "gridcolor": "white",
            "gridwidth": 2,
            "linecolor": "white",
            "showbackground": true,
            "ticks": "",
            "zerolinecolor": "white"
           },
           "zaxis": {
            "backgroundcolor": "#E5ECF6",
            "gridcolor": "white",
            "gridwidth": 2,
            "linecolor": "white",
            "showbackground": true,
            "ticks": "",
            "zerolinecolor": "white"
           }
          },
          "shapedefaults": {
           "line": {
            "color": "#2a3f5f"
           }
          },
          "ternary": {
           "aaxis": {
            "gridcolor": "white",
            "linecolor": "white",
            "ticks": ""
           },
           "baxis": {
            "gridcolor": "white",
            "linecolor": "white",
            "ticks": ""
           },
           "bgcolor": "#E5ECF6",
           "caxis": {
            "gridcolor": "white",
            "linecolor": "white",
            "ticks": ""
           }
          },
          "title": {
           "x": 0.05
          },
          "xaxis": {
           "automargin": true,
           "gridcolor": "white",
           "linecolor": "white",
           "ticks": "",
           "title": {
            "standoff": 15
           },
           "zerolinecolor": "white",
           "zerolinewidth": 2
          },
          "yaxis": {
           "automargin": true,
           "gridcolor": "white",
           "linecolor": "white",
           "ticks": "",
           "title": {
            "standoff": 15
           },
           "zerolinecolor": "white",
           "zerolinewidth": 2
          }
         }
        },
        "title": {
         "text": "Gross Profit Margin Distribution"
        },
        "width": 1000,
        "xaxis": {
         "anchor": "y",
         "domain": [
          0,
          1
         ],
         "title": {
          "text": "Gross Profit Margin Bin"
         }
        },
        "yaxis": {
         "anchor": "x",
         "domain": [
          0,
          1
         ],
         "title": {
          "text": "Number of Companies"
         }
        }
       }
      }
     },
     "metadata": {},
     "output_type": "display_data"
    }
   ],
   "source": [
    "gpm_analysis_df = analysis_df[['ticker','gross_profit_margin']]\n",
    "gpm_analysis_df.loc[:,'gross_profit_margin_bin'] = pd.cut(gpm_analysis_df['gross_profit_margin'], 8, precision = 1)\n",
    "gpm_analysis_df2 = gpm_analysis_df[['gross_profit_margin_bin','ticker']].groupby('gross_profit_margin_bin').count().reset_index()\n",
    "gpm_analysis_df2.loc[:,'gross_profit_margin_bin'] = gpm_analysis_df2['gross_profit_margin_bin'].astype('str')\n",
    "\n",
    "fig = px.bar(gpm_analysis_df2, x='gross_profit_margin_bin', y='ticker', text = 'ticker')\n",
    "\n",
    "fig.update_traces(textposition='outside',\n",
    "                  texttemplate='%{text}',\n",
    "                  marker_color='#000080',\n",
    "                  textfont_size=14)\n",
    "\n",
    "fig.update_layout(title_text = 'Gross Profit Margin Distribution',\n",
    "                  yaxis_title = 'Number of Companies',\n",
    "                  xaxis_title = 'Gross Profit Margin Bin',\n",
    "                  height = 500, width = 1000)\n",
    "\n",
    "fig.update_layout({'plot_bgcolor': 'rgba(192, 218, 218, 0)','paper_bgcolor': 'rgba(192, 218, 218, 0)',})\n",
    "\n",
    "fig.show()"
   ]
  },
  {
   "cell_type": "code",
   "execution_count": 527,
   "metadata": {},
   "outputs": [
    {
     "name": "stderr",
     "output_type": "stream",
     "text": [
      "/opt/anaconda3/lib/python3.7/site-packages/pandas/core/indexing.py:1597: SettingWithCopyWarning:\n",
      "\n",
      "\n",
      "A value is trying to be set on a copy of a slice from a DataFrame.\n",
      "Try using .loc[row_indexer,col_indexer] = value instead\n",
      "\n",
      "See the caveats in the documentation: https://pandas.pydata.org/pandas-docs/stable/user_guide/indexing.html#returning-a-view-versus-a-copy\n",
      "\n",
      "/opt/anaconda3/lib/python3.7/site-packages/pandas/core/indexing.py:1676: SettingWithCopyWarning:\n",
      "\n",
      "\n",
      "A value is trying to be set on a copy of a slice from a DataFrame.\n",
      "Try using .loc[row_indexer,col_indexer] = value instead\n",
      "\n",
      "See the caveats in the documentation: https://pandas.pydata.org/pandas-docs/stable/user_guide/indexing.html#returning-a-view-versus-a-copy\n",
      "\n"
     ]
    },
    {
     "ename": "KeyError",
     "evalue": "'gross_profit_margin_bin'",
     "output_type": "error",
     "traceback": [
      "\u001b[0;31m---------------------------------------------------------------------------\u001b[0m",
      "\u001b[0;31mKeyError\u001b[0m                                  Traceback (most recent call last)",
      "\u001b[0;32m/opt/anaconda3/lib/python3.7/site-packages/pandas/core/indexes/base.py\u001b[0m in \u001b[0;36mget_loc\u001b[0;34m(self, key, method, tolerance)\u001b[0m\n\u001b[1;32m   3079\u001b[0m             \u001b[0;32mtry\u001b[0m\u001b[0;34m:\u001b[0m\u001b[0;34m\u001b[0m\u001b[0;34m\u001b[0m\u001b[0m\n\u001b[0;32m-> 3080\u001b[0;31m                 \u001b[0;32mreturn\u001b[0m \u001b[0mself\u001b[0m\u001b[0;34m.\u001b[0m\u001b[0m_engine\u001b[0m\u001b[0;34m.\u001b[0m\u001b[0mget_loc\u001b[0m\u001b[0;34m(\u001b[0m\u001b[0mcasted_key\u001b[0m\u001b[0;34m)\u001b[0m\u001b[0;34m\u001b[0m\u001b[0;34m\u001b[0m\u001b[0m\n\u001b[0m\u001b[1;32m   3081\u001b[0m             \u001b[0;32mexcept\u001b[0m \u001b[0mKeyError\u001b[0m \u001b[0;32mas\u001b[0m \u001b[0merr\u001b[0m\u001b[0;34m:\u001b[0m\u001b[0;34m\u001b[0m\u001b[0;34m\u001b[0m\u001b[0m\n",
      "\u001b[0;32mpandas/_libs/index.pyx\u001b[0m in \u001b[0;36mpandas._libs.index.IndexEngine.get_loc\u001b[0;34m()\u001b[0m\n",
      "\u001b[0;32mpandas/_libs/index.pyx\u001b[0m in \u001b[0;36mpandas._libs.index.IndexEngine.get_loc\u001b[0;34m()\u001b[0m\n",
      "\u001b[0;32mpandas/_libs/hashtable_class_helper.pxi\u001b[0m in \u001b[0;36mpandas._libs.hashtable.PyObjectHashTable.get_item\u001b[0;34m()\u001b[0m\n",
      "\u001b[0;32mpandas/_libs/hashtable_class_helper.pxi\u001b[0m in \u001b[0;36mpandas._libs.hashtable.PyObjectHashTable.get_item\u001b[0;34m()\u001b[0m\n",
      "\u001b[0;31mKeyError\u001b[0m: 'gross_profit_margin_bin'",
      "\nThe above exception was the direct cause of the following exception:\n",
      "\u001b[0;31mKeyError\u001b[0m                                  Traceback (most recent call last)",
      "\u001b[0;32m<ipython-input-527-b3243e5b91d2>\u001b[0m in \u001b[0;36m<module>\u001b[0;34m\u001b[0m\n\u001b[1;32m      2\u001b[0m \u001b[0mgpm_analysis_df\u001b[0m\u001b[0;34m.\u001b[0m\u001b[0mloc\u001b[0m\u001b[0;34m[\u001b[0m\u001b[0;34m:\u001b[0m\u001b[0;34m,\u001b[0m\u001b[0;34m'gross_profit_margin_bin'\u001b[0m\u001b[0;34m]\u001b[0m \u001b[0;34m=\u001b[0m \u001b[0mpd\u001b[0m\u001b[0;34m.\u001b[0m\u001b[0mcut\u001b[0m\u001b[0;34m(\u001b[0m\u001b[0mgpm_analysis_df\u001b[0m\u001b[0;34m[\u001b[0m\u001b[0;34m'gross_profit_margin'\u001b[0m\u001b[0;34m]\u001b[0m\u001b[0;34m,\u001b[0m \u001b[0;36m8\u001b[0m\u001b[0;34m,\u001b[0m \u001b[0mprecision\u001b[0m \u001b[0;34m=\u001b[0m \u001b[0;36m1\u001b[0m\u001b[0;34m)\u001b[0m\u001b[0;34m\u001b[0m\u001b[0;34m\u001b[0m\u001b[0m\n\u001b[1;32m      3\u001b[0m \u001b[0mgpm_analysis_df2\u001b[0m \u001b[0;34m=\u001b[0m \u001b[0mgpm_analysis_df\u001b[0m\u001b[0;34m[\u001b[0m\u001b[0;34m[\u001b[0m\u001b[0;34m'gross_profit_margin_bin'\u001b[0m\u001b[0;34m,\u001b[0m\u001b[0;34m'ticker'\u001b[0m\u001b[0;34m]\u001b[0m\u001b[0;34m]\u001b[0m\u001b[0;34m.\u001b[0m\u001b[0mgroupby\u001b[0m\u001b[0;34m(\u001b[0m\u001b[0;34m'gross_profit_margin_bin'\u001b[0m\u001b[0;34m)\u001b[0m\u001b[0;34m.\u001b[0m\u001b[0mcount\u001b[0m\u001b[0;34m(\u001b[0m\u001b[0;34m)\u001b[0m\u001b[0;34m\u001b[0m\u001b[0;34m\u001b[0m\u001b[0m\n\u001b[0;32m----> 4\u001b[0;31m \u001b[0mgpm_analysis_df2\u001b[0m\u001b[0;34m.\u001b[0m\u001b[0mloc\u001b[0m\u001b[0;34m[\u001b[0m\u001b[0;34m:\u001b[0m\u001b[0;34m,\u001b[0m\u001b[0;34m'gross_profit_margin_bin'\u001b[0m\u001b[0;34m]\u001b[0m \u001b[0;34m=\u001b[0m \u001b[0mgpm_analysis_df2\u001b[0m\u001b[0;34m[\u001b[0m\u001b[0;34m'gross_profit_margin_bin'\u001b[0m\u001b[0;34m]\u001b[0m\u001b[0;34m.\u001b[0m\u001b[0mastype\u001b[0m\u001b[0;34m(\u001b[0m\u001b[0;34m'str'\u001b[0m\u001b[0;34m)\u001b[0m\u001b[0;34m\u001b[0m\u001b[0;34m\u001b[0m\u001b[0m\n\u001b[0m\u001b[1;32m      5\u001b[0m \u001b[0;34m\u001b[0m\u001b[0m\n\u001b[1;32m      6\u001b[0m \u001b[0mfig\u001b[0m \u001b[0;34m=\u001b[0m \u001b[0mpx\u001b[0m\u001b[0;34m.\u001b[0m\u001b[0mbar\u001b[0m\u001b[0;34m(\u001b[0m\u001b[0mgpm_analysis_df2\u001b[0m\u001b[0;34m,\u001b[0m \u001b[0mx\u001b[0m\u001b[0;34m=\u001b[0m\u001b[0;34m'gross_profit_margin_bin'\u001b[0m\u001b[0;34m,\u001b[0m \u001b[0my\u001b[0m\u001b[0;34m=\u001b[0m\u001b[0;34m'ticker'\u001b[0m\u001b[0;34m,\u001b[0m \u001b[0mtext\u001b[0m \u001b[0;34m=\u001b[0m \u001b[0;34m'ticker'\u001b[0m\u001b[0;34m)\u001b[0m\u001b[0;34m\u001b[0m\u001b[0;34m\u001b[0m\u001b[0m\n",
      "\u001b[0;32m/opt/anaconda3/lib/python3.7/site-packages/pandas/core/frame.py\u001b[0m in \u001b[0;36m__getitem__\u001b[0;34m(self, key)\u001b[0m\n\u001b[1;32m   3022\u001b[0m             \u001b[0;32mif\u001b[0m \u001b[0mself\u001b[0m\u001b[0;34m.\u001b[0m\u001b[0mcolumns\u001b[0m\u001b[0;34m.\u001b[0m\u001b[0mnlevels\u001b[0m \u001b[0;34m>\u001b[0m \u001b[0;36m1\u001b[0m\u001b[0;34m:\u001b[0m\u001b[0;34m\u001b[0m\u001b[0;34m\u001b[0m\u001b[0m\n\u001b[1;32m   3023\u001b[0m                 \u001b[0;32mreturn\u001b[0m \u001b[0mself\u001b[0m\u001b[0;34m.\u001b[0m\u001b[0m_getitem_multilevel\u001b[0m\u001b[0;34m(\u001b[0m\u001b[0mkey\u001b[0m\u001b[0;34m)\u001b[0m\u001b[0;34m\u001b[0m\u001b[0;34m\u001b[0m\u001b[0m\n\u001b[0;32m-> 3024\u001b[0;31m             \u001b[0mindexer\u001b[0m \u001b[0;34m=\u001b[0m \u001b[0mself\u001b[0m\u001b[0;34m.\u001b[0m\u001b[0mcolumns\u001b[0m\u001b[0;34m.\u001b[0m\u001b[0mget_loc\u001b[0m\u001b[0;34m(\u001b[0m\u001b[0mkey\u001b[0m\u001b[0;34m)\u001b[0m\u001b[0;34m\u001b[0m\u001b[0;34m\u001b[0m\u001b[0m\n\u001b[0m\u001b[1;32m   3025\u001b[0m             \u001b[0;32mif\u001b[0m \u001b[0mis_integer\u001b[0m\u001b[0;34m(\u001b[0m\u001b[0mindexer\u001b[0m\u001b[0;34m)\u001b[0m\u001b[0;34m:\u001b[0m\u001b[0;34m\u001b[0m\u001b[0;34m\u001b[0m\u001b[0m\n\u001b[1;32m   3026\u001b[0m                 \u001b[0mindexer\u001b[0m \u001b[0;34m=\u001b[0m \u001b[0;34m[\u001b[0m\u001b[0mindexer\u001b[0m\u001b[0;34m]\u001b[0m\u001b[0;34m\u001b[0m\u001b[0;34m\u001b[0m\u001b[0m\n",
      "\u001b[0;32m/opt/anaconda3/lib/python3.7/site-packages/pandas/core/indexes/base.py\u001b[0m in \u001b[0;36mget_loc\u001b[0;34m(self, key, method, tolerance)\u001b[0m\n\u001b[1;32m   3080\u001b[0m                 \u001b[0;32mreturn\u001b[0m \u001b[0mself\u001b[0m\u001b[0;34m.\u001b[0m\u001b[0m_engine\u001b[0m\u001b[0;34m.\u001b[0m\u001b[0mget_loc\u001b[0m\u001b[0;34m(\u001b[0m\u001b[0mcasted_key\u001b[0m\u001b[0;34m)\u001b[0m\u001b[0;34m\u001b[0m\u001b[0;34m\u001b[0m\u001b[0m\n\u001b[1;32m   3081\u001b[0m             \u001b[0;32mexcept\u001b[0m \u001b[0mKeyError\u001b[0m \u001b[0;32mas\u001b[0m \u001b[0merr\u001b[0m\u001b[0;34m:\u001b[0m\u001b[0;34m\u001b[0m\u001b[0;34m\u001b[0m\u001b[0m\n\u001b[0;32m-> 3082\u001b[0;31m                 \u001b[0;32mraise\u001b[0m \u001b[0mKeyError\u001b[0m\u001b[0;34m(\u001b[0m\u001b[0mkey\u001b[0m\u001b[0;34m)\u001b[0m \u001b[0;32mfrom\u001b[0m \u001b[0merr\u001b[0m\u001b[0;34m\u001b[0m\u001b[0;34m\u001b[0m\u001b[0m\n\u001b[0m\u001b[1;32m   3083\u001b[0m \u001b[0;34m\u001b[0m\u001b[0m\n\u001b[1;32m   3084\u001b[0m         \u001b[0;32mif\u001b[0m \u001b[0mtolerance\u001b[0m \u001b[0;32mis\u001b[0m \u001b[0;32mnot\u001b[0m \u001b[0;32mNone\u001b[0m\u001b[0;34m:\u001b[0m\u001b[0;34m\u001b[0m\u001b[0;34m\u001b[0m\u001b[0m\n",
      "\u001b[0;31mKeyError\u001b[0m: 'gross_profit_margin_bin'"
     ]
    }
   ],
   "source": [
    "gpm_analysis_df = analysis_df[['ticker','gross_profit_margin']]\n",
    "gpm_analysis_df.loc[:,'gross_profit_margin_bin'] = pd.cut(gpm_analysis_df['gross_profit_margin'], 8, precision = 1)\n",
    "gpm_analysis_df2 = gpm_analysis_df[['gross_profit_margin_bin','ticker']].groupby('gross_profit_margin_bin').count()\n",
    "gpm_analysis_df2.loc[:,'gross_profit_margin_bin'] = gpm_analysis_df2['gross_profit_margin_bin'].astype('str')\n",
    "\n",
    "fig = px.bar(gpm_analysis_df2, x='gross_profit_margin_bin', y='ticker', text = 'ticker')\n",
    "\n",
    "fig.update_traces(textposition='outside',\n",
    "                  texttemplate='%{text}',\n",
    "                  marker_color='#106e45',\n",
    "                  textfont_size=14)\n",
    "\n",
    "fig.update_layout(title_text = 'Gross Profit Margin Distribution',\n",
    "                  yaxis_title = 'Number of Companies',\n",
    "                  xaxis_title = 'Gross Profit Margin Bin',\n",
    "                  height = 500, width = 1000)\n",
    "\n",
    "fig.show()"
   ]
  },
  {
   "cell_type": "code",
   "execution_count": 503,
   "metadata": {},
   "outputs": [
    {
     "data": {
      "text/html": [
       "<div>\n",
       "<style scoped>\n",
       "    .dataframe tbody tr th:only-of-type {\n",
       "        vertical-align: middle;\n",
       "    }\n",
       "\n",
       "    .dataframe tbody tr th {\n",
       "        vertical-align: top;\n",
       "    }\n",
       "\n",
       "    .dataframe thead th {\n",
       "        text-align: right;\n",
       "    }\n",
       "</style>\n",
       "<table border=\"1\" class=\"dataframe\">\n",
       "  <thead>\n",
       "    <tr style=\"text-align: right;\">\n",
       "      <th></th>\n",
       "      <th>ticker</th>\n",
       "      <th>company_name</th>\n",
       "      <th>industry</th>\n",
       "      <th>sub_industry</th>\n",
       "      <th>last_close_price</th>\n",
       "      <th>yoy_growth</th>\n",
       "      <th>volatility</th>\n",
       "      <th>assets_billion</th>\n",
       "      <th>liabilities_billion</th>\n",
       "      <th>la_ratio</th>\n",
       "      <th>gross_profit_margin</th>\n",
       "      <th>net_profit_margin</th>\n",
       "      <th>pe_ratio</th>\n",
       "    </tr>\n",
       "  </thead>\n",
       "  <tbody>\n",
       "    <tr>\n",
       "      <th>0</th>\n",
       "      <td>ATVI</td>\n",
       "      <td>Activision Blizzard</td>\n",
       "      <td>Communication Services</td>\n",
       "      <td>Communication Services</td>\n",
       "      <td>60.600</td>\n",
       "      <td>-0.289</td>\n",
       "      <td>0.110</td>\n",
       "      <td>11.210</td>\n",
       "      <td>2.020</td>\n",
       "      <td>0.180</td>\n",
       "      <td>0.745</td>\n",
       "      <td>0.309</td>\n",
       "      <td>23.24</td>\n",
       "    </tr>\n",
       "    <tr>\n",
       "      <th>2</th>\n",
       "      <td>AMD</td>\n",
       "      <td>Advanced Micro Devices</td>\n",
       "      <td>Information Technology</td>\n",
       "      <td>Information Technology</td>\n",
       "      <td>154.800</td>\n",
       "      <td>0.437</td>\n",
       "      <td>0.190</td>\n",
       "      <td>7.990</td>\n",
       "      <td>3.560</td>\n",
       "      <td>0.450</td>\n",
       "      <td>0.484</td>\n",
       "      <td>0.214</td>\n",
       "      <td>36.49</td>\n",
       "    </tr>\n",
       "    <tr>\n",
       "      <th>4</th>\n",
       "      <td>GOOGL</td>\n",
       "      <td>Alphabet Inc.</td>\n",
       "      <td>Communication Services</td>\n",
       "      <td>Communication Services</td>\n",
       "      <td>2843.700</td>\n",
       "      <td>0.372</td>\n",
       "      <td>0.170</td>\n",
       "      <td>184.110</td>\n",
       "      <td>61.780</td>\n",
       "      <td>0.340</td>\n",
       "      <td>0.576</td>\n",
       "      <td>0.291</td>\n",
       "      <td>29.01</td>\n",
       "    </tr>\n",
       "    <tr>\n",
       "      <th>5</th>\n",
       "      <td>GOOG</td>\n",
       "      <td>Alphabet Inc.</td>\n",
       "      <td>Communication Services</td>\n",
       "      <td>Communication Services</td>\n",
       "      <td>2856.100</td>\n",
       "      <td>0.372</td>\n",
       "      <td>0.170</td>\n",
       "      <td>184.110</td>\n",
       "      <td>61.780</td>\n",
       "      <td>0.340</td>\n",
       "      <td>0.576</td>\n",
       "      <td>0.291</td>\n",
       "      <td>28.92</td>\n",
       "    </tr>\n",
       "    <tr>\n",
       "      <th>9</th>\n",
       "      <td>ADI</td>\n",
       "      <td>Analog Devices</td>\n",
       "      <td>Information Technology</td>\n",
       "      <td>Information Technology</td>\n",
       "      <td>178.000</td>\n",
       "      <td>0.226</td>\n",
       "      <td>0.070</td>\n",
       "      <td>5.380</td>\n",
       "      <td>2.770</td>\n",
       "      <td>0.520</td>\n",
       "      <td>0.479</td>\n",
       "      <td>0.032</td>\n",
       "      <td>37.96</td>\n",
       "    </tr>\n",
       "    <tr>\n",
       "      <th>10</th>\n",
       "      <td>ANSS</td>\n",
       "      <td>Ansys</td>\n",
       "      <td>Information Technology</td>\n",
       "      <td>Information Technology</td>\n",
       "      <td>382.500</td>\n",
       "      <td>0.136</td>\n",
       "      <td>0.060</td>\n",
       "      <td>1.760</td>\n",
       "      <td>0.600</td>\n",
       "      <td>0.340</td>\n",
       "      <td>0.893</td>\n",
       "      <td>0.193</td>\n",
       "      <td>65.22</td>\n",
       "    </tr>\n",
       "    <tr>\n",
       "      <th>12</th>\n",
       "      <td>AMAT</td>\n",
       "      <td>Applied Materials</td>\n",
       "      <td>Information Technology</td>\n",
       "      <td>Information Technology</td>\n",
       "      <td>143.300</td>\n",
       "      <td>0.423</td>\n",
       "      <td>0.150</td>\n",
       "      <td>16.110</td>\n",
       "      <td>6.340</td>\n",
       "      <td>0.390</td>\n",
       "      <td>0.481</td>\n",
       "      <td>0.280</td>\n",
       "      <td>23.77</td>\n",
       "    </tr>\n",
       "    <tr>\n",
       "      <th>13</th>\n",
       "      <td>ASML</td>\n",
       "      <td>ASML Holding</td>\n",
       "      <td>Information Technology</td>\n",
       "      <td>Information Technology</td>\n",
       "      <td>782.000</td>\n",
       "      <td>0.440</td>\n",
       "      <td>0.180</td>\n",
       "      <td>15.680</td>\n",
       "      <td>9.160</td>\n",
       "      <td>0.580</td>\n",
       "      <td>0.517</td>\n",
       "      <td>0.332</td>\n",
       "      <td>55.54</td>\n",
       "    </tr>\n",
       "    <tr>\n",
       "      <th>17</th>\n",
       "      <td>BIDU</td>\n",
       "      <td>Baidu</td>\n",
       "      <td>Communication Services</td>\n",
       "      <td>Communication Services</td>\n",
       "      <td>153.100</td>\n",
       "      <td>0.089</td>\n",
       "      <td>0.220</td>\n",
       "      <td>215.390</td>\n",
       "      <td>73.920</td>\n",
       "      <td>0.340</td>\n",
       "      <td>0.495</td>\n",
       "      <td>-0.519</td>\n",
       "      <td>7.77</td>\n",
       "    </tr>\n",
       "    <tr>\n",
       "      <th>18</th>\n",
       "      <td>BIIB</td>\n",
       "      <td>Biogen</td>\n",
       "      <td>Health Care</td>\n",
       "      <td>Health Care</td>\n",
       "      <td>242.900</td>\n",
       "      <td>-0.004</td>\n",
       "      <td>0.140</td>\n",
       "      <td>7.160</td>\n",
       "      <td>4.210</td>\n",
       "      <td>0.590</td>\n",
       "      <td>0.816</td>\n",
       "      <td>0.118</td>\n",
       "      <td>21.99</td>\n",
       "    </tr>\n",
       "    <tr>\n",
       "      <th>19</th>\n",
       "      <td>BKNG</td>\n",
       "      <td>Booking Holdings</td>\n",
       "      <td>Consumer Discretionary</td>\n",
       "      <td>Consumer Discretionary</td>\n",
       "      <td>2155.600</td>\n",
       "      <td>0.048</td>\n",
       "      <td>0.060</td>\n",
       "      <td>14.350</td>\n",
       "      <td>5.780</td>\n",
       "      <td>0.400</td>\n",
       "      <td>0.874</td>\n",
       "      <td>0.164</td>\n",
       "      <td>235.27</td>\n",
       "    </tr>\n",
       "    <tr>\n",
       "      <th>20</th>\n",
       "      <td>AVGO</td>\n",
       "      <td>Broadcom Inc.</td>\n",
       "      <td>Information Technology</td>\n",
       "      <td>Information Technology</td>\n",
       "      <td>546.600</td>\n",
       "      <td>0.277</td>\n",
       "      <td>0.070</td>\n",
       "      <td>15.640</td>\n",
       "      <td>6.500</td>\n",
       "      <td>0.420</td>\n",
       "      <td>0.745</td>\n",
       "      <td>0.277</td>\n",
       "      <td>45.11</td>\n",
       "    </tr>\n",
       "    <tr>\n",
       "      <th>21</th>\n",
       "      <td>CDNS</td>\n",
       "      <td>Cadence Design Systems</td>\n",
       "      <td>Information Technology</td>\n",
       "      <td>Information Technology</td>\n",
       "      <td>178.400</td>\n",
       "      <td>0.346</td>\n",
       "      <td>0.120</td>\n",
       "      <td>1.540</td>\n",
       "      <td>0.910</td>\n",
       "      <td>0.590</td>\n",
       "      <td>0.897</td>\n",
       "      <td>0.234</td>\n",
       "      <td>62.32</td>\n",
       "    </tr>\n",
       "    <tr>\n",
       "      <th>28</th>\n",
       "      <td>CTSH</td>\n",
       "      <td>Cognizant</td>\n",
       "      <td>Information Technology</td>\n",
       "      <td>Information Technology</td>\n",
       "      <td>78.400</td>\n",
       "      <td>0.000</td>\n",
       "      <td>0.050</td>\n",
       "      <td>7.000</td>\n",
       "      <td>3.320</td>\n",
       "      <td>0.470</td>\n",
       "      <td>0.379</td>\n",
       "      <td>0.115</td>\n",
       "      <td>23.56</td>\n",
       "    </tr>\n",
       "    <tr>\n",
       "      <th>30</th>\n",
       "      <td>CPRT</td>\n",
       "      <td>Copart</td>\n",
       "      <td>Industrials</td>\n",
       "      <td>Industrials</td>\n",
       "      <td>145.900</td>\n",
       "      <td>0.210</td>\n",
       "      <td>0.110</td>\n",
       "      <td>2.040</td>\n",
       "      <td>0.490</td>\n",
       "      <td>0.240</td>\n",
       "      <td>0.486</td>\n",
       "      <td>0.321</td>\n",
       "      <td>39.82</td>\n",
       "    </tr>\n",
       "    <tr>\n",
       "      <th>32</th>\n",
       "      <td>CRWD</td>\n",
       "      <td>CrowdStrike</td>\n",
       "      <td>Information Technology</td>\n",
       "      <td>Information Technology</td>\n",
       "      <td>232.600</td>\n",
       "      <td>0.352</td>\n",
       "      <td>0.140</td>\n",
       "      <td>2.250</td>\n",
       "      <td>1.140</td>\n",
       "      <td>0.500</td>\n",
       "      <td>0.731</td>\n",
       "      <td>-0.169</td>\n",
       "      <td>None</td>\n",
       "    </tr>\n",
       "    <tr>\n",
       "      <th>33</th>\n",
       "      <td>CSX</td>\n",
       "      <td>CSX Corporation</td>\n",
       "      <td>Industrials</td>\n",
       "      <td>Industrials</td>\n",
       "      <td>35.600</td>\n",
       "      <td>NaN</td>\n",
       "      <td>0.060</td>\n",
       "      <td>3.900</td>\n",
       "      <td>2.270</td>\n",
       "      <td>0.580</td>\n",
       "      <td>0.535</td>\n",
       "      <td>0.294</td>\n",
       "      <td>20.23</td>\n",
       "    </tr>\n",
       "    <tr>\n",
       "      <th>34</th>\n",
       "      <td>DXCM</td>\n",
       "      <td>DexCom</td>\n",
       "      <td>Health Care</td>\n",
       "      <td>Health Care</td>\n",
       "      <td>592.000</td>\n",
       "      <td>0.462</td>\n",
       "      <td>0.210</td>\n",
       "      <td>3.660</td>\n",
       "      <td>0.730</td>\n",
       "      <td>0.200</td>\n",
       "      <td>0.688</td>\n",
       "      <td>0.109</td>\n",
       "      <td>101.08</td>\n",
       "    </tr>\n",
       "    <tr>\n",
       "      <th>37</th>\n",
       "      <td>EBAY</td>\n",
       "      <td>EBay</td>\n",
       "      <td>Consumer Discretionary</td>\n",
       "      <td>Consumer Discretionary</td>\n",
       "      <td>72.500</td>\n",
       "      <td>0.292</td>\n",
       "      <td>0.130</td>\n",
       "      <td>17.760</td>\n",
       "      <td>5.300</td>\n",
       "      <td>0.300</td>\n",
       "      <td>0.729</td>\n",
       "      <td>0.106</td>\n",
       "      <td>21.24</td>\n",
       "    </tr>\n",
       "    <tr>\n",
       "      <th>40</th>\n",
       "      <td>FAST</td>\n",
       "      <td>Fastenal</td>\n",
       "      <td>Industrials</td>\n",
       "      <td>Industrials</td>\n",
       "      <td>60.100</td>\n",
       "      <td>0.191</td>\n",
       "      <td>0.070</td>\n",
       "      <td>2.770</td>\n",
       "      <td>0.660</td>\n",
       "      <td>0.240</td>\n",
       "      <td>0.463</td>\n",
       "      <td>0.156</td>\n",
       "      <td>34.41</td>\n",
       "    </tr>\n",
       "    <tr>\n",
       "      <th>42</th>\n",
       "      <td>FOXA</td>\n",
       "      <td>Fox Corporation</td>\n",
       "      <td>Communication Services</td>\n",
       "      <td>Communication Services</td>\n",
       "      <td>37.600</td>\n",
       "      <td>0.223</td>\n",
       "      <td>0.110</td>\n",
       "      <td>8.880</td>\n",
       "      <td>2.870</td>\n",
       "      <td>0.320</td>\n",
       "      <td>0.484</td>\n",
       "      <td>0.230</td>\n",
       "      <td>11.11</td>\n",
       "    </tr>\n",
       "    <tr>\n",
       "      <th>43</th>\n",
       "      <td>FOX</td>\n",
       "      <td>Fox Corporation</td>\n",
       "      <td>Communication Services</td>\n",
       "      <td>Communication Services</td>\n",
       "      <td>35.100</td>\n",
       "      <td>0.182</td>\n",
       "      <td>0.100</td>\n",
       "      <td>8.880</td>\n",
       "      <td>2.870</td>\n",
       "      <td>0.320</td>\n",
       "      <td>0.484</td>\n",
       "      <td>0.230</td>\n",
       "      <td>10.28</td>\n",
       "    </tr>\n",
       "    <tr>\n",
       "      <th>47</th>\n",
       "      <td>ILMN</td>\n",
       "      <td>Illumina, Inc.</td>\n",
       "      <td>Health Care</td>\n",
       "      <td>Health Care</td>\n",
       "      <td>369.800</td>\n",
       "      <td>0.143</td>\n",
       "      <td>0.110</td>\n",
       "      <td>2.450</td>\n",
       "      <td>0.910</td>\n",
       "      <td>0.370</td>\n",
       "      <td>0.711</td>\n",
       "      <td>0.286</td>\n",
       "      <td>77.70</td>\n",
       "    </tr>\n",
       "    <tr>\n",
       "      <th>48</th>\n",
       "      <td>INCY</td>\n",
       "      <td>Incyte</td>\n",
       "      <td>Health Care</td>\n",
       "      <td>Health Care</td>\n",
       "      <td>68.400</td>\n",
       "      <td>-0.216</td>\n",
       "      <td>0.100</td>\n",
       "      <td>2.920</td>\n",
       "      <td>0.740</td>\n",
       "      <td>0.250</td>\n",
       "      <td>0.528</td>\n",
       "      <td>0.224</td>\n",
       "      <td>44.95</td>\n",
       "    </tr>\n",
       "    <tr>\n",
       "      <th>49</th>\n",
       "      <td>INTC</td>\n",
       "      <td>Intel</td>\n",
       "      <td>Information Technology</td>\n",
       "      <td>Information Technology</td>\n",
       "      <td>48.800</td>\n",
       "      <td>0.027</td>\n",
       "      <td>0.090</td>\n",
       "      <td>61.300</td>\n",
       "      <td>29.570</td>\n",
       "      <td>0.480</td>\n",
       "      <td>0.560</td>\n",
       "      <td>0.356</td>\n",
       "      <td>11.84</td>\n",
       "    </tr>\n",
       "    <tr>\n",
       "      <th>50</th>\n",
       "      <td>INTU</td>\n",
       "      <td>Intuit</td>\n",
       "      <td>Information Technology</td>\n",
       "      <td>Information Technology</td>\n",
       "      <td>666.900</td>\n",
       "      <td>0.469</td>\n",
       "      <td>0.190</td>\n",
       "      <td>4.490</td>\n",
       "      <td>2.140</td>\n",
       "      <td>0.480</td>\n",
       "      <td>0.800</td>\n",
       "      <td>0.114</td>\n",
       "      <td>82.80</td>\n",
       "    </tr>\n",
       "    <tr>\n",
       "      <th>51</th>\n",
       "      <td>ISRG</td>\n",
       "      <td>Intuitive Surgical</td>\n",
       "      <td>Health Care</td>\n",
       "      <td>Health Care</td>\n",
       "      <td>329.200</td>\n",
       "      <td>0.261</td>\n",
       "      <td>0.140</td>\n",
       "      <td>5.730</td>\n",
       "      <td>1.030</td>\n",
       "      <td>0.180</td>\n",
       "      <td>0.692</td>\n",
       "      <td>0.272</td>\n",
       "      <td>74.19</td>\n",
       "    </tr>\n",
       "    <tr>\n",
       "      <th>54</th>\n",
       "      <td>KLAC</td>\n",
       "      <td>KLA Corporation</td>\n",
       "      <td>Information Technology</td>\n",
       "      <td>Information Technology</td>\n",
       "      <td>399.000</td>\n",
       "      <td>0.363</td>\n",
       "      <td>0.120</td>\n",
       "      <td>6.140</td>\n",
       "      <td>2.520</td>\n",
       "      <td>0.410</td>\n",
       "      <td>0.609</td>\n",
       "      <td>0.512</td>\n",
       "      <td>25.02</td>\n",
       "    </tr>\n",
       "    <tr>\n",
       "      <th>56</th>\n",
       "      <td>LRCX</td>\n",
       "      <td>Lam Research</td>\n",
       "      <td>Information Technology</td>\n",
       "      <td>Information Technology</td>\n",
       "      <td>642.000</td>\n",
       "      <td>0.289</td>\n",
       "      <td>0.090</td>\n",
       "      <td>11.140</td>\n",
       "      <td>3.410</td>\n",
       "      <td>0.310</td>\n",
       "      <td>0.459</td>\n",
       "      <td>0.274</td>\n",
       "      <td>21.16</td>\n",
       "    </tr>\n",
       "    <tr>\n",
       "      <th>57</th>\n",
       "      <td>LULU</td>\n",
       "      <td>Lululemon Athletica</td>\n",
       "      <td>Consumer Discretionary</td>\n",
       "      <td>Consumer Discretionary</td>\n",
       "      <td>456.600</td>\n",
       "      <td>0.200</td>\n",
       "      <td>0.130</td>\n",
       "      <td>2.280</td>\n",
       "      <td>0.980</td>\n",
       "      <td>0.430</td>\n",
       "      <td>0.581</td>\n",
       "      <td>0.143</td>\n",
       "      <td>74.24</td>\n",
       "    </tr>\n",
       "    <tr>\n",
       "      <th>59</th>\n",
       "      <td>MRVL</td>\n",
       "      <td>Marvell Technology, Inc.</td>\n",
       "      <td>Information Technology</td>\n",
       "      <td>Information Technology</td>\n",
       "      <td>72.000</td>\n",
       "      <td>0.374</td>\n",
       "      <td>0.160</td>\n",
       "      <td>1.910</td>\n",
       "      <td>1.080</td>\n",
       "      <td>0.570</td>\n",
       "      <td>0.346</td>\n",
       "      <td>-0.257</td>\n",
       "      <td>23.61</td>\n",
       "    </tr>\n",
       "    <tr>\n",
       "      <th>62</th>\n",
       "      <td>FB</td>\n",
       "      <td>Meta Platforms</td>\n",
       "      <td>Communication Services</td>\n",
       "      <td>Communication Services</td>\n",
       "      <td>333.100</td>\n",
       "      <td>0.166</td>\n",
       "      <td>0.120</td>\n",
       "      <td>75.420</td>\n",
       "      <td>17.810</td>\n",
       "      <td>0.240</td>\n",
       "      <td>0.801</td>\n",
       "      <td>0.317</td>\n",
       "      <td>25.18</td>\n",
       "    </tr>\n",
       "    <tr>\n",
       "      <th>63</th>\n",
       "      <td>MCHP</td>\n",
       "      <td>Microchip Technology</td>\n",
       "      <td>Information Technology</td>\n",
       "      <td>Information Technology</td>\n",
       "      <td>80.100</td>\n",
       "      <td>0.170</td>\n",
       "      <td>0.060</td>\n",
       "      <td>2.150</td>\n",
       "      <td>1.120</td>\n",
       "      <td>0.520</td>\n",
       "      <td>0.647</td>\n",
       "      <td>0.147</td>\n",
       "      <td>90.29</td>\n",
       "    </tr>\n",
       "    <tr>\n",
       "      <th>64</th>\n",
       "      <td>MU</td>\n",
       "      <td>Micron Technology</td>\n",
       "      <td>Information Technology</td>\n",
       "      <td>Information Technology</td>\n",
       "      <td>83.400</td>\n",
       "      <td>0.230</td>\n",
       "      <td>0.090</td>\n",
       "      <td>19.910</td>\n",
       "      <td>6.420</td>\n",
       "      <td>0.320</td>\n",
       "      <td>0.479</td>\n",
       "      <td>0.329</td>\n",
       "      <td>20.36</td>\n",
       "    </tr>\n",
       "    <tr>\n",
       "      <th>65</th>\n",
       "      <td>MSFT</td>\n",
       "      <td>Microsoft</td>\n",
       "      <td>Information Technology</td>\n",
       "      <td>Information Technology</td>\n",
       "      <td>329.700</td>\n",
       "      <td>0.347</td>\n",
       "      <td>0.130</td>\n",
       "      <td>174.330</td>\n",
       "      <td>80.530</td>\n",
       "      <td>0.460</td>\n",
       "      <td>0.699</td>\n",
       "      <td>0.452</td>\n",
       "      <td>35.02</td>\n",
       "    </tr>\n",
       "    <tr>\n",
       "      <th>68</th>\n",
       "      <td>MNST</td>\n",
       "      <td>Monster Beverage</td>\n",
       "      <td>Consumer Staples</td>\n",
       "      <td>Consumer Staples</td>\n",
       "      <td>87.100</td>\n",
       "      <td>0.033</td>\n",
       "      <td>0.040</td>\n",
       "      <td>4.380</td>\n",
       "      <td>0.930</td>\n",
       "      <td>0.210</td>\n",
       "      <td>0.559</td>\n",
       "      <td>0.239</td>\n",
       "      <td>30.84</td>\n",
       "    </tr>\n",
       "    <tr>\n",
       "      <th>69</th>\n",
       "      <td>NTES</td>\n",
       "      <td>NetEase</td>\n",
       "      <td>Communication Services</td>\n",
       "      <td>Communication Services</td>\n",
       "      <td>114.300</td>\n",
       "      <td>0.184</td>\n",
       "      <td>0.110</td>\n",
       "      <td>108.940</td>\n",
       "      <td>49.010</td>\n",
       "      <td>0.450</td>\n",
       "      <td>0.532</td>\n",
       "      <td>0.143</td>\n",
       "      <td>31.76</td>\n",
       "    </tr>\n",
       "    <tr>\n",
       "      <th>71</th>\n",
       "      <td>NVDA</td>\n",
       "      <td>Nvidia</td>\n",
       "      <td>Information Technology</td>\n",
       "      <td>Information Technology</td>\n",
       "      <td>315.000</td>\n",
       "      <td>0.579</td>\n",
       "      <td>0.280</td>\n",
       "      <td>25.810</td>\n",
       "      <td>3.610</td>\n",
       "      <td>0.140</td>\n",
       "      <td>0.652</td>\n",
       "      <td>0.347</td>\n",
       "      <td>91.47</td>\n",
       "    </tr>\n",
       "    <tr>\n",
       "      <th>74</th>\n",
       "      <td>OKTA</td>\n",
       "      <td>Okta (company)</td>\n",
       "      <td>Information Technology</td>\n",
       "      <td>Information Technology</td>\n",
       "      <td>222.700</td>\n",
       "      <td>-0.060</td>\n",
       "      <td>0.080</td>\n",
       "      <td>2.880</td>\n",
       "      <td>0.910</td>\n",
       "      <td>0.320</td>\n",
       "      <td>0.680</td>\n",
       "      <td>-0.877</td>\n",
       "      <td>None</td>\n",
       "    </tr>\n",
       "    <tr>\n",
       "      <th>75</th>\n",
       "      <td>PCAR</td>\n",
       "      <td>Paccar</td>\n",
       "      <td>Industrials</td>\n",
       "      <td>Industrials</td>\n",
       "      <td>86.500</td>\n",
       "      <td>-0.014</td>\n",
       "      <td>0.060</td>\n",
       "      <td>20.000</td>\n",
       "      <td>4.490</td>\n",
       "      <td>0.220</td>\n",
       "      <td>0.132</td>\n",
       "      <td>0.073</td>\n",
       "      <td>15.66</td>\n",
       "    </tr>\n",
       "    <tr>\n",
       "      <th>78</th>\n",
       "      <td>PTON</td>\n",
       "      <td>Peloton Interactive</td>\n",
       "      <td>Consumer Discretionary</td>\n",
       "      <td>Consumer Discretionary</td>\n",
       "      <td>46.400</td>\n",
       "      <td>-1.349</td>\n",
       "      <td>0.230</td>\n",
       "      <td>2.560</td>\n",
       "      <td>1.300</td>\n",
       "      <td>0.510</td>\n",
       "      <td>0.327</td>\n",
       "      <td>-0.467</td>\n",
       "      <td>147.64</td>\n",
       "    </tr>\n",
       "    <tr>\n",
       "      <th>80</th>\n",
       "      <td>PDD</td>\n",
       "      <td>Pinduoduo</td>\n",
       "      <td>Consumer Discretionary</td>\n",
       "      <td>Consumer Discretionary</td>\n",
       "      <td>68.500</td>\n",
       "      <td>-1.104</td>\n",
       "      <td>0.260</td>\n",
       "      <td>147.570</td>\n",
       "      <td>80.070</td>\n",
       "      <td>0.540</td>\n",
       "      <td>0.657</td>\n",
       "      <td>0.105</td>\n",
       "      <td>None</td>\n",
       "    </tr>\n",
       "    <tr>\n",
       "      <th>81</th>\n",
       "      <td>QCOM</td>\n",
       "      <td>Qualcomm</td>\n",
       "      <td>Information Technology</td>\n",
       "      <td>Information Technology</td>\n",
       "      <td>175.700</td>\n",
       "      <td>0.182</td>\n",
       "      <td>0.090</td>\n",
       "      <td>20.080</td>\n",
       "      <td>11.950</td>\n",
       "      <td>0.600</td>\n",
       "      <td>0.578</td>\n",
       "      <td>0.300</td>\n",
       "      <td>16.12</td>\n",
       "    </tr>\n",
       "    <tr>\n",
       "      <th>82</th>\n",
       "      <td>REGN</td>\n",
       "      <td>Regeneron Pharmaceuticals</td>\n",
       "      <td>Health Care</td>\n",
       "      <td>Health Care</td>\n",
       "      <td>643.300</td>\n",
       "      <td>0.201</td>\n",
       "      <td>0.120</td>\n",
       "      <td>13.780</td>\n",
       "      <td>3.710</td>\n",
       "      <td>0.270</td>\n",
       "      <td>0.676</td>\n",
       "      <td>0.473</td>\n",
       "      <td>10.89</td>\n",
       "    </tr>\n",
       "    <tr>\n",
       "      <th>83</th>\n",
       "      <td>ROST</td>\n",
       "      <td>Ross Stores</td>\n",
       "      <td>Consumer Discretionary</td>\n",
       "      <td>Consumer Discretionary</td>\n",
       "      <td>110.000</td>\n",
       "      <td>0.005</td>\n",
       "      <td>0.050</td>\n",
       "      <td>7.840</td>\n",
       "      <td>4.480</td>\n",
       "      <td>0.570</td>\n",
       "      <td>0.273</td>\n",
       "      <td>0.084</td>\n",
       "      <td>29.95</td>\n",
       "    </tr>\n",
       "    <tr>\n",
       "      <th>84</th>\n",
       "      <td>SGEN</td>\n",
       "      <td>Seagen</td>\n",
       "      <td>Health Care</td>\n",
       "      <td>Health Care</td>\n",
       "      <td>169.500</td>\n",
       "      <td>0.002</td>\n",
       "      <td>0.100</td>\n",
       "      <td>3.110</td>\n",
       "      <td>0.700</td>\n",
       "      <td>0.220</td>\n",
       "      <td>-0.278</td>\n",
       "      <td>-0.693</td>\n",
       "      <td>50.99</td>\n",
       "    </tr>\n",
       "    <tr>\n",
       "      <th>86</th>\n",
       "      <td>SWKS</td>\n",
       "      <td>Skyworks Solutions</td>\n",
       "      <td>Information Technology</td>\n",
       "      <td>Information Technology</td>\n",
       "      <td>152.500</td>\n",
       "      <td>0.107</td>\n",
       "      <td>0.080</td>\n",
       "      <td>2.870</td>\n",
       "      <td>0.660</td>\n",
       "      <td>0.230</td>\n",
       "      <td>0.468</td>\n",
       "      <td>0.249</td>\n",
       "      <td>19.41</td>\n",
       "    </tr>\n",
       "    <tr>\n",
       "      <th>87</th>\n",
       "      <td>SPLK</td>\n",
       "      <td>Splunk</td>\n",
       "      <td>Information Technology</td>\n",
       "      <td>Information Technology</td>\n",
       "      <td>124.800</td>\n",
       "      <td>-0.635</td>\n",
       "      <td>0.130</td>\n",
       "      <td>3.650</td>\n",
       "      <td>1.540</td>\n",
       "      <td>0.420</td>\n",
       "      <td>0.696</td>\n",
       "      <td>-0.634</td>\n",
       "      <td>None</td>\n",
       "    </tr>\n",
       "    <tr>\n",
       "      <th>92</th>\n",
       "      <td>TXN</td>\n",
       "      <td>Texas Instruments</td>\n",
       "      <td>Information Technology</td>\n",
       "      <td>Information Technology</td>\n",
       "      <td>188.300</td>\n",
       "      <td>0.156</td>\n",
       "      <td>0.060</td>\n",
       "      <td>13.580</td>\n",
       "      <td>2.410</td>\n",
       "      <td>0.180</td>\n",
       "      <td>0.679</td>\n",
       "      <td>0.419</td>\n",
       "      <td>26.81</td>\n",
       "    </tr>\n",
       "    <tr>\n",
       "      <th>96</th>\n",
       "      <td>VRTX</td>\n",
       "      <td>Vertex Pharmaceuticals</td>\n",
       "      <td>Health Care</td>\n",
       "      <td>Health Care</td>\n",
       "      <td>183.600</td>\n",
       "      <td>-0.235</td>\n",
       "      <td>0.080</td>\n",
       "      <td>8.850</td>\n",
       "      <td>1.910</td>\n",
       "      <td>0.220</td>\n",
       "      <td>0.632</td>\n",
       "      <td>0.429</td>\n",
       "      <td>23.93</td>\n",
       "    </tr>\n",
       "    <tr>\n",
       "      <th>100</th>\n",
       "      <td>XLNX</td>\n",
       "      <td>Xilinx</td>\n",
       "      <td>Information Technology</td>\n",
       "      <td>Information Technology</td>\n",
       "      <td>223.900</td>\n",
       "      <td>0.386</td>\n",
       "      <td>0.160</td>\n",
       "      <td>4.190</td>\n",
       "      <td>0.610</td>\n",
       "      <td>0.150</td>\n",
       "      <td>0.686</td>\n",
       "      <td>0.251</td>\n",
       "      <td>49.18</td>\n",
       "    </tr>\n",
       "    <tr>\n",
       "      <th>101</th>\n",
       "      <td>ZM</td>\n",
       "      <td>Zoom Video Communications</td>\n",
       "      <td>Information Technology</td>\n",
       "      <td>Information Technology</td>\n",
       "      <td>220.200</td>\n",
       "      <td>-1.142</td>\n",
       "      <td>0.150</td>\n",
       "      <td>6.110</td>\n",
       "      <td>1.690</td>\n",
       "      <td>0.280</td>\n",
       "      <td>0.742</td>\n",
       "      <td>0.324</td>\n",
       "      <td>82.98</td>\n",
       "    </tr>\n",
       "  </tbody>\n",
       "</table>\n",
       "</div>"
      ],
      "text/plain": [
       "    ticker               company_name                industry  \\\n",
       "0     ATVI        Activision Blizzard  Communication Services   \n",
       "2      AMD     Advanced Micro Devices  Information Technology   \n",
       "4    GOOGL              Alphabet Inc.  Communication Services   \n",
       "5     GOOG              Alphabet Inc.  Communication Services   \n",
       "9      ADI             Analog Devices  Information Technology   \n",
       "10    ANSS                      Ansys  Information Technology   \n",
       "12    AMAT          Applied Materials  Information Technology   \n",
       "13    ASML               ASML Holding  Information Technology   \n",
       "17    BIDU                      Baidu  Communication Services   \n",
       "18    BIIB                     Biogen             Health Care   \n",
       "19    BKNG           Booking Holdings  Consumer Discretionary   \n",
       "20    AVGO              Broadcom Inc.  Information Technology   \n",
       "21    CDNS     Cadence Design Systems  Information Technology   \n",
       "28    CTSH                  Cognizant  Information Technology   \n",
       "30    CPRT                     Copart             Industrials   \n",
       "32    CRWD                CrowdStrike  Information Technology   \n",
       "33     CSX            CSX Corporation             Industrials   \n",
       "34    DXCM                     DexCom             Health Care   \n",
       "37    EBAY                       EBay  Consumer Discretionary   \n",
       "40    FAST                   Fastenal             Industrials   \n",
       "42    FOXA            Fox Corporation  Communication Services   \n",
       "43     FOX            Fox Corporation  Communication Services   \n",
       "47    ILMN             Illumina, Inc.             Health Care   \n",
       "48    INCY                     Incyte             Health Care   \n",
       "49    INTC                      Intel  Information Technology   \n",
       "50    INTU                     Intuit  Information Technology   \n",
       "51    ISRG         Intuitive Surgical             Health Care   \n",
       "54    KLAC            KLA Corporation  Information Technology   \n",
       "56    LRCX               Lam Research  Information Technology   \n",
       "57    LULU        Lululemon Athletica  Consumer Discretionary   \n",
       "59    MRVL   Marvell Technology, Inc.  Information Technology   \n",
       "62      FB             Meta Platforms  Communication Services   \n",
       "63    MCHP       Microchip Technology  Information Technology   \n",
       "64      MU          Micron Technology  Information Technology   \n",
       "65    MSFT                  Microsoft  Information Technology   \n",
       "68    MNST           Monster Beverage        Consumer Staples   \n",
       "69    NTES                    NetEase  Communication Services   \n",
       "71    NVDA                     Nvidia  Information Technology   \n",
       "74    OKTA             Okta (company)  Information Technology   \n",
       "75    PCAR                     Paccar             Industrials   \n",
       "78    PTON        Peloton Interactive  Consumer Discretionary   \n",
       "80     PDD                  Pinduoduo  Consumer Discretionary   \n",
       "81    QCOM                   Qualcomm  Information Technology   \n",
       "82    REGN  Regeneron Pharmaceuticals             Health Care   \n",
       "83    ROST                Ross Stores  Consumer Discretionary   \n",
       "84    SGEN                     Seagen             Health Care   \n",
       "86    SWKS         Skyworks Solutions  Information Technology   \n",
       "87    SPLK                     Splunk  Information Technology   \n",
       "92     TXN          Texas Instruments  Information Technology   \n",
       "96    VRTX     Vertex Pharmaceuticals             Health Care   \n",
       "100   XLNX                     Xilinx  Information Technology   \n",
       "101     ZM  Zoom Video Communications  Information Technology   \n",
       "\n",
       "               sub_industry  last_close_price  yoy_growth  volatility  \\\n",
       "0    Communication Services            60.600      -0.289       0.110   \n",
       "2    Information Technology           154.800       0.437       0.190   \n",
       "4    Communication Services          2843.700       0.372       0.170   \n",
       "5    Communication Services          2856.100       0.372       0.170   \n",
       "9    Information Technology           178.000       0.226       0.070   \n",
       "10   Information Technology           382.500       0.136       0.060   \n",
       "12   Information Technology           143.300       0.423       0.150   \n",
       "13   Information Technology           782.000       0.440       0.180   \n",
       "17   Communication Services           153.100       0.089       0.220   \n",
       "18              Health Care           242.900      -0.004       0.140   \n",
       "19   Consumer Discretionary          2155.600       0.048       0.060   \n",
       "20   Information Technology           546.600       0.277       0.070   \n",
       "21   Information Technology           178.400       0.346       0.120   \n",
       "28   Information Technology            78.400       0.000       0.050   \n",
       "30              Industrials           145.900       0.210       0.110   \n",
       "32   Information Technology           232.600       0.352       0.140   \n",
       "33              Industrials            35.600         NaN       0.060   \n",
       "34              Health Care           592.000       0.462       0.210   \n",
       "37   Consumer Discretionary            72.500       0.292       0.130   \n",
       "40              Industrials            60.100       0.191       0.070   \n",
       "42   Communication Services            37.600       0.223       0.110   \n",
       "43   Communication Services            35.100       0.182       0.100   \n",
       "47              Health Care           369.800       0.143       0.110   \n",
       "48              Health Care            68.400      -0.216       0.100   \n",
       "49   Information Technology            48.800       0.027       0.090   \n",
       "50   Information Technology           666.900       0.469       0.190   \n",
       "51              Health Care           329.200       0.261       0.140   \n",
       "54   Information Technology           399.000       0.363       0.120   \n",
       "56   Information Technology           642.000       0.289       0.090   \n",
       "57   Consumer Discretionary           456.600       0.200       0.130   \n",
       "59   Information Technology            72.000       0.374       0.160   \n",
       "62   Communication Services           333.100       0.166       0.120   \n",
       "63   Information Technology            80.100       0.170       0.060   \n",
       "64   Information Technology            83.400       0.230       0.090   \n",
       "65   Information Technology           329.700       0.347       0.130   \n",
       "68         Consumer Staples            87.100       0.033       0.040   \n",
       "69   Communication Services           114.300       0.184       0.110   \n",
       "71   Information Technology           315.000       0.579       0.280   \n",
       "74   Information Technology           222.700      -0.060       0.080   \n",
       "75              Industrials            86.500      -0.014       0.060   \n",
       "78   Consumer Discretionary            46.400      -1.349       0.230   \n",
       "80   Consumer Discretionary            68.500      -1.104       0.260   \n",
       "81   Information Technology           175.700       0.182       0.090   \n",
       "82              Health Care           643.300       0.201       0.120   \n",
       "83   Consumer Discretionary           110.000       0.005       0.050   \n",
       "84              Health Care           169.500       0.002       0.100   \n",
       "86   Information Technology           152.500       0.107       0.080   \n",
       "87   Information Technology           124.800      -0.635       0.130   \n",
       "92   Information Technology           188.300       0.156       0.060   \n",
       "96              Health Care           183.600      -0.235       0.080   \n",
       "100  Information Technology           223.900       0.386       0.160   \n",
       "101  Information Technology           220.200      -1.142       0.150   \n",
       "\n",
       "     assets_billion  liabilities_billion  la_ratio  gross_profit_margin  \\\n",
       "0            11.210                2.020     0.180                0.745   \n",
       "2             7.990                3.560     0.450                0.484   \n",
       "4           184.110               61.780     0.340                0.576   \n",
       "5           184.110               61.780     0.340                0.576   \n",
       "9             5.380                2.770     0.520                0.479   \n",
       "10            1.760                0.600     0.340                0.893   \n",
       "12           16.110                6.340     0.390                0.481   \n",
       "13           15.680                9.160     0.580                0.517   \n",
       "17          215.390               73.920     0.340                0.495   \n",
       "18            7.160                4.210     0.590                0.816   \n",
       "19           14.350                5.780     0.400                0.874   \n",
       "20           15.640                6.500     0.420                0.745   \n",
       "21            1.540                0.910     0.590                0.897   \n",
       "28            7.000                3.320     0.470                0.379   \n",
       "30            2.040                0.490     0.240                0.486   \n",
       "32            2.250                1.140     0.500                0.731   \n",
       "33            3.900                2.270     0.580                0.535   \n",
       "34            3.660                0.730     0.200                0.688   \n",
       "37           17.760                5.300     0.300                0.729   \n",
       "40            2.770                0.660     0.240                0.463   \n",
       "42            8.880                2.870     0.320                0.484   \n",
       "43            8.880                2.870     0.320                0.484   \n",
       "47            2.450                0.910     0.370                0.711   \n",
       "48            2.920                0.740     0.250                0.528   \n",
       "49           61.300               29.570     0.480                0.560   \n",
       "50            4.490                2.140     0.480                0.800   \n",
       "51            5.730                1.030     0.180                0.692   \n",
       "54            6.140                2.520     0.410                0.609   \n",
       "56           11.140                3.410     0.310                0.459   \n",
       "57            2.280                0.980     0.430                0.581   \n",
       "59            1.910                1.080     0.570                0.346   \n",
       "62           75.420               17.810     0.240                0.801   \n",
       "63            2.150                1.120     0.520                0.647   \n",
       "64           19.910                6.420     0.320                0.479   \n",
       "65          174.330               80.530     0.460                0.699   \n",
       "68            4.380                0.930     0.210                0.559   \n",
       "69          108.940               49.010     0.450                0.532   \n",
       "71           25.810                3.610     0.140                0.652   \n",
       "74            2.880                0.910     0.320                0.680   \n",
       "75           20.000                4.490     0.220                0.132   \n",
       "78            2.560                1.300     0.510                0.327   \n",
       "80          147.570               80.070     0.540                0.657   \n",
       "81           20.080               11.950     0.600                0.578   \n",
       "82           13.780                3.710     0.270                0.676   \n",
       "83            7.840                4.480     0.570                0.273   \n",
       "84            3.110                0.700     0.220               -0.278   \n",
       "86            2.870                0.660     0.230                0.468   \n",
       "87            3.650                1.540     0.420                0.696   \n",
       "92           13.580                2.410     0.180                0.679   \n",
       "96            8.850                1.910     0.220                0.632   \n",
       "100           4.190                0.610     0.150                0.686   \n",
       "101           6.110                1.690     0.280                0.742   \n",
       "\n",
       "     net_profit_margin pe_ratio  \n",
       "0                0.309    23.24  \n",
       "2                0.214    36.49  \n",
       "4                0.291    29.01  \n",
       "5                0.291    28.92  \n",
       "9                0.032    37.96  \n",
       "10               0.193    65.22  \n",
       "12               0.280    23.77  \n",
       "13               0.332    55.54  \n",
       "17              -0.519     7.77  \n",
       "18               0.118    21.99  \n",
       "19               0.164   235.27  \n",
       "20               0.277    45.11  \n",
       "21               0.234    62.32  \n",
       "28               0.115    23.56  \n",
       "30               0.321    39.82  \n",
       "32              -0.169     None  \n",
       "33               0.294    20.23  \n",
       "34               0.109   101.08  \n",
       "37               0.106    21.24  \n",
       "40               0.156    34.41  \n",
       "42               0.230    11.11  \n",
       "43               0.230    10.28  \n",
       "47               0.286    77.70  \n",
       "48               0.224    44.95  \n",
       "49               0.356    11.84  \n",
       "50               0.114    82.80  \n",
       "51               0.272    74.19  \n",
       "54               0.512    25.02  \n",
       "56               0.274    21.16  \n",
       "57               0.143    74.24  \n",
       "59              -0.257    23.61  \n",
       "62               0.317    25.18  \n",
       "63               0.147    90.29  \n",
       "64               0.329    20.36  \n",
       "65               0.452    35.02  \n",
       "68               0.239    30.84  \n",
       "69               0.143    31.76  \n",
       "71               0.347    91.47  \n",
       "74              -0.877     None  \n",
       "75               0.073    15.66  \n",
       "78              -0.467   147.64  \n",
       "80               0.105     None  \n",
       "81               0.300    16.12  \n",
       "82               0.473    10.89  \n",
       "83               0.084    29.95  \n",
       "84              -0.693    50.99  \n",
       "86               0.249    19.41  \n",
       "87              -0.634     None  \n",
       "92               0.419    26.81  \n",
       "96               0.429    23.93  \n",
       "100              0.251    49.18  \n",
       "101              0.324    82.98  "
      ]
     },
     "execution_count": 503,
     "metadata": {},
     "output_type": "execute_result"
    }
   ],
   "source": [
    "la_analysis_df.loc[:,'la_ratio_bin'] = pd.cut(la_analysis_df['gross_profit_margin'], 8, precision = 1)\n",
    "la_analysis_df2 = la_analysis_df[['ticker','la_ratio_bin']].groupby('la_ratio_bin').count().reset_index()\n",
    "la_analysis_df2.loc[:,'la_ratio_bin'] = la_analysis_df2['la_ratio_bin'].astype('str')\n",
    "\n",
    "fig = px.bar(la_analysis_df2, x='la_ratio_bin', y='ticker', text = 'ticker')\n",
    "\n",
    "fig.update_traces(textposition='outside',\n",
    "                  texttemplate='%{text}',\n",
    "                  marker_color='#106e45',\n",
    "                  textfont_size=14)\n",
    "\n",
    "fig.update_layout(title_text = 'Liabilities to Assets Distribution',\n",
    "                  yaxis_title = 'Number of Companies',\n",
    "                  xaxis_title = 'LA Ratio Bin',\n",
    "                  height = 500, width = 1000)\n",
    "\n",
    "fig.show()"
   ]
  },
  {
   "cell_type": "code",
   "execution_count": 481,
   "metadata": {},
   "outputs": [
    {
     "data": {
      "text/html": [
       "<div>\n",
       "<style scoped>\n",
       "    .dataframe tbody tr th:only-of-type {\n",
       "        vertical-align: middle;\n",
       "    }\n",
       "\n",
       "    .dataframe tbody tr th {\n",
       "        vertical-align: top;\n",
       "    }\n",
       "\n",
       "    .dataframe thead th {\n",
       "        text-align: right;\n",
       "    }\n",
       "</style>\n",
       "<table border=\"1\" class=\"dataframe\">\n",
       "  <thead>\n",
       "    <tr style=\"text-align: right;\">\n",
       "      <th></th>\n",
       "      <th>ticker</th>\n",
       "    </tr>\n",
       "    <tr>\n",
       "      <th>la_ratio_bin</th>\n",
       "      <th></th>\n",
       "    </tr>\n",
       "  </thead>\n",
       "  <tbody>\n",
       "    <tr>\n",
       "      <th>(0.1, 0.6]</th>\n",
       "      <td>54</td>\n",
       "    </tr>\n",
       "    <tr>\n",
       "      <th>(0.6, 1.1]</th>\n",
       "      <td>35</td>\n",
       "    </tr>\n",
       "    <tr>\n",
       "      <th>(1.1, 1.6]</th>\n",
       "      <td>7</td>\n",
       "    </tr>\n",
       "    <tr>\n",
       "      <th>(1.6, 2.1]</th>\n",
       "      <td>3</td>\n",
       "    </tr>\n",
       "    <tr>\n",
       "      <th>(2.1, 2.5]</th>\n",
       "      <td>1</td>\n",
       "    </tr>\n",
       "    <tr>\n",
       "      <th>(2.5, 3.0]</th>\n",
       "      <td>1</td>\n",
       "    </tr>\n",
       "    <tr>\n",
       "      <th>(3.0, 3.5]</th>\n",
       "      <td>1</td>\n",
       "    </tr>\n",
       "  </tbody>\n",
       "</table>\n",
       "</div>"
      ],
      "text/plain": [
       "              ticker\n",
       "la_ratio_bin        \n",
       "(0.1, 0.6]        54\n",
       "(0.6, 1.1]        35\n",
       "(1.1, 1.6]         7\n",
       "(1.6, 2.1]         3\n",
       "(2.1, 2.5]         1\n",
       "(2.5, 3.0]         1\n",
       "(3.0, 3.5]         1"
      ]
     },
     "execution_count": 481,
     "metadata": {},
     "output_type": "execute_result"
    }
   ],
   "source": [
    "analysis_df[['ticker','la_ratio_bin']].groupby('la_ratio_bin').count()"
   ]
  },
  {
   "cell_type": "code",
   "execution_count": 452,
   "metadata": {},
   "outputs": [
    {
     "data": {
      "text/html": [
       "<div>\n",
       "<style scoped>\n",
       "    .dataframe tbody tr th:only-of-type {\n",
       "        vertical-align: middle;\n",
       "    }\n",
       "\n",
       "    .dataframe tbody tr th {\n",
       "        vertical-align: top;\n",
       "    }\n",
       "\n",
       "    .dataframe thead th {\n",
       "        text-align: right;\n",
       "    }\n",
       "</style>\n",
       "<table border=\"1\" class=\"dataframe\">\n",
       "  <thead>\n",
       "    <tr style=\"text-align: right;\">\n",
       "      <th></th>\n",
       "      <th>ticker</th>\n",
       "      <th>company_name</th>\n",
       "      <th>industry</th>\n",
       "      <th>sub_industry</th>\n",
       "      <th>last_close_price</th>\n",
       "      <th>yoy_growth</th>\n",
       "      <th>volatility</th>\n",
       "      <th>assets_billion</th>\n",
       "      <th>liabilities_billion</th>\n",
       "      <th>la_ratio</th>\n",
       "      <th>gross_profit_margin</th>\n",
       "      <th>net_profit_margin</th>\n",
       "      <th>pe_ratio</th>\n",
       "    </tr>\n",
       "  </thead>\n",
       "  <tbody>\n",
       "    <tr>\n",
       "      <th>0</th>\n",
       "      <td>ATVI</td>\n",
       "      <td>Activision Blizzard</td>\n",
       "      <td>Communication Services</td>\n",
       "      <td>Communication Services</td>\n",
       "      <td>60.600</td>\n",
       "      <td>-0.289</td>\n",
       "      <td>0.110</td>\n",
       "      <td>11.210</td>\n",
       "      <td>2.020</td>\n",
       "      <td>0.180</td>\n",
       "      <td>0.745</td>\n",
       "      <td>0.309</td>\n",
       "      <td>23.24</td>\n",
       "    </tr>\n",
       "    <tr>\n",
       "      <th>2</th>\n",
       "      <td>AMD</td>\n",
       "      <td>Advanced Micro Devices</td>\n",
       "      <td>Information Technology</td>\n",
       "      <td>Information Technology</td>\n",
       "      <td>154.800</td>\n",
       "      <td>0.437</td>\n",
       "      <td>0.190</td>\n",
       "      <td>7.990</td>\n",
       "      <td>3.560</td>\n",
       "      <td>0.450</td>\n",
       "      <td>0.484</td>\n",
       "      <td>0.214</td>\n",
       "      <td>36.49</td>\n",
       "    </tr>\n",
       "    <tr>\n",
       "      <th>7</th>\n",
       "      <td>AEP</td>\n",
       "      <td>American Electric Power</td>\n",
       "      <td>Utilities</td>\n",
       "      <td>Utilities</td>\n",
       "      <td>82.600</td>\n",
       "      <td>-0.028</td>\n",
       "      <td>0.040</td>\n",
       "      <td>5.790</td>\n",
       "      <td>9.950</td>\n",
       "      <td>1.720</td>\n",
       "      <td>0.469</td>\n",
       "      <td>0.172</td>\n",
       "      <td>17.31</td>\n",
       "    </tr>\n",
       "    <tr>\n",
       "      <th>8</th>\n",
       "      <td>AMGN</td>\n",
       "      <td>Amgen</td>\n",
       "      <td>Health Care</td>\n",
       "      <td>Health Care</td>\n",
       "      <td>201.100</td>\n",
       "      <td>-0.118</td>\n",
       "      <td>0.060</td>\n",
       "      <td>24.380</td>\n",
       "      <td>14.840</td>\n",
       "      <td>0.610</td>\n",
       "      <td>0.760</td>\n",
       "      <td>0.281</td>\n",
       "      <td>21.61</td>\n",
       "    </tr>\n",
       "    <tr>\n",
       "      <th>9</th>\n",
       "      <td>ADI</td>\n",
       "      <td>Analog Devices</td>\n",
       "      <td>Information Technology</td>\n",
       "      <td>Information Technology</td>\n",
       "      <td>178.000</td>\n",
       "      <td>0.226</td>\n",
       "      <td>0.070</td>\n",
       "      <td>5.380</td>\n",
       "      <td>2.770</td>\n",
       "      <td>0.520</td>\n",
       "      <td>0.479</td>\n",
       "      <td>0.032</td>\n",
       "      <td>37.96</td>\n",
       "    </tr>\n",
       "    <tr>\n",
       "      <th>10</th>\n",
       "      <td>ANSS</td>\n",
       "      <td>Ansys</td>\n",
       "      <td>Information Technology</td>\n",
       "      <td>Information Technology</td>\n",
       "      <td>382.500</td>\n",
       "      <td>0.136</td>\n",
       "      <td>0.060</td>\n",
       "      <td>1.760</td>\n",
       "      <td>0.600</td>\n",
       "      <td>0.340</td>\n",
       "      <td>0.893</td>\n",
       "      <td>0.193</td>\n",
       "      <td>65.22</td>\n",
       "    </tr>\n",
       "    <tr>\n",
       "      <th>11</th>\n",
       "      <td>AAPL</td>\n",
       "      <td>Apple Inc.</td>\n",
       "      <td>Information Technology</td>\n",
       "      <td>Information Technology</td>\n",
       "      <td>156.800</td>\n",
       "      <td>0.256</td>\n",
       "      <td>0.080</td>\n",
       "      <td>134.840</td>\n",
       "      <td>125.480</td>\n",
       "      <td>0.930</td>\n",
       "      <td>0.422</td>\n",
       "      <td>0.247</td>\n",
       "      <td>27.64</td>\n",
       "    </tr>\n",
       "    <tr>\n",
       "      <th>12</th>\n",
       "      <td>AMAT</td>\n",
       "      <td>Applied Materials</td>\n",
       "      <td>Information Technology</td>\n",
       "      <td>Information Technology</td>\n",
       "      <td>143.300</td>\n",
       "      <td>0.423</td>\n",
       "      <td>0.150</td>\n",
       "      <td>16.110</td>\n",
       "      <td>6.340</td>\n",
       "      <td>0.390</td>\n",
       "      <td>0.481</td>\n",
       "      <td>0.280</td>\n",
       "      <td>23.77</td>\n",
       "    </tr>\n",
       "    <tr>\n",
       "      <th>14</th>\n",
       "      <td>TEAM</td>\n",
       "      <td>Atlassian</td>\n",
       "      <td>Information Technology</td>\n",
       "      <td>Information Technology</td>\n",
       "      <td>391.500</td>\n",
       "      <td>0.428</td>\n",
       "      <td>0.270</td>\n",
       "      <td>2.010</td>\n",
       "      <td>2.400</td>\n",
       "      <td>1.190</td>\n",
       "      <td>0.840</td>\n",
       "      <td>-0.651</td>\n",
       "      <td>None</td>\n",
       "    </tr>\n",
       "    <tr>\n",
       "      <th>15</th>\n",
       "      <td>ADSK</td>\n",
       "      <td>Autodesk</td>\n",
       "      <td>Information Technology</td>\n",
       "      <td>Information Technology</td>\n",
       "      <td>254.200</td>\n",
       "      <td>-0.073</td>\n",
       "      <td>0.060</td>\n",
       "      <td>2.650</td>\n",
       "      <td>3.280</td>\n",
       "      <td>1.240</td>\n",
       "      <td>0.917</td>\n",
       "      <td>0.122</td>\n",
       "      <td>54.99</td>\n",
       "    </tr>\n",
       "    <tr>\n",
       "      <th>16</th>\n",
       "      <td>ADP</td>\n",
       "      <td>Automatic Data Processing</td>\n",
       "      <td>Information Technology</td>\n",
       "      <td>Information Technology</td>\n",
       "      <td>229.600</td>\n",
       "      <td>0.237</td>\n",
       "      <td>0.090</td>\n",
       "      <td>52.050</td>\n",
       "      <td>49.670</td>\n",
       "      <td>0.950</td>\n",
       "      <td>0.447</td>\n",
       "      <td>0.183</td>\n",
       "      <td>32.94</td>\n",
       "    </tr>\n",
       "    <tr>\n",
       "      <th>17</th>\n",
       "      <td>BIDU</td>\n",
       "      <td>Baidu</td>\n",
       "      <td>Communication Services</td>\n",
       "      <td>Communication Services</td>\n",
       "      <td>153.100</td>\n",
       "      <td>0.089</td>\n",
       "      <td>0.220</td>\n",
       "      <td>215.390</td>\n",
       "      <td>73.920</td>\n",
       "      <td>0.340</td>\n",
       "      <td>0.495</td>\n",
       "      <td>-0.519</td>\n",
       "      <td>7.77</td>\n",
       "    </tr>\n",
       "    <tr>\n",
       "      <th>18</th>\n",
       "      <td>BIIB</td>\n",
       "      <td>Biogen</td>\n",
       "      <td>Health Care</td>\n",
       "      <td>Health Care</td>\n",
       "      <td>242.900</td>\n",
       "      <td>-0.004</td>\n",
       "      <td>0.140</td>\n",
       "      <td>7.160</td>\n",
       "      <td>4.210</td>\n",
       "      <td>0.590</td>\n",
       "      <td>0.816</td>\n",
       "      <td>0.118</td>\n",
       "      <td>21.99</td>\n",
       "    </tr>\n",
       "    <tr>\n",
       "      <th>21</th>\n",
       "      <td>CDNS</td>\n",
       "      <td>Cadence Design Systems</td>\n",
       "      <td>Information Technology</td>\n",
       "      <td>Information Technology</td>\n",
       "      <td>178.400</td>\n",
       "      <td>0.346</td>\n",
       "      <td>0.120</td>\n",
       "      <td>1.540</td>\n",
       "      <td>0.910</td>\n",
       "      <td>0.590</td>\n",
       "      <td>0.897</td>\n",
       "      <td>0.234</td>\n",
       "      <td>62.32</td>\n",
       "    </tr>\n",
       "    <tr>\n",
       "      <th>22</th>\n",
       "      <td>CDW</td>\n",
       "      <td>CDW</td>\n",
       "      <td>Information Technology</td>\n",
       "      <td>Information Technology</td>\n",
       "      <td>191.200</td>\n",
       "      <td>0.309</td>\n",
       "      <td>0.130</td>\n",
       "      <td>5.290</td>\n",
       "      <td>3.830</td>\n",
       "      <td>0.720</td>\n",
       "      <td>0.173</td>\n",
       "      <td>0.050</td>\n",
       "      <td>27.83</td>\n",
       "    </tr>\n",
       "    <tr>\n",
       "      <th>23</th>\n",
       "      <td>CERN</td>\n",
       "      <td>Cerner</td>\n",
       "      <td>Health Care</td>\n",
       "      <td>Health Care</td>\n",
       "      <td>72.300</td>\n",
       "      <td>-0.025</td>\n",
       "      <td>0.040</td>\n",
       "      <td>2.440</td>\n",
       "      <td>1.550</td>\n",
       "      <td>0.640</td>\n",
       "      <td>0.829</td>\n",
       "      <td>0.120</td>\n",
       "      <td>30.93</td>\n",
       "    </tr>\n",
       "  </tbody>\n",
       "</table>\n",
       "</div>"
      ],
      "text/plain": [
       "   ticker               company_name                industry  \\\n",
       "0    ATVI        Activision Blizzard  Communication Services   \n",
       "2     AMD     Advanced Micro Devices  Information Technology   \n",
       "7     AEP    American Electric Power               Utilities   \n",
       "8    AMGN                      Amgen             Health Care   \n",
       "9     ADI             Analog Devices  Information Technology   \n",
       "10   ANSS                      Ansys  Information Technology   \n",
       "11   AAPL                 Apple Inc.  Information Technology   \n",
       "12   AMAT          Applied Materials  Information Technology   \n",
       "14   TEAM                  Atlassian  Information Technology   \n",
       "15   ADSK                   Autodesk  Information Technology   \n",
       "16    ADP  Automatic Data Processing  Information Technology   \n",
       "17   BIDU                      Baidu  Communication Services   \n",
       "18   BIIB                     Biogen             Health Care   \n",
       "21   CDNS     Cadence Design Systems  Information Technology   \n",
       "22    CDW                        CDW  Information Technology   \n",
       "23   CERN                     Cerner             Health Care   \n",
       "\n",
       "              sub_industry  last_close_price  yoy_growth  volatility  \\\n",
       "0   Communication Services            60.600      -0.289       0.110   \n",
       "2   Information Technology           154.800       0.437       0.190   \n",
       "7                Utilities            82.600      -0.028       0.040   \n",
       "8              Health Care           201.100      -0.118       0.060   \n",
       "9   Information Technology           178.000       0.226       0.070   \n",
       "10  Information Technology           382.500       0.136       0.060   \n",
       "11  Information Technology           156.800       0.256       0.080   \n",
       "12  Information Technology           143.300       0.423       0.150   \n",
       "14  Information Technology           391.500       0.428       0.270   \n",
       "15  Information Technology           254.200      -0.073       0.060   \n",
       "16  Information Technology           229.600       0.237       0.090   \n",
       "17  Communication Services           153.100       0.089       0.220   \n",
       "18             Health Care           242.900      -0.004       0.140   \n",
       "21  Information Technology           178.400       0.346       0.120   \n",
       "22  Information Technology           191.200       0.309       0.130   \n",
       "23             Health Care            72.300      -0.025       0.040   \n",
       "\n",
       "    assets_billion  liabilities_billion  la_ratio  gross_profit_margin  \\\n",
       "0           11.210                2.020     0.180                0.745   \n",
       "2            7.990                3.560     0.450                0.484   \n",
       "7            5.790                9.950     1.720                0.469   \n",
       "8           24.380               14.840     0.610                0.760   \n",
       "9            5.380                2.770     0.520                0.479   \n",
       "10           1.760                0.600     0.340                0.893   \n",
       "11         134.840              125.480     0.930                0.422   \n",
       "12          16.110                6.340     0.390                0.481   \n",
       "14           2.010                2.400     1.190                0.840   \n",
       "15           2.650                3.280     1.240                0.917   \n",
       "16          52.050               49.670     0.950                0.447   \n",
       "17         215.390               73.920     0.340                0.495   \n",
       "18           7.160                4.210     0.590                0.816   \n",
       "21           1.540                0.910     0.590                0.897   \n",
       "22           5.290                3.830     0.720                0.173   \n",
       "23           2.440                1.550     0.640                0.829   \n",
       "\n",
       "    net_profit_margin pe_ratio  \n",
       "0               0.309    23.24  \n",
       "2               0.214    36.49  \n",
       "7               0.172    17.31  \n",
       "8               0.281    21.61  \n",
       "9               0.032    37.96  \n",
       "10              0.193    65.22  \n",
       "11              0.247    27.64  \n",
       "12              0.280    23.77  \n",
       "14             -0.651     None  \n",
       "15              0.122    54.99  \n",
       "16              0.183    32.94  \n",
       "17             -0.519     7.77  \n",
       "18              0.118    21.99  \n",
       "21              0.234    62.32  \n",
       "22              0.050    27.83  \n",
       "23              0.120    30.93  "
      ]
     },
     "execution_count": 452,
     "metadata": {},
     "output_type": "execute_result"
    }
   ],
   "source": [
    "final_df[(final_df['last_close_price'] <= 500) & (final_df['yoy_growth'] >= 0.05)]"
   ]
  },
  {
   "cell_type": "code",
   "execution_count": null,
   "metadata": {},
   "outputs": [],
   "source": []
  }
 ],
 "metadata": {
  "interpreter": {
   "hash": "40d3a090f54c6569ab1632332b64b2c03c39dcf918b08424e98f38b5ae0af88f"
  },
  "kernelspec": {
   "display_name": "Python 3.7.4 64-bit ('base': conda)",
   "language": "python",
   "name": "python3"
  },
  "language_info": {
   "codemirror_mode": {
    "name": "ipython",
    "version": 3
   },
   "file_extension": ".py",
   "mimetype": "text/x-python",
   "name": "python",
   "nbconvert_exporter": "python",
   "pygments_lexer": "ipython3",
   "version": "3.7.4"
  },
  "orig_nbformat": 4
 },
 "nbformat": 4,
 "nbformat_minor": 2
}
