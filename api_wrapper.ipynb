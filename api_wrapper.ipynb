{
 "cells": [
  {
   "cell_type": "code",
   "execution_count": 12,
   "metadata": {},
   "outputs": [],
   "source": [
    "import pandas as pd\n",
    "import requests\n",
    "\n",
    "from datetime import datetime\n",
    "import time\n",
    "\n",
    "from scrapy import Selector"
   ]
  },
  {
   "cell_type": "code",
   "execution_count": 7,
   "metadata": {},
   "outputs": [],
   "source": [
    "url = 'https://en.wikipedia.org/wiki/Nasdaq-100'\n",
    "\n",
    "html = requests.get(url).text\n",
    "sel = Selector(text = html)\n",
    "\n",
    "nasdaq100_list = []\n",
    "\n",
    "for n in range(2,104):\n",
    "    ticker = sel.xpath('//table[@id = \"constituents\"]/tbody/tr[{}]/td[2]'.format(n)).extract()[0].strip('</td>')\n",
    "    nasdaq100_list.append(ticker)"
   ]
  },
  {
   "cell_type": "code",
   "execution_count": 8,
   "metadata": {},
   "outputs": [
    {
     "name": "stdout",
     "output_type": "stream",
     "text": [
      "Pretty printing has been turned OFF\n"
     ]
    },
    {
     "data": {
      "text/plain": [
       "['ATVI', 'ADBE', 'AMD', 'ALGN', 'GOOGL', 'GOOG', 'AMZN', 'AEP', 'AMGN', 'ADI', 'ANSS', 'AAPL', 'AMAT', 'ASML', 'TEAM', 'ADSK', 'ADP', 'BIDU', 'BIIB', 'BKNG', 'AVGO', 'CDNS', 'CDW', 'CERN', 'CHTR', 'CHKP', 'CTAS', 'CSCO', 'CTSH', 'CMCSA', 'CPRT', 'COST', 'CRWD', 'CSX', 'DXCM', 'DOCU', 'DLTR', 'EBAY', 'EA', 'EXC', 'FAST', 'FISV', 'FOXA', 'FOX', 'GILD', 'HON', 'IDXX', 'ILMN', 'INCY', 'INTC', 'INTU', 'ISRG', 'JD', 'KDP', 'KLAC', 'KHC', 'LRCX', 'LULU', 'MAR', 'MRVL', 'MTCH', 'MELI', 'FB', 'MCHP', 'MU', 'MSFT', 'MRNA', 'MDLZ', 'MNST', 'NTES', 'NFLX', 'NVDA', 'NXPI', 'ORLY', 'OKTA', 'PCAR', 'PAYX', 'PYPL', 'PTON', 'PEP', 'PDD', 'QCOM', 'REGN', 'ROST', 'SGEN', 'SIRI', 'SWKS', 'SPLK', 'SBUX', 'SNPS', 'TMUS', 'TSLA', 'TXN', 'TCOM', 'VRSN', 'VRSK', 'VRTX', 'WBA', 'WDAY', 'XEL', 'XLNX', 'ZM']"
      ]
     },
     "execution_count": 8,
     "metadata": {},
     "output_type": "execute_result"
    }
   ],
   "source": [
    "%pprint\n",
    "\n",
    "nasdaq100_list"
   ]
  },
  {
   "cell_type": "code",
   "execution_count": 13,
   "metadata": {},
   "outputs": [],
   "source": [
    "def unix_to_date(unix_timestamp):\n",
    "    ts = int(unix_timestamp)\n",
    "    return datetime.utcfromtimestamp(ts).strftime('%Y-%m-%d')"
   ]
  },
  {
   "cell_type": "code",
   "execution_count": 9,
   "metadata": {},
   "outputs": [],
   "source": [
    "with open('/Users/ilya/Desktop/keys/yahoo_finance.txt','r') as file:\n",
    "    key = file.readlines()\n",
    "\n",
    "KEY = key[0]"
   ]
  },
  {
   "cell_type": "code",
   "execution_count": 14,
   "metadata": {},
   "outputs": [],
   "source": [
    "def get_weekly_history_df(symbol):\n",
    "    get_history_url = \"https://yh-finance.p.rapidapi.com/stock/v3/get-historical-data\"\n",
    "\n",
    "    querystring = {\"symbol\":symbol,\"region\":\"US\"}\n",
    "\n",
    "    headers = {\n",
    "    'x-rapidapi-host': \"yh-finance.p.rapidapi.com\",\n",
    "    'x-rapidapi-key': KEY\n",
    "    }\n",
    "\n",
    "    response = requests.request(\"GET\", get_history_url, headers=headers, params=querystring)\n",
    "\n",
    "    json_response = response.json()\n",
    "\n",
    "    weekly_history_df = pd.DataFrame(json_response['prices'])[['date','close']]\n",
    "    weekly_history_df.loc[:,'date'] = weekly_history_df['date'].apply(lambda x: unix_to_date(x))\n",
    "\n",
    "    weekly_history_df.loc[:,'week'] = [pd.Timestamp(date).week for date in weekly_history_df['date']]\n",
    "    weekly_history_df.loc[:,'year'] = [pd.Timestamp(date).year for date in weekly_history_df['date']]\n",
    "\n",
    "    weekly_history_df.loc[:,'close'] = weekly_history_df['close'].round(1)\n",
    "\n",
    "    return weekly_history_df[['date','year','week','close']]"
   ]
  },
  {
   "cell_type": "code",
   "execution_count": 15,
   "metadata": {},
   "outputs": [
    {
     "data": {
      "text/plain": [
       "2999.1"
      ]
     },
     "execution_count": 15,
     "metadata": {},
     "output_type": "execute_result"
    }
   ],
   "source": [
    "get_weekly_history_df('GOOG').iloc[0]['close']"
   ]
  },
  {
   "cell_type": "code",
   "execution_count": 30,
   "metadata": {},
   "outputs": [],
   "source": [
    "def list_perfomance(symbol):\n",
    "    weekly_history_df = get_weekly_history_df(symbol)\n",
    "\n",
    "    performance_list = [symbol,\\\n",
    "                        round((weekly_history_df.iloc[0]['close'] - weekly_history_df.iloc[-1]['close'])/weekly_history_df.loc[0]['close'],3),\\\n",
    "                        round(weekly_history_df['close'].std(),2),\\\n",
    "                        round(weekly_history_df['close'].var(),2),\n",
    "                        round(weekly_history_df['close'].mean(),2),\n",
    "                        round(weekly_history_df['close'].std()/weekly_history_df['close'].mean(),2),\n",
    "                        round(weekly_history_df.iloc[0]['close'],1)\n",
    "                        ]\n",
    "\n",
    "    return performance_list"
   ]
  },
  {
   "cell_type": "code",
   "execution_count": 31,
   "metadata": {},
   "outputs": [
    {
     "data": {
      "text/plain": [
       "['GOOG', 0.419, 402.38, 161911.84, 2383.77, 0.17, 2999.1]"
      ]
     },
     "execution_count": 31,
     "metadata": {},
     "output_type": "execute_result"
    }
   ],
   "source": [
    "list_perfomance('GOOG')"
   ]
  },
  {
   "cell_type": "code",
   "execution_count": 32,
   "metadata": {},
   "outputs": [
    {
     "name": "stdout",
     "output_type": "stream",
     "text": [
      "MU MSFT MRNA "
     ]
    }
   ],
   "source": [
    "counter = 0\n",
    "\n",
    "attributes = ['ticker','yoy_growth','std','variance','mean_price','volatility','last_close_price']\n",
    "comparison_df = pd.DataFrame(columns = attributes)\n",
    "\n",
    "for ticker_name in nasdaq100_list[64:67]:\n",
    "    series_row = pd.Series(list_perfomance(ticker_name), index = attributes)\n",
    "    comparison_df = comparison_df.append(series_row, ignore_index=True)\n",
    "    print(ticker_name, end = ' ')\n",
    "    time.sleep(1)"
   ]
  },
  {
   "cell_type": "code",
   "execution_count": 33,
   "metadata": {},
   "outputs": [
    {
     "data": {
      "text/html": [
       "<div>\n",
       "<style scoped>\n",
       "    .dataframe tbody tr th:only-of-type {\n",
       "        vertical-align: middle;\n",
       "    }\n",
       "\n",
       "    .dataframe tbody tr th {\n",
       "        vertical-align: top;\n",
       "    }\n",
       "\n",
       "    .dataframe thead th {\n",
       "        text-align: right;\n",
       "    }\n",
       "</style>\n",
       "<table border=\"1\" class=\"dataframe\">\n",
       "  <thead>\n",
       "    <tr style=\"text-align: right;\">\n",
       "      <th></th>\n",
       "      <th>ticker</th>\n",
       "      <th>yoy_growth</th>\n",
       "      <th>std</th>\n",
       "      <th>variance</th>\n",
       "      <th>mean_price</th>\n",
       "      <th>volatility</th>\n",
       "      <th>last_close_price</th>\n",
       "    </tr>\n",
       "  </thead>\n",
       "  <tbody>\n",
       "    <tr>\n",
       "      <th>2</th>\n",
       "      <td>MRNA</td>\n",
       "      <td>0.630</td>\n",
       "      <td>104.50</td>\n",
       "      <td>10921.20</td>\n",
       "      <td>231.41</td>\n",
       "      <td>0.45</td>\n",
       "      <td>263.8</td>\n",
       "    </tr>\n",
       "    <tr>\n",
       "      <th>1</th>\n",
       "      <td>MSFT</td>\n",
       "      <td>0.387</td>\n",
       "      <td>34.87</td>\n",
       "      <td>1215.59</td>\n",
       "      <td>263.00</td>\n",
       "      <td>0.13</td>\n",
       "      <td>343.1</td>\n",
       "    </tr>\n",
       "    <tr>\n",
       "      <th>0</th>\n",
       "      <td>MU</td>\n",
       "      <td>0.260</td>\n",
       "      <td>7.47</td>\n",
       "      <td>55.84</td>\n",
       "      <td>78.64</td>\n",
       "      <td>0.10</td>\n",
       "      <td>83.0</td>\n",
       "    </tr>\n",
       "  </tbody>\n",
       "</table>\n",
       "</div>"
      ],
      "text/plain": [
       "  ticker  yoy_growth     std  variance  mean_price  volatility  \\\n",
       "2   MRNA       0.630  104.50  10921.20      231.41        0.45   \n",
       "1   MSFT       0.387   34.87   1215.59      263.00        0.13   \n",
       "0     MU       0.260    7.47     55.84       78.64        0.10   \n",
       "\n",
       "   last_close_price  \n",
       "2             263.8  \n",
       "1             343.1  \n",
       "0              83.0  "
      ]
     },
     "execution_count": 33,
     "metadata": {},
     "output_type": "execute_result"
    }
   ],
   "source": [
    "comparison_df.sort_values(by = 'yoy_growth', ascending=False).head(20)"
   ]
  },
  {
   "cell_type": "code",
   "execution_count": null,
   "metadata": {},
   "outputs": [],
   "source": []
  }
 ],
 "metadata": {
  "interpreter": {
   "hash": "40d3a090f54c6569ab1632332b64b2c03c39dcf918b08424e98f38b5ae0af88f"
  },
  "kernelspec": {
   "display_name": "Python 3.7.4 64-bit ('base': conda)",
   "language": "python",
   "name": "python3"
  },
  "language_info": {
   "codemirror_mode": {
    "name": "ipython",
    "version": 3
   },
   "file_extension": ".py",
   "mimetype": "text/x-python",
   "name": "python",
   "nbconvert_exporter": "python",
   "pygments_lexer": "ipython3",
   "version": "3.7.4"
  },
  "orig_nbformat": 4
 },
 "nbformat": 4,
 "nbformat_minor": 2
}
